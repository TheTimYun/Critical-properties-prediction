{
 "cells": [
  {
   "cell_type": "code",
   "execution_count": 87,
   "id": "b97f3229-5fb1-4f61-8e6b-8a00ea43ba12",
   "metadata": {},
   "outputs": [],
   "source": [
    "import pandas as pd\n",
    "import numpy as np\n",
    "import pickle\n",
    "import tqdm\n",
    "from tqdm import tqdm\n",
    "from itertools import product\n",
    "import pdfplumber\n",
    "import pubchempy as pcp\n",
    "tqdm.pandas()\n",
    "import rdkit\n",
    "from rdkit import Chem"
   ]
  },
  {
   "cell_type": "markdown",
   "id": "bd8fae1d-88c5-4533-8f6e-11db98861563",
   "metadata": {},
   "source": [
    "First, let's import and curate all datasets from [*Chemicals*](https://chemicals.readthedocs.io/index.html) \n",
    "library. We'll do it iteratively, merging tables after each iteration. Pc will be in **bars**, so we divide pressure in pascals by 100000"
   ]
  },
  {
   "cell_type": "code",
   "execution_count": 2,
   "id": "a9a93874-797f-4da1-89c2-042fc627fa59",
   "metadata": {},
   "outputs": [],
   "source": [
    "df_yaws = pd.read_table('Yaws Collection.tsv')\n",
    "df_yaws['Pc'] = df_yaws['Pc']/100000"
   ]
  },
  {
   "cell_type": "code",
   "execution_count": 3,
   "id": "bc52c884-a337-44db-ab38-81514be6e57c",
   "metadata": {},
   "outputs": [],
   "source": [
    "df_passut=   pd.read_table('PassutDanner1973.tsv')\n",
    "df_passut['Pc']  = df_passut['Pc']/100000"
   ]
  },
  {
   "cell_type": "code",
   "execution_count": 4,
   "id": "80c5cb37-d498-49a2-b2f5-1bf8711215f5",
   "metadata": {},
   "outputs": [],
   "source": [
    "merged = pd.concat([df_yaws, df_passut], axis = 0).reset_index(drop = True)"
   ]
  },
  {
   "cell_type": "code",
   "execution_count": 5,
   "id": "db04f91f-c124-4cc5-a50b-9337b7bf173e",
   "metadata": {},
   "outputs": [],
   "source": [
    "df_PSRK = pd.read_table('Appendix to PSRK Revision 4.tsv')\n",
    "df_PSRK['Pc']  = df_PSRK['Pc']/100000"
   ]
  },
  {
   "cell_type": "code",
   "execution_count": 6,
   "id": "f41f182c-da69-4c62-8980-44b436c474c5",
   "metadata": {},
   "outputs": [],
   "source": [
    "merged = pd.concat([merged, df_PSRK], axis = 0).reset_index(drop = True)"
   ]
  },
  {
   "cell_type": "markdown",
   "id": "3dd1bf76-3d61-4d2e-9c59-0edfc78b2668",
   "metadata": {},
   "source": [
    "As some datasets contain information which is not actual for this work, we drop unnecesary columns. In the example below, we drop \"Tc_error\" and \"Pc_error\""
   ]
  },
  {
   "cell_type": "code",
   "execution_count": 7,
   "id": "2580b0c6-d08d-431d-8c34-1df2d2a5842c",
   "metadata": {},
   "outputs": [],
   "source": [
    "df_CRC = pd.read_table('CRCCriticalOrganics.tsv')\n",
    "df_CRC.drop(columns = ['Tc_error', 'Pc_error', 'Vc_error'], inplace = True)\n",
    "df_CRC['Pc']  = df_CRC['Pc']/100000"
   ]
  },
  {
   "cell_type": "code",
   "execution_count": 8,
   "id": "372d29ce-dbc5-48a1-999d-f8ae4d989175",
   "metadata": {},
   "outputs": [],
   "source": [
    "merged = pd.concat([merged, df_CRC], axis = 0).reset_index(drop = True)"
   ]
  },
  {
   "cell_type": "code",
   "execution_count": 9,
   "id": "8acfdb97-ca7a-43a2-8d4a-103dd6df8477",
   "metadata": {},
   "outputs": [],
   "source": [
    "df_DIPP = pd.read_table('DIPPRPinaMartines.tsv')\n",
    "df_DIPP['Pc'] = df_DIPP['Pc']/100000"
   ]
  },
  {
   "cell_type": "code",
   "execution_count": 10,
   "id": "d1d743b7-64b0-451c-b710-9c99800b5459",
   "metadata": {},
   "outputs": [],
   "source": [
    "merged = pd.concat([merged, df_DIPP], axis = 0).reset_index(drop = True)"
   ]
  },
  {
   "cell_type": "code",
   "execution_count": 11,
   "id": "8a2caab2-4fee-4071-9637-f670217f9336",
   "metadata": {},
   "outputs": [],
   "source": [
    "df_IUPAC = pd.read_table('IUPACOrganicCriticalProps.tsv')\n",
    "df_IUPAC.drop(columns = ['MW', 'Reference'], inplace = True)\n",
    "df_IUPAC['Pc'] = df_IUPAC['Pc']/100000"
   ]
  },
  {
   "cell_type": "code",
   "execution_count": 12,
   "id": "9cab372d-8183-4e16-aaff-0216c65bc9bc",
   "metadata": {},
   "outputs": [],
   "source": [
    "merged = pd.concat([merged, df_IUPAC], axis = 0).reset_index(drop = True)"
   ]
  },
  {
   "cell_type": "markdown",
   "id": "75bdc017-323f-4d1b-a1ee-272a621fdae7",
   "metadata": {},
   "source": [
    "All datasets, processed so far, contain CAS numbers or name of the molecule, so we use [*PubChemPy*](https://pubchempy.readthedocs.io/en/latest/) library to get structure (in SMILES). Function below takes cas number (as string) and return canonical SMILES"
   ]
  },
  {
   "cell_type": "code",
   "execution_count": 43,
   "id": "57d492c4-464e-433f-aa7b-b7f0ab5b5c7c",
   "metadata": {},
   "outputs": [],
   "source": [
    "def CAS_to_smiles(cas):\n",
    "    try:\n",
    "        comp = pcp.get_compounds(cas, 'name')[0]\n",
    "        smi = comp.canonical_smiles\n",
    "        mol = Chem.MolFromSmiles(smi)\n",
    "        can_smi = Chem.MolToSmiles(mol)\n",
    "        return can_smi\n",
    "    except:\n",
    "        return np.NaN\n",
    "    "
   ]
  },
  {
   "cell_type": "markdown",
   "id": "e357dc71-b588-4eae-b838-56485d74dd04",
   "metadata": {},
   "source": [
    "We observed, that in some cases, *PubChemPy* cannot process correctly CAS number. For these cases so  we created a function, that takes the name of the molecule and get its smiles. "
   ]
  },
  {
   "cell_type": "code",
   "execution_count": 85,
   "id": "1024e78a-2890-4378-bd18-6f0507b4e335",
   "metadata": {},
   "outputs": [],
   "source": [
    "def name_to_smiles(name):\n",
    "    try:\n",
    "        comp = pcp.get_compounds(name, 'name')[0]\n",
    "        smi = comp.canonical_smiles\n",
    "        mol = Chem.MolFromSmiles(smi)\n",
    "        can_smi = Chem.MolToSmiles(mol)\n",
    "        return can_smi\n",
    "    except:\n",
    "        return np.NaN"
   ]
  },
  {
   "cell_type": "markdown",
   "id": "f88793de-6a9e-4669-a760-a942f26f3ff4",
   "metadata": {},
   "source": [
    "We apply first function and get SMILES representaion of all molecules "
   ]
  },
  {
   "cell_type": "code",
   "execution_count": 50,
   "id": "453f8c45-7227-4334-abb8-ff3294cfeb1b",
   "metadata": {},
   "outputs": [
    {
     "name": "stderr",
     "output_type": "stream",
     "text": [
      " 20%|██████████████▉                                                            | 2431/12206 [28:22<1:46:43,  1.53it/s][21:20:05] WARNING: not removing hydrogen atom without neighbors\n",
      " 33%|████████████████████████▍                                                  | 3986/12206 [46:58<1:30:12,  1.52it/s][21:38:41] Explicit valence for atom # 1 Cl, 7, is greater than permitted\n",
      " 34%|█████████████████████████▏                                                 | 4098/12206 [48:14<1:34:49,  1.42it/s][21:39:57] WARNING: not removing hydrogen atom without neighbors\n",
      " 34%|█████████████████████████▌                                                 | 4159/12206 [48:53<1:23:41,  1.60it/s][21:40:36] Explicit valence for atom # 1 Br, 3, is greater than permitted\n",
      " 34%|█████████████████████████▌                                                 | 4167/12206 [48:59<1:32:45,  1.44it/s][21:40:42] Explicit valence for atom # 1 Br, 5, is greater than permitted\n",
      " 34%|█████████████████████████▋                                                 | 4189/12206 [49:12<1:24:49,  1.58it/s][21:40:55] Explicit valence for atom # 1 Cl, 3, is greater than permitted\n",
      " 35%|█████████████████████████▉                                                 | 4226/12206 [49:36<1:20:55,  1.64it/s][21:41:19] WARNING: not removing hydrogen atom without neighbors\n",
      " 37%|███████████████████████████▌                                               | 4478/12206 [52:35<1:34:16,  1.37it/s][21:44:18] Explicit valence for atom # 1 Cl, 5, is greater than permitted\n",
      " 39%|█████████████████████████████                                              | 4724/12206 [55:30<1:38:35,  1.26it/s][21:47:13] Explicit valence for atom # 1 I, 7, is greater than permitted\n",
      " 70%|████████████████████████████████████████████████████▋                      | 8571/12206 [1:39:20<42:42,  1.42it/s][22:31:03] WARNING: not removing hydrogen atom without neighbors\n",
      " 71%|█████████████████████████████████████████████████████▎                     | 8685/12206 [1:40:39<35:39,  1.65it/s][22:32:22] WARNING: not removing hydrogen atom without neighbors\n",
      " 85%|██████████████████████████████████████████████████████████████▌           | 10325/12206 [1:59:08<19:10,  1.63it/s][22:50:51] Explicit valence for atom # 1 Cl, 3, is greater than permitted\n",
      " 91%|███████████████████████████████████████████████████████████████████▍      | 11115/12206 [2:08:01<11:43,  1.55it/s][22:59:44] Explicit valence for atom # 1 Cl, 7, is greater than permitted\n",
      "100%|██████████████████████████████████████████████████████████████████████████| 12206/12206 [2:20:11<00:00,  1.45it/s]\n"
     ]
    }
   ],
   "source": [
    "merged['SMILES'] = merged['CAS'].progress_apply(CAS_to_smiles)"
   ]
  },
  {
   "cell_type": "markdown",
   "id": "928c46da-a94f-4b20-9fb9-a74a2249e4e2",
   "metadata": {},
   "source": [
    "Here we get two tables. \"Merged non-valid\" is the one, where **CAS_to_smiles** function was not able to retrieve SMILES, so that SMILES column contains NaNs. Merged valid is the one, where the function was succesfful. Then we apply **name_to_SMILES** for \"merged_non_valid\" to try another time to get structure of molecules"
   ]
  },
  {
   "cell_type": "code",
   "execution_count": 67,
   "id": "982c29df-51c0-4f7b-820c-2fbd233dec33",
   "metadata": {},
   "outputs": [],
   "source": [
    "merged_non_valid = merged[merged['SMILES'].isnull()]\n",
    "merged_valid = merged.dropna(axis = 0, subset = 'SMILES')"
   ]
  },
  {
   "cell_type": "code",
   "execution_count": 87,
   "id": "1d7b6c24-1a65-4e89-9c17-6277121c8e4d",
   "metadata": {},
   "outputs": [
    {
     "name": "stderr",
     "output_type": "stream",
     "text": [
      " 11%|████████▌                                                                      | 127/1170 [01:22<10:29,  1.66it/s][23:24:39] Explicit valence for atom # 1 Cl, 7, is greater than permitted\n",
      " 14%|███████████                                                                    | 163/1170 [01:44<10:07,  1.66it/s][23:25:01] Explicit valence for atom # 1 Br, 3, is greater than permitted\n",
      " 14%|███████████                                                                    | 164/1170 [01:44<10:07,  1.66it/s][23:25:01] Explicit valence for atom # 1 Br, 5, is greater than permitted\n",
      " 14%|███████████▏                                                                   | 165/1170 [01:45<10:29,  1.60it/s][23:25:02] Explicit valence for atom # 1 Cl, 3, is greater than permitted\n",
      " 17%|█████████████▎                                                                 | 198/1170 [02:06<09:44,  1.66it/s][23:25:23] Explicit valence for atom # 1 Cl, 5, is greater than permitted\n",
      " 19%|███████████████                                                                | 224/1170 [02:22<09:24,  1.68it/s][23:25:39] Explicit valence for atom # 1 I, 7, is greater than permitted\n",
      "100%|██████████████████████████████████████████████████████████████████████████████| 1170/1170 [12:08<00:00,  1.61it/s]\n",
      "C:\\Users\\Timur\\AppData\\Local\\Temp\\ipykernel_9704\\212725732.py:1: SettingWithCopyWarning: \n",
      "A value is trying to be set on a copy of a slice from a DataFrame.\n",
      "Try using .loc[row_indexer,col_indexer] = value instead\n",
      "\n",
      "See the caveats in the documentation: https://pandas.pydata.org/pandas-docs/stable/user_guide/indexing.html#returning-a-view-versus-a-copy\n",
      "  merged_non_valid['SMILES'] = merged_non_valid['Chemical'].progress_apply(name_to_smiles)\n"
     ]
    }
   ],
   "source": [
    "merged_non_valid['SMILES'] = merged_non_valid['Chemical'].progress_apply(name_to_smiles)"
   ]
  },
  {
   "cell_type": "markdown",
   "id": "2afca37c-3a31-45ea-9bf9-22b9df6b07e6",
   "metadata": {},
   "source": [
    "We drop deeply unsucessful moecules..."
   ]
  },
  {
   "cell_type": "code",
   "execution_count": 96,
   "id": "283941db-74ce-49d8-b5c4-97f0d7fee9f6",
   "metadata": {},
   "outputs": [],
   "source": [
    "merged_non_valid = merged_non_valid.dropna(axis = 0, subset = 'SMILES')"
   ]
  },
  {
   "cell_type": "markdown",
   "id": "5d4f5ad6-697f-449e-a959-deb281d001f6",
   "metadata": {},
   "source": [
    "We get final table, which does not contain any *NaNs* in **SMILES** column. We dropped **Zc** as we decided to focus on **Tc**, **Pc** and **omega** values as paper dataset that we process further, does not contain **Zc** values"
   ]
  },
  {
   "cell_type": "code",
   "execution_count": 106,
   "id": "c396e571-a8b3-420a-9727-ceb9acd76e86",
   "metadata": {},
   "outputs": [],
   "source": [
    "final_table = pd.concat([merged_valid, merged_non_valid], axis = 0)\n",
    "final_table.drop(columns = ['Zc'], inplace = True)\n",
    "final_table.to_csv('from_chemicals_datasets.csv')\n"
   ]
  },
  {
   "cell_type": "markdown",
   "id": "bddd6070-e22b-427c-ab0c-9a72e3a641ee",
   "metadata": {},
   "source": [
    "Checking the absence of *NaN*s..."
   ]
  },
  {
   "cell_type": "code",
   "execution_count": 108,
   "id": "e7c8b12c-ff20-44f5-a3be-b8be1172abe7",
   "metadata": {},
   "outputs": [
    {
     "data": {
      "text/plain": [
       "CAS            0\n",
       "Chemical    1785\n",
       "Tc             8\n",
       "Pc           295\n",
       "Vc           607\n",
       "omega       4557\n",
       "SMILES         0\n",
       "dtype: int64"
      ]
     },
     "execution_count": 108,
     "metadata": {},
     "output_type": "execute_result"
    }
   ],
   "source": [
    "final_table.isnull().sum()"
   ]
  },
  {
   "cell_type": "markdown",
   "id": "e0783b16-7ea1-411d-b848-78022d8113ab",
   "metadata": {},
   "source": [
    "As SMILES of one molecule can be written in several ways, we should have the same algorithms to get unique SMILES for unique molecule. Not to download more and more libraries, this simple function just turns SMILES string to RDKit molecule object and then, again, get SMILES. [*RDKit*](https://www.rdkit.org/) algorithms allow to get unique SMILES values\n",
    "\n",
    "the name of function is not correct, but let's forget about it :-)"
   ]
  },
  {
   "cell_type": "code",
   "execution_count": 21,
   "id": "ffcf6f5d-fa20-4279-bc5d-bc20eb563bd5",
   "metadata": {},
   "outputs": [],
   "source": [
    "def caconicalize_SMILES(smi):\n",
    "    mol = Chem.MolFromSmiles(smi)\n",
    "    can_smi = Chem.MolToSmiles(mol)\n",
    "    return can_smi"
   ]
  },
  {
   "cell_type": "code",
   "execution_count": 32,
   "id": "05c8c708-dc59-47bc-bbea-6de452103e4e",
   "metadata": {},
   "outputs": [],
   "source": [
    "final_table = pd.read_csv('from_chemicals_datasets.csv', index_col=0).reset_index(drop = True).drop(columns = ['CAS', 'Chemical'])"
   ]
  },
  {
   "cell_type": "markdown",
   "id": "e3f2a4d0-423b-43a8-80e2-f4fc6cdd5979",
   "metadata": {},
   "source": [
    "Here we process dataset from the [article](https://pubs.acs.org/doi/abs/10.1021/acs.jcim.3c00546). We upload .csv fil, drop unnecessary columns and rename the useful ones"
   ]
  },
  {
   "cell_type": "code",
   "execution_count": 26,
   "id": "1634ac4c-0c08-4480-bb2d-c4df2a7df0d9",
   "metadata": {},
   "outputs": [],
   "source": [
    "article_ds = pd.read_csv('./ci3c00546_si_002/CritProp_SI/all_data/experimental_data/critprop_data_only_smiles_mean_value_expt.csv')\n",
    "article_ds = article_ds.rename(columns = {'smiles':'SMILES', 'Tc (K)':'Tc', 'Pc (bar)':'Pc', 'omega (-)':'omega'}).drop(columns = ['rhoc (mol/L)', 'Tb (K)', 'Tm (K)', 'dHvap (kJ/mol)', 'dHfus (kJ/mol)'])"
   ]
  },
  {
   "cell_type": "markdown",
   "id": "d4717950-3e31-400b-a4ee-a41f276e3eb2",
   "metadata": {},
   "source": [
    "We get canonicalized SMILES..."
   ]
  },
  {
   "cell_type": "code",
   "execution_count": 28,
   "id": "1f6319de-25d9-4b78-9b6f-9e4cad5f800e",
   "metadata": {},
   "outputs": [
    {
     "name": "stderr",
     "output_type": "stream",
     "text": [
      "  0%|                                                                                         | 0/5680 [00:00<?, ?it/s][20:22:31] WARNING: not removing hydrogen atom without neighbors\n",
      "100%|████████████████████████████████████████████████████████████████████████████| 5680/5680 [00:00<00:00, 7237.86it/s]\n"
     ]
    }
   ],
   "source": [
    "article_ds['SMILES'] = article_ds['SMILES'].progress_apply(caconicalize_SMILES)"
   ]
  },
  {
   "cell_type": "markdown",
   "id": "ff1ccee6-df90-45f1-be12-26ff0ebfca5a",
   "metadata": {},
   "source": [
    "And finally concatenate tables"
   ]
  },
  {
   "cell_type": "code",
   "execution_count": 35,
   "id": "b52eb219-d7e9-4444-adf9-390eeb3bd9a7",
   "metadata": {},
   "outputs": [],
   "source": [
    "concatenated_table = pd.concat([final_table, article_ds])"
   ]
  },
  {
   "cell_type": "markdown",
   "id": "a8a19526-c1a8-4922-b1fa-87ed6617e19e",
   "metadata": {},
   "source": [
    "We observed, that table containts a lot of duplicates - most of molecules can be encountered in several datasets. As data for the same molecule can be different, we just average it. We group the table by SMILES and aggrgate it with *mean* for **Tc**, **Pc** and **omega**. This way helps us to average values if there are mote than one of them and returns the value if there is one one"
   ]
  },
  {
   "cell_type": "code",
   "execution_count": 80,
   "id": "05913832-ac31-46e6-8f48-6b56f8b77fc6",
   "metadata": {},
   "outputs": [],
   "source": [
    "grouped_table = concatenated_table.groupby(by = 'SMILES').agg({'Tc':'mean', \n",
    "                                               'Pc':'mean',\n",
    "                                               'omega':'mean'}).reset_index()"
   ]
  },
  {
   "cell_type": "markdown",
   "id": "c783fec3-b214-48a4-b997-04cce5fbd15c",
   "metadata": {},
   "source": [
    "Let's get **molecule** columns to facilitate data curation"
   ]
  },
  {
   "cell_type": "code",
   "execution_count": 81,
   "id": "fddc7e14-1c72-4972-88d4-160925ba2ae3",
   "metadata": {},
   "outputs": [
    {
     "name": "stderr",
     "output_type": "stream",
     "text": [
      " 89%|██████████████████████████████████████████████████████████████████▊        | 6709/7533 [00:00<00:00, 11147.60it/s][20:42:53] WARNING: not removing hydrogen atom without neighbors\n",
      "100%|███████████████████████████████████████████████████████████████████████████| 7533/7533 [00:00<00:00, 12000.14it/s]\n"
     ]
    }
   ],
   "source": [
    "grouped_table['mol'] =  grouped_table['SMILES'].progress_apply(Chem.MolFromSmiles)"
   ]
  },
  {
   "cell_type": "markdown",
   "id": "e72a17df-1cdc-4a90-989c-f6bd89ff5b8c",
   "metadata": {},
   "source": [
    "And save all molecules, which are organic. We get if molecule contains atomatic or aliphatic carbon atom with RDKit substructure match, create mask column and use it to get any orgaic molecules of interest"
   ]
  },
  {
   "cell_type": "code",
   "execution_count": 83,
   "id": "e6d06f94-e154-4ec8-96ed-e9bacc2fe3c8",
   "metadata": {},
   "outputs": [
    {
     "name": "stderr",
     "output_type": "stream",
     "text": [
      "100%|███████████████████████████████████████████████████████████████████████████| 7533/7533 [00:00<00:00, 57280.39it/s]\n"
     ]
    }
   ],
   "source": [
    "grouped_table['Is_organic'] = grouped_table['mol'].progress_apply(lambda x: x.HasSubstructMatch(Chem.MolFromSmarts('[C,c]')))\n",
    "grouped_table = grouped_table[grouped_table['Is_organic']]"
   ]
  },
  {
   "cell_type": "markdown",
   "id": "d3ea0357-66c7-4333-9987-6210bad214e6",
   "metadata": {},
   "source": [
    "Also, we remove molecules, which consist of more than one fragments - salts, mixtures, etc. We get number of fragments with RDkit function, create mask column and use it to get valid molecules"
   ]
  },
  {
   "cell_type": "code",
   "execution_count": 84,
   "id": "e5a40796-5277-4645-8f37-1a7a274e8548",
   "metadata": {},
   "outputs": [
    {
     "name": "stderr",
     "output_type": "stream",
     "text": [
      "100%|██████████████████████████████████████████████████████████████████████████| 7115/7115 [00:00<00:00, 171389.28it/s]\n"
     ]
    }
   ],
   "source": [
    "grouped_table['num_fragments'] = grouped_table['mol'].progress_apply(lambda x: len(Chem.GetMolFrags(x)) < 2)\n",
    "grouped_table = grouped_table[grouped_table['num_fragments']]"
   ]
  },
  {
   "cell_type": "markdown",
   "id": "28f2180d-4e66-4343-a014-7c2b78d690e4",
   "metadata": {},
   "source": [
    "And save the table"
   ]
  },
  {
   "cell_type": "code",
   "execution_count": 86,
   "id": "829063ce-cb3b-4144-af45-1288686d0cf5",
   "metadata": {},
   "outputs": [],
   "source": [
    "grouped_table.to_csv('grouped_table.csv')"
   ]
  }
 ],
 "metadata": {
  "kernelspec": {
   "display_name": "Python 3 (ipykernel)",
   "language": "python",
   "name": "python3"
  },
  "language_info": {
   "codemirror_mode": {
    "name": "ipython",
    "version": 3
   },
   "file_extension": ".py",
   "mimetype": "text/x-python",
   "name": "python",
   "nbconvert_exporter": "python",
   "pygments_lexer": "ipython3",
   "version": "3.11.9"
  }
 },
 "nbformat": 4,
 "nbformat_minor": 5
}
