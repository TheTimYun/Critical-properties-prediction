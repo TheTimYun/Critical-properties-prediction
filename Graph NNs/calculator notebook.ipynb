{
 "cells": [
  {
   "cell_type": "code",
   "execution_count": 1,
   "id": "8ec636dc-7f79-495b-a79e-453f074de854",
   "metadata": {},
   "outputs": [
    {
     "name": "stderr",
     "output_type": "stream",
     "text": [
      "C:\\Users\\Timur\\anaconda3\\envs\\ChemInfo-Pytorch\\Lib\\site-packages\\torch_geometric\\typing.py:86: UserWarning: An issue occurred while importing 'torch-scatter'. Disabling its usage. Stacktrace: [WinError 127] Не найдена указанная процедура\n",
      "  warnings.warn(f\"An issue occurred while importing 'torch-scatter'. \"\n",
      "C:\\Users\\Timur\\anaconda3\\envs\\ChemInfo-Pytorch\\Lib\\site-packages\\torch_geometric\\typing.py:124: UserWarning: An issue occurred while importing 'torch-sparse'. Disabling its usage. Stacktrace: [WinError 127] Не найдена указанная процедура\n",
      "  warnings.warn(f\"An issue occurred while importing 'torch-sparse'. \"\n"
     ]
    }
   ],
   "source": [
    "import numpy as np\n",
    "import pandas as pd\n",
    "from rdkit import Chem\n",
    "from torch_geometric.data import Data\n",
    "import torch.nn as nn\n",
    "import torch\n",
    "from chemlib import Element\n",
    "from torch_geometric.nn import global_mean_pool, GraphConv, NNConv, EdgeConv\n",
    "import pickle\n",
    "import warnings\n",
    "warnings.filterwarnings(\"ignore\")"
   ]
  },
  {
   "cell_type": "code",
   "execution_count": 3,
   "id": "5a51c195-3b76-4e7f-b928-a9a385cdf301",
   "metadata": {},
   "outputs": [],
   "source": [
    "def make_edge_features(mol):\n",
    "    edge_features = np.zeros([mol.GetNumBonds(), 4])\n",
    "    for i, bond in enumerate(mol.GetBonds()):\n",
    "        if bond.GetBondTypeAsDouble() == 1.0:\n",
    "            edge_features[i,0] = 1\n",
    "        elif bond.GetBondTypeAsDouble() == 2.0:\n",
    "            edge_features[i,1] = 1\n",
    "        elif bond.GetBondTypeAsDouble() == 3.0:\n",
    "            edge_features[i, 2] = 1\n",
    "        else:\n",
    "            edge_features[i, 3] = 1\n",
    "    return torch.tensor(edge_features, dtype = torch.float32)\n",
    "\n",
    "\n",
    "def make_x(mol):\n",
    "    atom_properties = []\n",
    "    \n",
    "    for atom in mol.GetAtoms():\n",
    "        _el = Element(atom.GetSymbol())\n",
    "        atom_properties.append([atom.GetAtomicNum(), atom.GetMass(), int(atom.GetIsAromatic()), atom.GetExplicitValence(), \n",
    "                                atom.GetImplicitValence(), atom.GetTotalValence(), \n",
    "                                atom.GetNumExplicitHs(), atom.GetNumImplicitHs(), atom.GetTotalNumHs(),\n",
    "                                atom.GetDegree(), atom.GetTotalDegree(), atom.GetFormalCharge(),\n",
    "                               int(atom.IsInRing()), _el.Electronegativity, _el.FirstIonization, _el.AtomicRadius, _el.SpecificHeat\n",
    "                               ])\n",
    "    x = torch.tensor(atom_properties, dtype = torch.float32)\n",
    "    return x\n",
    "\n",
    "def make_edge_indices(mol):\n",
    "    start_atoms = []\n",
    "    end_atoms = []\n",
    "    for bond in mol.GetBonds():\n",
    "        start_atoms.append(bond.GetBeginAtomIdx())\n",
    "        end_atoms.append(bond.GetEndAtomIdx())\n",
    "    edge_indice = torch.tensor([start_atoms, end_atoms], dtype = torch.int64)\n",
    "    return edge_indice\n",
    "\n",
    "\n",
    "class GraphNet(nn.Module):\n",
    "    def __init__(self, num_node_features = 17,\n",
    "                n1 = 200,\n",
    "                n2 = 500,\n",
    "                n3 = 500,\n",
    "                n4 = 500):\n",
    "        super().__init__()\n",
    "        conv_1_nn = nn.Sequential(nn.Linear(4, 200), nn.ReLU(), nn.Linear(200, 17*n1))\n",
    "        self.conv_1 = NNConv(17, n1, nn = conv_1_nn)\n",
    "        self.a1_con = nn.ReLU()\n",
    "        \n",
    "        conv_2_nn = nn.Sequential(nn.Linear(2*n1, n2), nn.ReLU(), nn.Linear(n2, n2))\n",
    "        self.conv_2 = EdgeConv(nn = conv_2_nn)\n",
    "        self.a2_con = nn.ReLU()\n",
    "        \n",
    "        conv_3_nn = nn.Sequential(nn.Linear(2*n2, n3), nn.ReLU(), nn.Linear(n3, n3))\n",
    "        self.conv_3 = EdgeConv(nn = conv_3_nn)\n",
    "        self.a3_con = nn.ReLU()\n",
    "        \n",
    "        self.conv_4 = GraphConv(in_channels = n3, out_channels = n4)\n",
    "        self.a4_con = nn.ReLU()\n",
    "        self.dropout_1 = nn.Dropout(p = 0.3)\n",
    "        self.a1 = nn.CELU()\n",
    "        self.linear_1 = nn.Linear(in_features = n4, out_features = 1000)\n",
    "        self.a2 = nn.CELU()\n",
    "        self.linear_2 = nn.Linear(in_features = 1000, out_features = 1000)\n",
    "        self.a3 = nn.CELU()\n",
    "        self.linear_3 = nn.Linear(in_features = 1000, out_features = 1)\n",
    "    def forward(self, data):\n",
    "        x, edge_index, edge_attrs =  (data.x, data.edge_index, data.edge_features)\n",
    "        x = self.a1_con(self.conv_1(x = x, edge_index = edge_index, edge_attr = edge_attrs))\n",
    "        x = self.a2_con(self.conv_2(x = x, edge_index = edge_index))\n",
    "        x = self.a3_con(self.conv_3(x = x, edge_index = edge_index))\n",
    "        x = self.a4_con(self.conv_4(x = x, edge_index = edge_index))\n",
    "        if hasattr(data, 'batch'):\n",
    "            x = global_mean_pool(x, batch = data.batch)\n",
    "        else:\n",
    "            x = torch.mean(x, dim = 0, keepdim = True)\n",
    "        #x = self.a1(x)\n",
    "        x = self.dropout_1(x)\n",
    "        x = self.linear_1(x)\n",
    "        x = self.a2(x)\n",
    "        x = self.linear_2(x)\n",
    "        x = self.a3(x)\n",
    "        x = self.linear_3(x)\n",
    "        return x\n",
    "\n"
   ]
  },
  {
   "cell_type": "code",
   "execution_count": 5,
   "id": "c1a78989-c890-4a6c-96f6-0119c56fca72",
   "metadata": {
    "scrolled": true
   },
   "outputs": [
    {
     "data": {
      "text/plain": [
       "GraphNet(\n",
       "  (conv_1): NNConv(17, 400, aggr=add, nn=Sequential(\n",
       "    (0): Linear(in_features=4, out_features=200, bias=True)\n",
       "    (1): ReLU()\n",
       "    (2): Linear(in_features=200, out_features=6800, bias=True)\n",
       "  ))\n",
       "  (a1_con): ReLU()\n",
       "  (conv_2): EdgeConv(nn=Sequential(\n",
       "    (0): Linear(in_features=800, out_features=700, bias=True)\n",
       "    (1): ReLU()\n",
       "    (2): Linear(in_features=700, out_features=700, bias=True)\n",
       "  ))\n",
       "  (a2_con): ReLU()\n",
       "  (conv_3): EdgeConv(nn=Sequential(\n",
       "    (0): Linear(in_features=1400, out_features=500, bias=True)\n",
       "    (1): ReLU()\n",
       "    (2): Linear(in_features=500, out_features=500, bias=True)\n",
       "  ))\n",
       "  (a3_con): ReLU()\n",
       "  (conv_4): GraphConv(500, 800)\n",
       "  (a4_con): ReLU()\n",
       "  (dropout_1): Dropout(p=0.3, inplace=False)\n",
       "  (a1): CELU(alpha=1.0)\n",
       "  (linear_1): Linear(in_features=800, out_features=1000, bias=True)\n",
       "  (a2): CELU(alpha=1.0)\n",
       "  (linear_2): Linear(in_features=1000, out_features=1000, bias=True)\n",
       "  (a3): CELU(alpha=1.0)\n",
       "  (linear_3): Linear(in_features=1000, out_features=1, bias=True)\n",
       ")"
      ]
     },
     "execution_count": 5,
     "metadata": {},
     "output_type": "execute_result"
    }
   ],
   "source": [
    "with open('best_config_temperature.pickle', 'rb') as inp:\n",
    "    best_config_Tc = pickle.load(inp)\n",
    "\n",
    "temperature_model = GraphNet(n1 = best_config_Tc['n1'],\n",
    "                             n2 = best_config_Tc['n2'], \n",
    "                             n3 = best_config_Tc['n3'],\n",
    "                             n4 = best_config_Tc ['n4'])\n",
    "\n",
    "with open('temperature_model.pth', 'rb') as inp:\n",
    "    temperature_model = torch.load(inp)\n",
    "temperature_model.to('cpu')\n",
    "\n",
    "with open('best_config_pressure.pickle', 'rb') as inp:\n",
    "    best_config_Pc = pickle.load(inp)\n",
    "pressure_model = GraphNet(n1 = best_config_Pc['n1'],\n",
    "                             n2 = best_config_Pc['n2'], \n",
    "                             n3 = best_config_Pc['n3'],\n",
    "                             n4 = best_config_Pc ['n4'])\n",
    "\n",
    "with open('pressure_model.pth', 'rb') as inp:\n",
    "    pressure_model = torch.load(inp)\n",
    "pressure_model.to('cpu')\n",
    "\n",
    "with open('best_config_omega.pickle', 'rb') as inp:\n",
    "    best_config_omega = pickle.load(inp)\n",
    "\n",
    "omega_model = GraphNet(n1 = best_config_omega['n1'],\n",
    "                             n2 = best_config_omega['n2'], \n",
    "                             n3 = best_config_omega['n3'],\n",
    "                             n4 = best_config_omega ['n4'])\n",
    "\n",
    "with open('omega_model.pth', 'rb') as inp:\n",
    "    omega_model = torch.load(inp)\n",
    "omega_model.to('cpu')"
   ]
  },
  {
   "cell_type": "code",
   "execution_count": 6,
   "id": "003baaff-1536-4964-848b-948856b9ddfd",
   "metadata": {},
   "outputs": [
    {
     "name": "stdin",
     "output_type": "stream",
     "text": [
      "Enter SMILES CC\n"
     ]
    },
    {
     "name": "stdout",
     "output_type": "stream",
     "text": [
      "Tc of your molecule is :  306.3812255859375\n",
      "Pc of your molecule is :  43.817176818847656\n",
      "Omega of your molecule is :  0.3717525005340576\n"
     ]
    }
   ],
   "source": [
    "smi = input('Enter SMILES')\n",
    "mol = Chem.MolFromSmiles(smi)\n",
    "data = Data(x = make_x(mol), edge_index = make_edge_indices(mol), edge_features = make_edge_features(mol))\n",
    "print('Tc of your molecule is : ', temperature_model(data).item())\n",
    "print('Pc of your molecule is : ', pressure_model(data).item())\n",
    "print('Omega of your molecule is : ', omega_model(data).item())"
   ]
  }
 ],
 "metadata": {
  "kernelspec": {
   "display_name": "Python 3 (ipykernel)",
   "language": "python",
   "name": "python3"
  },
  "language_info": {
   "codemirror_mode": {
    "name": "ipython",
    "version": 3
   },
   "file_extension": ".py",
   "mimetype": "text/x-python",
   "name": "python",
   "nbconvert_exporter": "python",
   "pygments_lexer": "ipython3",
   "version": "3.11.9"
  }
 },
 "nbformat": 4,
 "nbformat_minor": 5
}
