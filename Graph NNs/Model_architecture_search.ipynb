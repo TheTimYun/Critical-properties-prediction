{
 "cells": [
  {
   "cell_type": "code",
   "execution_count": 38,
   "id": "c3090f46-7c4e-4820-84c8-f0121e55d9c3",
   "metadata": {},
   "outputs": [],
   "source": [
    "import torch\n",
    "import torch.nn as nn\n",
    "import pandas as pd\n",
    "from rdkit import Chem\n",
    "from tqdm import tqdm\n",
    "from rdkit.Chem import rdmolops\n",
    "import numpy as np\n",
    "from torch_geometric.data import Data, Dataset, DataLoader\n",
    "from torch_geometric.loader import DataLoader\n",
    "from torch_geometric.nn import GraphConv, global_add_pool, global_mean_pool, global_max_pool, EdgeConv, GravNetConv, NNConv\n",
    "from sklearn.metrics import r2_score, root_mean_squared_error\n",
    "from sklearn.model_selection import train_test_split\n",
    "device = 'cuda:0'\n",
    "import wandb\n",
    "tqdm.pandas()\n",
    "import seaborn as sns\n",
    "from rdkit.Chem import rdPartialCharges\n",
    "from chemlib import Element"
   ]
  },
  {
   "cell_type": "markdown",
   "id": "aaed3c44-40dd-4390-8314-bb34a330f51f",
   "metadata": {},
   "source": [
    "Let's load the table and create molecule column"
   ]
  },
  {
   "cell_type": "code",
   "execution_count": 3,
   "id": "a216fc66-606d-4825-b7ea-dafa9682263a",
   "metadata": {},
   "outputs": [
    {
     "name": "stderr",
     "output_type": "stream",
     "text": [
      "Failed to detect the name of this notebook, you can set it manually with the WANDB_NOTEBOOK_NAME environment variable to enable code saving.\n",
      "wandb: Using wandb-core as the SDK backend.  Please refer to https://wandb.me/wandb-core for more information.\n",
      "wandb: Currently logged in as: timyun. Use `wandb login --relogin` to force relogin\n",
      "wandb: WARNING If you're specifying your api key in code, ensure this code is not shared publicly.\n",
      "wandb: WARNING Consider setting the WANDB_API_KEY environment variable, or running `wandb login` from the command line.\n",
      "wandb: Appending key for api.wandb.ai to your netrc file: C:\\Users\\Timur\\.netrc\n"
     ]
    },
    {
     "data": {
      "text/plain": [
       "True"
      ]
     },
     "execution_count": 3,
     "metadata": {},
     "output_type": "execute_result"
    }
   ],
   "source": [
    "wandb.login(key = '32fdd85d94d1d691086ba1adae4171709b3cdc5d')"
   ]
  },
  {
   "cell_type": "code",
   "execution_count": 4,
   "id": "ad86a311-6a98-4f96-a4fe-edb6e9735300",
   "metadata": {},
   "outputs": [
    {
     "name": "stderr",
     "output_type": "stream",
     "text": [
      "100%|██████████| 7104/7104 [00:00<00:00, 11430.19it/s]\n"
     ]
    }
   ],
   "source": [
    "df = pd.read_csv('grouped_table.csv', index_col=0).drop(columns = ['mol'])\n",
    "df['mol'] = df['SMILES'].progress_apply(lambda x: Chem.MolFromSmiles(x))"
   ]
  },
  {
   "cell_type": "code",
   "execution_count": 5,
   "id": "7a23427d-c4af-41fc-b790-da116a3d05f9",
   "metadata": {},
   "outputs": [
    {
     "data": {
      "image/png": "[encoded data removed]",
      "text/plain": [
       "<rdkit.Chem.rdchem.Mol at 0x19360df7c30>"
      ]
     },
     "execution_count": 5,
     "metadata": {},
     "output_type": "execute_result"
    }
   ],
   "source": [
    "df.mol.iloc[6]"
   ]
  },
  {
   "cell_type": "markdown",
   "id": "bb0f9498-8725-407c-b050-8b62b0ad3419",
   "metadata": {},
   "source": [
    "Now it's time tto make dataset"
   ]
  },
  {
   "cell_type": "code",
   "execution_count": 6,
   "id": "5cf9cab9-41b3-4679-bba9-4d24e8ca8e9b",
   "metadata": {},
   "outputs": [
    {
     "data": {
      "image/png": "[encoded data removed]",
      "text/plain": [
       "<rdkit.Chem.rdchem.Mol at 0x193610c0970>"
      ]
     },
     "execution_count": 6,
     "metadata": {},
     "output_type": "execute_result"
    }
   ],
   "source": [
    "test_molecule = df['mol'].iloc[871]\n",
    "test_molecule"
   ]
  },
  {
   "cell_type": "code",
   "execution_count": 7,
   "id": "4205336e-e376-4770-9ad8-a732bad37957",
   "metadata": {},
   "outputs": [],
   "source": [
    "def get_bond_types(test_molecule):\n",
    "    return [bond.GetBondTypeAsDouble() for bond in test_molecule.GetBonds()]"
   ]
  },
  {
   "cell_type": "code",
   "execution_count": 8,
   "id": "12eb2baf-36b2-4a34-87c1-525ae75a4d66",
   "metadata": {},
   "outputs": [
    {
     "name": "stderr",
     "output_type": "stream",
     "text": [
      "100%|██████████| 7104/7104 [00:00<00:00, 21569.77it/s]\n"
     ]
    }
   ],
   "source": [
    "bond_nums = []\n",
    "for molecule in tqdm(df['mol']):\n",
    "    temp = get_bond_types(molecule)\n",
    "    for element in temp:\n",
    "        if element not in bond_nums:\n",
    "            bond_nums.append(element)"
   ]
  },
  {
   "cell_type": "code",
   "execution_count": 9,
   "id": "f25698dd-bfa0-4da8-87cc-dc6af294c329",
   "metadata": {},
   "outputs": [],
   "source": [
    "def make_edge_features(test_molecule):\n",
    "    edge_features = np.zeros([test_molecule.GetNumBonds(), 4])\n",
    "    for i, bond in enumerate(test_molecule.GetBonds()):\n",
    "        if bond.GetBondTypeAsDouble() == 1.0:\n",
    "            edge_features[i,0] = 1\n",
    "        elif bond.GetBondTypeAsDouble() == 2.0:\n",
    "            edge_features[i,1] = 1\n",
    "        elif bond.GetBondTypeAsDouble() == 3.0:\n",
    "            edge_features[i, 2] = 1\n",
    "        else:\n",
    "            edge_features[i, 3] = 1\n",
    "    return torch.tensor(edge_features, dtype = torch.float32)"
   ]
  },
  {
   "cell_type": "code",
   "execution_count": 10,
   "id": "b8045508-6900-4c76-a78d-0433c3caff3f",
   "metadata": {},
   "outputs": [],
   "source": [
    "def make_x(mol):\n",
    "    atom_properties = []\n",
    "    \n",
    "    for atom in mol.GetAtoms():\n",
    "        _el = Element(atom.GetSymbol())\n",
    "        atom_properties.append([atom.GetAtomicNum(), atom.GetMass(), int(atom.GetIsAromatic()), atom.GetExplicitValence(), \n",
    "                                atom.GetImplicitValence(), atom.GetTotalValence(), \n",
    "                                atom.GetNumExplicitHs(), atom.GetNumImplicitHs(), atom.GetTotalNumHs(),\n",
    "                                atom.GetDegree(), atom.GetTotalDegree(), atom.GetFormalCharge(),\n",
    "                               int(atom.IsInRing()), _el.Electronegativity, _el.FirstIonization, _el.AtomicRadius, _el.SpecificHeat\n",
    "                               ])\n",
    "    x = torch.tensor(atom_properties, dtype = torch.float32)\n",
    "    return x"
   ]
  },
  {
   "cell_type": "code",
   "execution_count": 11,
   "id": "81ff2eaa-ebe4-43bd-99f6-79d340698023",
   "metadata": {},
   "outputs": [],
   "source": [
    "def make_edge_indices(mol):\n",
    "    start_atoms = []\n",
    "    end_atoms = []\n",
    "    for bond in mol.GetBonds():\n",
    "        start_atoms.append(bond.GetBeginAtomIdx())\n",
    "        end_atoms.append(bond.GetEndAtomIdx())\n",
    "    edge_indice = torch.tensor([start_atoms, end_atoms], dtype = torch.int64)\n",
    "    return edge_indice\n"
   ]
  },
  {
   "cell_type": "code",
   "execution_count": 12,
   "id": "eaea5234-303b-4efb-a309-43a8b56abe7a",
   "metadata": {},
   "outputs": [],
   "source": [
    "class CriticalDataset(Dataset):\n",
    "    def __init__(self, frame, labels = None, transform = None, property = 'Tc'):\n",
    "        super().__init__()\n",
    "        self.property = 'Tc'\n",
    "        self.df = frame[~frame[self.property].isnull()]\n",
    "        self.labels = None\n",
    "        self.transform = None\n",
    "    def get(self, idx):\n",
    "        mol = self.df['mol'].iloc[idx]\n",
    "        #print(Chem.MolToSmiles(mol))\n",
    "        try:\n",
    "            x = make_x(mol)\n",
    "        except:\n",
    "            print('Invalid mol - cannot make x')\n",
    "        try:\n",
    "            edge_indices = make_edge_indices(mol)\n",
    "        except:\n",
    "            print('Invalid mol - cannot make edge indice')\n",
    "        try:\n",
    "            edge_features = make_edge_features(mol)\n",
    "        except:\n",
    "            print('Invalid mol - cannot make edge features')\n",
    "        y = torch.tensor(self.df[self.property].iloc[idx], dtype = torch.float32)\n",
    "        data = Data(x=x, edge_index=edge_indices, y = y, edge_features = edge_features)\n",
    "        return data\n",
    "    def len(self):\n",
    "        return(len(self.df))\n",
    "        \n",
    "    \n",
    "        \n",
    "\n",
    "            \n",
    "            \n",
    "\n",
    "            \n",
    "        \n",
    "    "
   ]
  },
  {
   "cell_type": "code",
   "execution_count": 13,
   "id": "5a41fb11-3145-4424-a0aa-34b6722ad8cf",
   "metadata": {},
   "outputs": [],
   "source": [
    "train, test = train_test_split(df, random_state=0)"
   ]
  },
  {
   "cell_type": "code",
   "execution_count": 14,
   "id": "c824c058-1d5c-4006-92be-f104c382f2d8",
   "metadata": {},
   "outputs": [],
   "source": [
    "train_dset = CriticalDataset(frame = train)\n",
    "test_dset = CriticalDataset(frame = test)\n",
    "DL_train = DataLoader(train_dset, batch_size = 2)\n",
    "DL_test = DataLoader(test_dset, batch_size=2)"
   ]
  },
  {
   "cell_type": "code",
   "execution_count": 50,
   "id": "81524438-1450-4aa6-bc82-f5cf0b6775db",
   "metadata": {},
   "outputs": [],
   "source": [
    "class GraphNet(nn.Module):\n",
    "    def __init__(self, num_node_features = 17):\n",
    "        super().__init__()\n",
    "        conv_1_nn = nn.Sequential(nn.Linear(4, 200), nn.ReLU(), nn.Linear(200, 17*500))\n",
    "        self.conv_1 = NNConv(17, 500, nn = conv_1_nn)\n",
    "        self.a1_con = nn.ReLU()\n",
    "        \n",
    "        conv_2_nn = nn.Sequential(nn.Linear(2*500, 500), nn.ReLU(), nn.Linear(500, 500))\n",
    "        self.conv_2 = EdgeConv(nn = conv_2_nn)\n",
    "        self.a2_con = nn.ReLU()\n",
    "        \n",
    "        conv_3_nn = nn.Sequential(nn.Linear(2*500, 500), nn.ReLU(), nn.Linear(500, 500))\n",
    "        self.conv_3 = EdgeConv(nn = conv_2_nn)\n",
    "        self.a3_con = nn.ReLU()\n",
    "        \n",
    "        self.conv_4 = GraphConv(in_channels = 500, out_channels = 500)\n",
    "        self.a4_con = nn.ReLU()\n",
    "        self.dropout_1 = nn.Dropout(p = 0.3)\n",
    "        self.a1 = nn.CELU()\n",
    "        self.linear_1 = nn.Linear(in_features = 500, out_features = 1000)\n",
    "        self.a2 = nn.CELU()\n",
    "        self.linear_2 = nn.Linear(in_features = 1000, out_features = 1000)\n",
    "        self.a3 = nn.CELU()\n",
    "        self.linear_3 = nn.Linear(in_features = 1000, out_features = 1)\n",
    "    def forward(self, data):\n",
    "        x, edge_index, edge_attrs =  (data.x, data.edge_index, data.edge_features)\n",
    "        x = self.a1_con(self.conv_1(x = x, edge_index = edge_index, edge_attr = edge_attrs))\n",
    "        x = self.a2_con(self.conv_2(x = x, edge_index = edge_index))\n",
    "        x = self.a3_con(self.conv_3(x = x, edge_index = edge_index))\n",
    "        x = self.a4_con(self.conv_4(x = x, edge_index = edge_index))\n",
    "        if hasattr(data, 'batch'):\n",
    "            x = global_mean_pool(x, batch = data.batch)\n",
    "        else:\n",
    "            x = torch.mean(x, dim = 0, keepdim = True)\n",
    "        #x = self.a1(x)\n",
    "        x = self.dropout_1(x)\n",
    "        x = self.linear_1(x)\n",
    "        x = self.a2(x)\n",
    "        x = self.linear_2(x)\n",
    "        x = self.a3(x)\n",
    "        x = self.linear_3(x)\n",
    "        return x\n",
    "\n"
   ]
  },
  {
   "cell_type": "code",
   "execution_count": 51,
   "id": "35acc0ce-55a1-493b-a6f7-44b6064de456",
   "metadata": {},
   "outputs": [
    {
     "data": {
      "text/plain": [
       "tensor([[-0.0059]], grad_fn=<AddmmBackward0>)"
      ]
     },
     "execution_count": 51,
     "metadata": {},
     "output_type": "execute_result"
    }
   ],
   "source": [
    "model = GraphNet()\n",
    "model(train_dset[0])"
   ]
  },
  {
   "cell_type": "code",
   "execution_count": 60,
   "id": "77db3edf-2493-4f18-82fb-05a1fb1817dc",
   "metadata": {},
   "outputs": [
    {
     "data": {
      "text/html": [
       "Finishing last run (ID:j1w7922c) before initializing another..."
      ],
      "text/plain": [
       "<IPython.core.display.HTML object>"
      ]
     },
     "metadata": {},
     "output_type": "display_data"
    },
    {
     "data": {
      "text/html": [
       "\n",
       "    <style>\n",
       "        .wandb-row {\n",
       "            display: flex;\n",
       "            flex-direction: row;\n",
       "            flex-wrap: wrap;\n",
       "            justify-content: flex-start;\n",
       "            width: 100%;\n",
       "        }\n",
       "        .wandb-col {\n",
       "            display: flex;\n",
       "            flex-direction: column;\n",
       "            flex-basis: 100%;\n",
       "            flex: 1;\n",
       "            padding: 10px;\n",
       "        }\n",
       "    </style>\n",
       "<div class=\"wandb-row\"><div class=\"wandb-col\"><h3>Run history:</h3><br/><table class=\"wandb\"><tr><td>train_loss</td><td>█▅▄▄▄▃▃▃▃▃▃▂▂▂▂▂▂▂▂▂▂▂▂▁▁▁▁▁▁▁▁▁▁▁▁</td></tr><tr><td>train_rmse</td><td>█▅▅▄▄▄▄▃▃▃▃▃▃▃▂▂▂▂▂▂▂▂▂▂▂▂▁▁▁▁▁▁▁▁▁</td></tr><tr><td>valid_loss</td><td>█▇▅▅▇▆▆▅▅▄▄▄▃▃▄▂▂▂▃▂▂▂▂▁▁▂▂▁▁▂▂▂▁▂▁</td></tr><tr><td>valid_r2</td><td>▂▄▄▄▁▃▁▃▃▄▅▄▆▆▆▇▇▇▇▇▇▇▇██▇▇███▇▇███</td></tr><tr><td>valid_rmse</td><td>█▇▆▅▇▇▇▆▆▅▅▅▄▄▄▃▃▂▃▃▂▂▂▁▁▂▃▁▁▂▂▂▁▂▁</td></tr></table><br/></div><div class=\"wandb-col\"><h3>Run summary:</h3><br/><table class=\"wandb\"><tr><td>train_loss</td><td>3892.42005</td></tr><tr><td>train_rmse</td><td>62.38926</td></tr><tr><td>valid_loss</td><td>794.73538</td></tr><tr><td>valid_r2</td><td>0.86366</td></tr><tr><td>valid_rmse</td><td>28.19105</td></tr></table><br/></div></div>"
      ],
      "text/plain": [
       "<IPython.core.display.HTML object>"
      ]
     },
     "metadata": {},
     "output_type": "display_data"
    },
    {
     "data": {
      "text/html": [
       " View run <strong style=\"color:#cdcd00\">alluring-flower-39</strong> at: <a href='https://wandb.ai/timyun/critical_temperature_prediction_GNN/runs/j1w7922c' target=\"_blank\">https://wandb.ai/timyun/critical_temperature_prediction_GNN/runs/j1w7922c</a><br/> View project at: <a href='https://wandb.ai/timyun/critical_temperature_prediction_GNN' target=\"_blank\">https://wandb.ai/timyun/critical_temperature_prediction_GNN</a><br/>Synced 5 W&B file(s), 0 media file(s), 0 artifact file(s) and 0 other file(s)"
      ],
      "text/plain": [
       "<IPython.core.display.HTML object>"
      ]
     },
     "metadata": {},
     "output_type": "display_data"
    },
    {
     "data": {
      "text/html": [
       "Find logs at: <code>.\\wandb\\run-20250214_215707-j1w7922c\\logs</code>"
      ],
      "text/plain": [
       "<IPython.core.display.HTML object>"
      ]
     },
     "metadata": {},
     "output_type": "display_data"
    },
    {
     "data": {
      "text/html": [
       "Successfully finished last run (ID:j1w7922c). Initializing new run:<br/>"
      ],
      "text/plain": [
       "<IPython.core.display.HTML object>"
      ]
     },
     "metadata": {},
     "output_type": "display_data"
    },
    {
     "data": {
      "text/html": [
       "Tracking run with wandb version 0.18.7"
      ],
      "text/plain": [
       "<IPython.core.display.HTML object>"
      ]
     },
     "metadata": {},
     "output_type": "display_data"
    },
    {
     "data": {
      "text/html": [
       "Run data is saved locally in <code>C:\\Users\\Timur\\Cheminformatics\\Practice\\Critical properties prediction\\GNN\\wandb\\run-20250214_222039-d9u5x23r</code>"
      ],
      "text/plain": [
       "<IPython.core.display.HTML object>"
      ]
     },
     "metadata": {},
     "output_type": "display_data"
    },
    {
     "data": {
      "text/html": [
       "Syncing run <strong><a href='https://wandb.ai/timyun/critical_temperature_prediction_GNN/runs/d9u5x23r' target=\"_blank\">caring-romance-40</a></strong> to <a href='https://wandb.ai/timyun/critical_temperature_prediction_GNN' target=\"_blank\">Weights & Biases</a> (<a href='https://wandb.me/developer-guide' target=\"_blank\">docs</a>)<br/>"
      ],
      "text/plain": [
       "<IPython.core.display.HTML object>"
      ]
     },
     "metadata": {},
     "output_type": "display_data"
    },
    {
     "data": {
      "text/html": [
       " View project at <a href='https://wandb.ai/timyun/critical_temperature_prediction_GNN' target=\"_blank\">https://wandb.ai/timyun/critical_temperature_prediction_GNN</a>"
      ],
      "text/plain": [
       "<IPython.core.display.HTML object>"
      ]
     },
     "metadata": {},
     "output_type": "display_data"
    },
    {
     "data": {
      "text/html": [
       " View run at <a href='https://wandb.ai/timyun/critical_temperature_prediction_GNN/runs/d9u5x23r' target=\"_blank\">https://wandb.ai/timyun/critical_temperature_prediction_GNN/runs/d9u5x23r</a>"
      ],
      "text/plain": [
       "<IPython.core.display.HTML object>"
      ]
     },
     "metadata": {},
     "output_type": "display_data"
    },
    {
     "data": {
      "text/html": [
       "<button onClick=\"this.nextSibling.style.display='block';this.style.display='none';\">Display W&B run</button><iframe src='https://wandb.ai/timyun/critical_temperature_prediction_GNN/runs/d9u5x23r?jupyter=true' style='border:none;width:100%;height:420px;display:none;'></iframe>"
      ],
      "text/plain": [
       "<wandb.sdk.wandb_run.Run at 0x19345655bd0>"
      ]
     },
     "execution_count": 60,
     "metadata": {},
     "output_type": "execute_result"
    }
   ],
   "source": [
    "model = GraphNet()\n",
    "model.to(device)\n",
    "lr = 0.0001\n",
    "epochs = 60\n",
    "\n",
    "loss_fn = nn.MSELoss()\n",
    "optimizer = torch.optim.Adam(model.parameters(), lr = lr)\n",
    "\n",
    "wandb.init(project = 'critical_temperature_prediction_GNN', \n",
    "           config = {'learning_rate':lr,\n",
    "                     'acrhitecture':'NNConv(17->500) -> EdgeConv(500 ->500) -> Relu -> EdgeConv(500 ->500) -> ReLU -> GraphConv(500 ->500) -> ReLU -> global_mean_pool -> ReLU -> dropout -> Linear (500 ->1000) -> ReLU -> Linear(1000 -> 1000)-> ReLU -> Linear(1000 ->1)',\n",
    "                     'dataset':'Critical dataset',\n",
    "                     'epochs':epochs})"
   ]
  },
  {
   "cell_type": "code",
   "execution_count": 61,
   "id": "ef71ba05-528e-4c26-8ef6-bd8de64316a5",
   "metadata": {
    "scrolled": true
   },
   "outputs": [
    {
     "name": "stderr",
     "output_type": "stream",
     "text": [
      "C:\\Users\\Timur\\anaconda3\\envs\\ChemInfo-Pytorch\\Lib\\site-packages\\torch_geometric\\warnings.py:11: UserWarning: The usage of `scatter(reduce='max')` can be accelerated via the 'torch-scatter' package, but it was not found\n",
      "  warnings.warn(message)\n"
     ]
    },
    {
     "name": "stdout",
     "output_type": "stream",
     "text": [
      "train loss in epoch 0 is 12951.14192736566, valid_loss is 2409.032571735208, r2_valid is 0.29275840520858765 \n"
     ]
    },
    {
     "name": "stderr",
     "output_type": "stream",
     "text": [
      "C:\\Users\\Timur\\anaconda3\\envs\\ChemInfo-Pytorch\\Lib\\site-packages\\torch_geometric\\warnings.py:11: UserWarning: The usage of `scatter(reduce='max')` can be accelerated via the 'torch-scatter' package, but it was not found\n",
      "  warnings.warn(message)\n",
      "C:\\Users\\Timur\\anaconda3\\envs\\ChemInfo-Pytorch\\Lib\\site-packages\\torch_geometric\\warnings.py:11: UserWarning: The usage of `scatter(reduce='max')` can be accelerated via the 'torch-scatter' package, but it was not found\n",
      "  warnings.warn(message)\n"
     ]
    },
    {
     "name": "stdout",
     "output_type": "stream",
     "text": [
      "train loss in epoch 2 is 7794.2768550930095, valid_loss is 1865.7253284892051, r2_valid is 0.5864355564117432 \n"
     ]
    },
    {
     "name": "stderr",
     "output_type": "stream",
     "text": [
      "C:\\Users\\Timur\\anaconda3\\envs\\ChemInfo-Pytorch\\Lib\\site-packages\\torch_geometric\\warnings.py:11: UserWarning: The usage of `scatter(reduce='max')` can be accelerated via the 'torch-scatter' package, but it was not found\n",
      "  warnings.warn(message)\n",
      "C:\\Users\\Timur\\anaconda3\\envs\\ChemInfo-Pytorch\\Lib\\site-packages\\torch_geometric\\warnings.py:11: UserWarning: The usage of `scatter(reduce='max')` can be accelerated via the 'torch-scatter' package, but it was not found\n",
      "  warnings.warn(message)\n"
     ]
    },
    {
     "name": "stdout",
     "output_type": "stream",
     "text": [
      "train loss in epoch 4 is 7112.152381441226, valid_loss is 1897.9842957245542, r2_valid is 0.44111698865890503 \n"
     ]
    },
    {
     "name": "stderr",
     "output_type": "stream",
     "text": [
      "C:\\Users\\Timur\\anaconda3\\envs\\ChemInfo-Pytorch\\Lib\\site-packages\\torch_geometric\\warnings.py:11: UserWarning: The usage of `scatter(reduce='max')` can be accelerated via the 'torch-scatter' package, but it was not found\n",
      "  warnings.warn(message)\n",
      "C:\\Users\\Timur\\anaconda3\\envs\\ChemInfo-Pytorch\\Lib\\site-packages\\torch_geometric\\warnings.py:11: UserWarning: The usage of `scatter(reduce='max')` can be accelerated via the 'torch-scatter' package, but it was not found\n",
      "  warnings.warn(message)\n"
     ]
    },
    {
     "name": "stdout",
     "output_type": "stream",
     "text": [
      "train loss in epoch 6 is 6676.352704548361, valid_loss is 2019.0326519890034, r2_valid is 0.39973020553588867 \n"
     ]
    },
    {
     "name": "stderr",
     "output_type": "stream",
     "text": [
      "C:\\Users\\Timur\\anaconda3\\envs\\ChemInfo-Pytorch\\Lib\\site-packages\\torch_geometric\\warnings.py:11: UserWarning: The usage of `scatter(reduce='max')` can be accelerated via the 'torch-scatter' package, but it was not found\n",
      "  warnings.warn(message)\n",
      "C:\\Users\\Timur\\anaconda3\\envs\\ChemInfo-Pytorch\\Lib\\site-packages\\torch_geometric\\warnings.py:11: UserWarning: The usage of `scatter(reduce='max')` can be accelerated via the 'torch-scatter' package, but it was not found\n",
      "  warnings.warn(message)\n"
     ]
    },
    {
     "name": "stdout",
     "output_type": "stream",
     "text": [
      "train loss in epoch 8 is 6336.257993633692, valid_loss is 1905.2033525098059, r2_valid is 0.3870033025741577 \n"
     ]
    },
    {
     "name": "stderr",
     "output_type": "stream",
     "text": [
      "C:\\Users\\Timur\\anaconda3\\envs\\ChemInfo-Pytorch\\Lib\\site-packages\\torch_geometric\\warnings.py:11: UserWarning: The usage of `scatter(reduce='max')` can be accelerated via the 'torch-scatter' package, but it was not found\n",
      "  warnings.warn(message)\n",
      "C:\\Users\\Timur\\anaconda3\\envs\\ChemInfo-Pytorch\\Lib\\site-packages\\torch_geometric\\warnings.py:11: UserWarning: The usage of `scatter(reduce='max')` can be accelerated via the 'torch-scatter' package, but it was not found\n",
      "  warnings.warn(message)\n"
     ]
    },
    {
     "name": "stdout",
     "output_type": "stream",
     "text": [
      "train loss in epoch 10 is 5960.872967593728, valid_loss is 1709.3919741891618, r2_valid is 0.4693336486816406 \n"
     ]
    },
    {
     "name": "stderr",
     "output_type": "stream",
     "text": [
      "C:\\Users\\Timur\\anaconda3\\envs\\ChemInfo-Pytorch\\Lib\\site-packages\\torch_geometric\\warnings.py:11: UserWarning: The usage of `scatter(reduce='max')` can be accelerated via the 'torch-scatter' package, but it was not found\n",
      "  warnings.warn(message)\n",
      "C:\\Users\\Timur\\anaconda3\\envs\\ChemInfo-Pytorch\\Lib\\site-packages\\torch_geometric\\warnings.py:11: UserWarning: The usage of `scatter(reduce='max')` can be accelerated via the 'torch-scatter' package, but it was not found\n",
      "  warnings.warn(message)\n"
     ]
    },
    {
     "name": "stdout",
     "output_type": "stream",
     "text": [
      "train loss in epoch 12 is 5619.256055874828, valid_loss is 1454.685872304186, r2_valid is 0.5959734916687012 \n"
     ]
    },
    {
     "name": "stderr",
     "output_type": "stream",
     "text": [
      "C:\\Users\\Timur\\anaconda3\\envs\\ChemInfo-Pytorch\\Lib\\site-packages\\torch_geometric\\warnings.py:11: UserWarning: The usage of `scatter(reduce='max')` can be accelerated via the 'torch-scatter' package, but it was not found\n",
      "  warnings.warn(message)\n",
      "C:\\Users\\Timur\\anaconda3\\envs\\ChemInfo-Pytorch\\Lib\\site-packages\\torch_geometric\\warnings.py:11: UserWarning: The usage of `scatter(reduce='max')` can be accelerated via the 'torch-scatter' package, but it was not found\n",
      "  warnings.warn(message)\n"
     ]
    },
    {
     "name": "stdout",
     "output_type": "stream",
     "text": [
      "train loss in epoch 14 is 5383.345496904668, valid_loss is 1122.292712744971, r2_valid is 0.7187012434005737 \n"
     ]
    },
    {
     "name": "stderr",
     "output_type": "stream",
     "text": [
      "C:\\Users\\Timur\\anaconda3\\envs\\ChemInfo-Pytorch\\Lib\\site-packages\\torch_geometric\\warnings.py:11: UserWarning: The usage of `scatter(reduce='max')` can be accelerated via the 'torch-scatter' package, but it was not found\n",
      "  warnings.warn(message)\n",
      "C:\\Users\\Timur\\anaconda3\\envs\\ChemInfo-Pytorch\\Lib\\site-packages\\torch_geometric\\warnings.py:11: UserWarning: The usage of `scatter(reduce='max')` can be accelerated via the 'torch-scatter' package, but it was not found\n",
      "  warnings.warn(message)\n"
     ]
    },
    {
     "name": "stdout",
     "output_type": "stream",
     "text": [
      "train loss in epoch 16 is 5117.6598703998925, valid_loss is 1416.398540487315, r2_valid is 0.6604412794113159 \n"
     ]
    },
    {
     "name": "stderr",
     "output_type": "stream",
     "text": [
      "C:\\Users\\Timur\\anaconda3\\envs\\ChemInfo-Pytorch\\Lib\\site-packages\\torch_geometric\\warnings.py:11: UserWarning: The usage of `scatter(reduce='max')` can be accelerated via the 'torch-scatter' package, but it was not found\n",
      "  warnings.warn(message)\n",
      "C:\\Users\\Timur\\anaconda3\\envs\\ChemInfo-Pytorch\\Lib\\site-packages\\torch_geometric\\warnings.py:11: UserWarning: The usage of `scatter(reduce='max')` can be accelerated via the 'torch-scatter' package, but it was not found\n",
      "  warnings.warn(message)\n"
     ]
    },
    {
     "name": "stdout",
     "output_type": "stream",
     "text": [
      "train loss in epoch 18 is 5073.2583335055815, valid_loss is 1074.8415238089112, r2_valid is 0.7438673973083496 \n"
     ]
    },
    {
     "name": "stderr",
     "output_type": "stream",
     "text": [
      "C:\\Users\\Timur\\anaconda3\\envs\\ChemInfo-Pytorch\\Lib\\site-packages\\torch_geometric\\warnings.py:11: UserWarning: The usage of `scatter(reduce='max')` can be accelerated via the 'torch-scatter' package, but it was not found\n",
      "  warnings.warn(message)\n",
      "C:\\Users\\Timur\\anaconda3\\envs\\ChemInfo-Pytorch\\Lib\\site-packages\\torch_geometric\\warnings.py:11: UserWarning: The usage of `scatter(reduce='max')` can be accelerated via the 'torch-scatter' package, but it was not found\n",
      "  warnings.warn(message)\n"
     ]
    },
    {
     "name": "stdout",
     "output_type": "stream",
     "text": [
      "train loss in epoch 20 is 4811.738256157254, valid_loss is 1247.7987008883235, r2_valid is 0.7039210796356201 \n"
     ]
    },
    {
     "name": "stderr",
     "output_type": "stream",
     "text": [
      "C:\\Users\\Timur\\anaconda3\\envs\\ChemInfo-Pytorch\\Lib\\site-packages\\torch_geometric\\warnings.py:11: UserWarning: The usage of `scatter(reduce='max')` can be accelerated via the 'torch-scatter' package, but it was not found\n",
      "  warnings.warn(message)\n",
      "C:\\Users\\Timur\\anaconda3\\envs\\ChemInfo-Pytorch\\Lib\\site-packages\\torch_geometric\\warnings.py:11: UserWarning: The usage of `scatter(reduce='max')` can be accelerated via the 'torch-scatter' package, but it was not found\n",
      "  warnings.warn(message)\n"
     ]
    },
    {
     "name": "stdout",
     "output_type": "stream",
     "text": [
      "train loss in epoch 22 is 4641.6352976497465, valid_loss is 884.4096115857272, r2_valid is 0.8319857120513916 \n"
     ]
    },
    {
     "name": "stderr",
     "output_type": "stream",
     "text": [
      "C:\\Users\\Timur\\anaconda3\\envs\\ChemInfo-Pytorch\\Lib\\site-packages\\torch_geometric\\warnings.py:11: UserWarning: The usage of `scatter(reduce='max')` can be accelerated via the 'torch-scatter' package, but it was not found\n",
      "  warnings.warn(message)\n",
      "C:\\Users\\Timur\\anaconda3\\envs\\ChemInfo-Pytorch\\Lib\\site-packages\\torch_geometric\\warnings.py:11: UserWarning: The usage of `scatter(reduce='max')` can be accelerated via the 'torch-scatter' package, but it was not found\n",
      "  warnings.warn(message)\n"
     ]
    },
    {
     "name": "stdout",
     "output_type": "stream",
     "text": [
      "train loss in epoch 24 is 4609.35142810497, valid_loss is 874.523285115345, r2_valid is 0.8415216207504272 \n"
     ]
    },
    {
     "name": "stderr",
     "output_type": "stream",
     "text": [
      "C:\\Users\\Timur\\anaconda3\\envs\\ChemInfo-Pytorch\\Lib\\site-packages\\torch_geometric\\warnings.py:11: UserWarning: The usage of `scatter(reduce='max')` can be accelerated via the 'torch-scatter' package, but it was not found\n",
      "  warnings.warn(message)\n",
      "C:\\Users\\Timur\\anaconda3\\envs\\ChemInfo-Pytorch\\Lib\\site-packages\\torch_geometric\\warnings.py:11: UserWarning: The usage of `scatter(reduce='max')` can be accelerated via the 'torch-scatter' package, but it was not found\n",
      "  warnings.warn(message)\n"
     ]
    },
    {
     "name": "stdout",
     "output_type": "stream",
     "text": [
      "train loss in epoch 26 is 4374.49830666666, valid_loss is 859.4221944463652, r2_valid is 0.8357073068618774 \n"
     ]
    },
    {
     "name": "stderr",
     "output_type": "stream",
     "text": [
      "C:\\Users\\Timur\\anaconda3\\envs\\ChemInfo-Pytorch\\Lib\\site-packages\\torch_geometric\\warnings.py:11: UserWarning: The usage of `scatter(reduce='max')` can be accelerated via the 'torch-scatter' package, but it was not found\n",
      "  warnings.warn(message)\n",
      "C:\\Users\\Timur\\anaconda3\\envs\\ChemInfo-Pytorch\\Lib\\site-packages\\torch_geometric\\warnings.py:11: UserWarning: The usage of `scatter(reduce='max')` can be accelerated via the 'torch-scatter' package, but it was not found\n",
      "  warnings.warn(message)\n"
     ]
    },
    {
     "name": "stdout",
     "output_type": "stream",
     "text": [
      "train loss in epoch 28 is 4272.912351764654, valid_loss is 957.9993019766358, r2_valid is 0.8185513615608215 \n"
     ]
    },
    {
     "name": "stderr",
     "output_type": "stream",
     "text": [
      "C:\\Users\\Timur\\anaconda3\\envs\\ChemInfo-Pytorch\\Lib\\site-packages\\torch_geometric\\warnings.py:11: UserWarning: The usage of `scatter(reduce='max')` can be accelerated via the 'torch-scatter' package, but it was not found\n",
      "  warnings.warn(message)\n",
      "C:\\Users\\Timur\\anaconda3\\envs\\ChemInfo-Pytorch\\Lib\\site-packages\\torch_geometric\\warnings.py:11: UserWarning: The usage of `scatter(reduce='max')` can be accelerated via the 'torch-scatter' package, but it was not found\n",
      "  warnings.warn(message)\n"
     ]
    },
    {
     "name": "stdout",
     "output_type": "stream",
     "text": [
      "train loss in epoch 30 is 4197.765465182376, valid_loss is 786.1090005976179, r2_valid is 0.8558387160301208 \n"
     ]
    },
    {
     "name": "stderr",
     "output_type": "stream",
     "text": [
      "C:\\Users\\Timur\\anaconda3\\envs\\ChemInfo-Pytorch\\Lib\\site-packages\\torch_geometric\\warnings.py:11: UserWarning: The usage of `scatter(reduce='max')` can be accelerated via the 'torch-scatter' package, but it was not found\n",
      "  warnings.warn(message)\n",
      "C:\\Users\\Timur\\anaconda3\\envs\\ChemInfo-Pytorch\\Lib\\site-packages\\torch_geometric\\warnings.py:11: UserWarning: The usage of `scatter(reduce='max')` can be accelerated via the 'torch-scatter' package, but it was not found\n",
      "  warnings.warn(message)\n"
     ]
    },
    {
     "name": "stdout",
     "output_type": "stream",
     "text": [
      "train loss in epoch 32 is 4262.012770282272, valid_loss is 935.213439022299, r2_valid is 0.8233165144920349 \n"
     ]
    },
    {
     "name": "stderr",
     "output_type": "stream",
     "text": [
      "C:\\Users\\Timur\\anaconda3\\envs\\ChemInfo-Pytorch\\Lib\\site-packages\\torch_geometric\\warnings.py:11: UserWarning: The usage of `scatter(reduce='max')` can be accelerated via the 'torch-scatter' package, but it was not found\n",
      "  warnings.warn(message)\n",
      "C:\\Users\\Timur\\anaconda3\\envs\\ChemInfo-Pytorch\\Lib\\site-packages\\torch_geometric\\warnings.py:11: UserWarning: The usage of `scatter(reduce='max')` can be accelerated via the 'torch-scatter' package, but it was not found\n",
      "  warnings.warn(message)\n"
     ]
    },
    {
     "name": "stdout",
     "output_type": "stream",
     "text": [
      "train loss in epoch 34 is 3963.8225617529156, valid_loss is 810.8782552673733, r2_valid is 0.8558792471885681 \n"
     ]
    },
    {
     "name": "stderr",
     "output_type": "stream",
     "text": [
      "C:\\Users\\Timur\\anaconda3\\envs\\ChemInfo-Pytorch\\Lib\\site-packages\\torch_geometric\\warnings.py:11: UserWarning: The usage of `scatter(reduce='max')` can be accelerated via the 'torch-scatter' package, but it was not found\n",
      "  warnings.warn(message)\n",
      "C:\\Users\\Timur\\anaconda3\\envs\\ChemInfo-Pytorch\\Lib\\site-packages\\torch_geometric\\warnings.py:11: UserWarning: The usage of `scatter(reduce='max')` can be accelerated via the 'torch-scatter' package, but it was not found\n",
      "  warnings.warn(message)\n"
     ]
    },
    {
     "name": "stdout",
     "output_type": "stream",
     "text": [
      "train loss in epoch 36 is 3856.070405262984, valid_loss is 872.5037796434298, r2_valid is 0.855107307434082 \n"
     ]
    },
    {
     "name": "stderr",
     "output_type": "stream",
     "text": [
      "C:\\Users\\Timur\\anaconda3\\envs\\ChemInfo-Pytorch\\Lib\\site-packages\\torch_geometric\\warnings.py:11: UserWarning: The usage of `scatter(reduce='max')` can be accelerated via the 'torch-scatter' package, but it was not found\n",
      "  warnings.warn(message)\n",
      "C:\\Users\\Timur\\anaconda3\\envs\\ChemInfo-Pytorch\\Lib\\site-packages\\torch_geometric\\warnings.py:11: UserWarning: The usage of `scatter(reduce='max')` can be accelerated via the 'torch-scatter' package, but it was not found\n",
      "  warnings.warn(message)\n"
     ]
    },
    {
     "name": "stdout",
     "output_type": "stream",
     "text": [
      "train loss in epoch 38 is 3739.9919604946367, valid_loss is 765.6389739075693, r2_valid is 0.8694716691970825 \n"
     ]
    },
    {
     "name": "stderr",
     "output_type": "stream",
     "text": [
      "C:\\Users\\Timur\\anaconda3\\envs\\ChemInfo-Pytorch\\Lib\\site-packages\\torch_geometric\\warnings.py:11: UserWarning: The usage of `scatter(reduce='max')` can be accelerated via the 'torch-scatter' package, but it was not found\n",
      "  warnings.warn(message)\n",
      "C:\\Users\\Timur\\anaconda3\\envs\\ChemInfo-Pytorch\\Lib\\site-packages\\torch_geometric\\warnings.py:11: UserWarning: The usage of `scatter(reduce='max')` can be accelerated via the 'torch-scatter' package, but it was not found\n",
      "  warnings.warn(message)\n"
     ]
    },
    {
     "name": "stdout",
     "output_type": "stream",
     "text": [
      "train loss in epoch 40 is 3680.2471993317063, valid_loss is 718.3503216751644, r2_valid is 0.8711907863616943 \n"
     ]
    },
    {
     "name": "stderr",
     "output_type": "stream",
     "text": [
      "C:\\Users\\Timur\\anaconda3\\envs\\ChemInfo-Pytorch\\Lib\\site-packages\\torch_geometric\\warnings.py:11: UserWarning: The usage of `scatter(reduce='max')` can be accelerated via the 'torch-scatter' package, but it was not found\n",
      "  warnings.warn(message)\n",
      "C:\\Users\\Timur\\anaconda3\\envs\\ChemInfo-Pytorch\\Lib\\site-packages\\torch_geometric\\warnings.py:11: UserWarning: The usage of `scatter(reduce='max')` can be accelerated via the 'torch-scatter' package, but it was not found\n",
      "  warnings.warn(message)\n"
     ]
    },
    {
     "name": "stdout",
     "output_type": "stream",
     "text": [
      "train loss in epoch 42 is 3627.233645135975, valid_loss is 664.3048406216194, r2_valid is 0.8859375715255737 \n"
     ]
    },
    {
     "name": "stderr",
     "output_type": "stream",
     "text": [
      "C:\\Users\\Timur\\anaconda3\\envs\\ChemInfo-Pytorch\\Lib\\site-packages\\torch_geometric\\warnings.py:11: UserWarning: The usage of `scatter(reduce='max')` can be accelerated via the 'torch-scatter' package, but it was not found\n",
      "  warnings.warn(message)\n",
      "C:\\Users\\Timur\\anaconda3\\envs\\ChemInfo-Pytorch\\Lib\\site-packages\\torch_geometric\\warnings.py:11: UserWarning: The usage of `scatter(reduce='max')` can be accelerated via the 'torch-scatter' package, but it was not found\n",
      "  warnings.warn(message)\n"
     ]
    },
    {
     "name": "stdout",
     "output_type": "stream",
     "text": [
      "train loss in epoch 44 is 3535.8395374364454, valid_loss is 756.6099770689445, r2_valid is 0.8530361652374268 \n"
     ]
    },
    {
     "name": "stderr",
     "output_type": "stream",
     "text": [
      "C:\\Users\\Timur\\anaconda3\\envs\\ChemInfo-Pytorch\\Lib\\site-packages\\torch_geometric\\warnings.py:11: UserWarning: The usage of `scatter(reduce='max')` can be accelerated via the 'torch-scatter' package, but it was not found\n",
      "  warnings.warn(message)\n",
      "C:\\Users\\Timur\\anaconda3\\envs\\ChemInfo-Pytorch\\Lib\\site-packages\\torch_geometric\\warnings.py:11: UserWarning: The usage of `scatter(reduce='max')` can be accelerated via the 'torch-scatter' package, but it was not found\n",
      "  warnings.warn(message)\n"
     ]
    },
    {
     "name": "stdout",
     "output_type": "stream",
     "text": [
      "train loss in epoch 46 is 3542.2933344095086, valid_loss is 807.8263561600338, r2_valid is 0.8529934883117676 \n"
     ]
    },
    {
     "name": "stderr",
     "output_type": "stream",
     "text": [
      "C:\\Users\\Timur\\anaconda3\\envs\\ChemInfo-Pytorch\\Lib\\site-packages\\torch_geometric\\warnings.py:11: UserWarning: The usage of `scatter(reduce='max')` can be accelerated via the 'torch-scatter' package, but it was not found\n",
      "  warnings.warn(message)\n",
      "C:\\Users\\Timur\\anaconda3\\envs\\ChemInfo-Pytorch\\Lib\\site-packages\\torch_geometric\\warnings.py:11: UserWarning: The usage of `scatter(reduce='max')` can be accelerated via the 'torch-scatter' package, but it was not found\n",
      "  warnings.warn(message)\n"
     ]
    },
    {
     "name": "stdout",
     "output_type": "stream",
     "text": [
      "train loss in epoch 48 is 3414.3122360061247, valid_loss is 751.4446930919013, r2_valid is 0.8672985434532166 \n"
     ]
    },
    {
     "name": "stderr",
     "output_type": "stream",
     "text": [
      "C:\\Users\\Timur\\anaconda3\\envs\\ChemInfo-Pytorch\\Lib\\site-packages\\torch_geometric\\warnings.py:11: UserWarning: The usage of `scatter(reduce='max')` can be accelerated via the 'torch-scatter' package, but it was not found\n",
      "  warnings.warn(message)\n",
      "C:\\Users\\Timur\\anaconda3\\envs\\ChemInfo-Pytorch\\Lib\\site-packages\\torch_geometric\\warnings.py:11: UserWarning: The usage of `scatter(reduce='max')` can be accelerated via the 'torch-scatter' package, but it was not found\n",
      "  warnings.warn(message)\n"
     ]
    },
    {
     "name": "stdout",
     "output_type": "stream",
     "text": [
      "train loss in epoch 50 is 3341.9450167042473, valid_loss is 750.4670355589557, r2_valid is 0.8709494471549988 \n"
     ]
    },
    {
     "name": "stderr",
     "output_type": "stream",
     "text": [
      "C:\\Users\\Timur\\anaconda3\\envs\\ChemInfo-Pytorch\\Lib\\site-packages\\torch_geometric\\warnings.py:11: UserWarning: The usage of `scatter(reduce='max')` can be accelerated via the 'torch-scatter' package, but it was not found\n",
      "  warnings.warn(message)\n",
      "C:\\Users\\Timur\\anaconda3\\envs\\ChemInfo-Pytorch\\Lib\\site-packages\\torch_geometric\\warnings.py:11: UserWarning: The usage of `scatter(reduce='max')` can be accelerated via the 'torch-scatter' package, but it was not found\n",
      "  warnings.warn(message)\n"
     ]
    },
    {
     "name": "stdout",
     "output_type": "stream",
     "text": [
      "train loss in epoch 52 is 3349.232497945036, valid_loss is 760.2908871426182, r2_valid is 0.8714203834533691 \n"
     ]
    },
    {
     "name": "stderr",
     "output_type": "stream",
     "text": [
      "C:\\Users\\Timur\\anaconda3\\envs\\ChemInfo-Pytorch\\Lib\\site-packages\\torch_geometric\\warnings.py:11: UserWarning: The usage of `scatter(reduce='max')` can be accelerated via the 'torch-scatter' package, but it was not found\n",
      "  warnings.warn(message)\n",
      "C:\\Users\\Timur\\anaconda3\\envs\\ChemInfo-Pytorch\\Lib\\site-packages\\torch_geometric\\warnings.py:11: UserWarning: The usage of `scatter(reduce='max')` can be accelerated via the 'torch-scatter' package, but it was not found\n",
      "  warnings.warn(message)\n"
     ]
    },
    {
     "name": "stdout",
     "output_type": "stream",
     "text": [
      "train loss in epoch 54 is 3293.3538173752313, valid_loss is 774.5527528757744, r2_valid is 0.8608312606811523 \n"
     ]
    },
    {
     "name": "stderr",
     "output_type": "stream",
     "text": [
      "C:\\Users\\Timur\\anaconda3\\envs\\ChemInfo-Pytorch\\Lib\\site-packages\\torch_geometric\\warnings.py:11: UserWarning: The usage of `scatter(reduce='max')` can be accelerated via the 'torch-scatter' package, but it was not found\n",
      "  warnings.warn(message)\n",
      "C:\\Users\\Timur\\anaconda3\\envs\\ChemInfo-Pytorch\\Lib\\site-packages\\torch_geometric\\warnings.py:11: UserWarning: The usage of `scatter(reduce='max')` can be accelerated via the 'torch-scatter' package, but it was not found\n",
      "  warnings.warn(message)\n"
     ]
    },
    {
     "name": "stdout",
     "output_type": "stream",
     "text": [
      "train loss in epoch 56 is 3234.767215020418, valid_loss is 770.4291429821843, r2_valid is 0.8649792671203613 \n"
     ]
    },
    {
     "name": "stderr",
     "output_type": "stream",
     "text": [
      "C:\\Users\\Timur\\anaconda3\\envs\\ChemInfo-Pytorch\\Lib\\site-packages\\torch_geometric\\warnings.py:11: UserWarning: The usage of `scatter(reduce='max')` can be accelerated via the 'torch-scatter' package, but it was not found\n",
      "  warnings.warn(message)\n",
      "C:\\Users\\Timur\\anaconda3\\envs\\ChemInfo-Pytorch\\Lib\\site-packages\\torch_geometric\\warnings.py:11: UserWarning: The usage of `scatter(reduce='max')` can be accelerated via the 'torch-scatter' package, but it was not found\n",
      "  warnings.warn(message)\n"
     ]
    },
    {
     "name": "stdout",
     "output_type": "stream",
     "text": [
      "train loss in epoch 58 is 3200.0752144483317, valid_loss is 699.4547429616418, r2_valid is 0.8706966042518616 \n"
     ]
    },
    {
     "name": "stderr",
     "output_type": "stream",
     "text": [
      "C:\\Users\\Timur\\anaconda3\\envs\\ChemInfo-Pytorch\\Lib\\site-packages\\torch_geometric\\warnings.py:11: UserWarning: The usage of `scatter(reduce='max')` can be accelerated via the 'torch-scatter' package, but it was not found\n",
      "  warnings.warn(message)\n"
     ]
    }
   ],
   "source": [
    "for n in range(epochs):\n",
    "    epoch_train_loss = 0\n",
    "    total_graphs = 0\n",
    "    model.train()\n",
    "    for batch in DL_train:\n",
    "        batch.to(device)\n",
    "        optimizer.zero_grad()\n",
    "        output = model(batch)\n",
    "        loss = loss_fn(output.flatten(), batch.y)\n",
    "        loss.backward()\n",
    "        optimizer.step()\n",
    "        epoch_train_loss+= loss.item()\n",
    "        total_graphs += batch.num_graphs\n",
    "    train_avg_loss = epoch_train_loss/total_graphs\n",
    "    wandb.log({'train_loss':train_avg_loss, 'train_rmse':np.sqrt(train_avg_loss)})\n",
    "    model.eval()\n",
    "    epoch_valid_loss = 0\n",
    "    total_graphs = 0\n",
    "    predictions = []\n",
    "    ys = []\n",
    "    for batch in DL_test:\n",
    "        batch.to(device)\n",
    "        output = model(batch)\n",
    "        loss = loss_fn(output.flatten(), batch.y)\n",
    "        epoch_valid_loss += loss.item()\n",
    "        total_graphs += batch.num_graphs\n",
    "        predictions.append(output)\n",
    "        ys.append(batch.y)\n",
    "    valid_avg_loss = epoch_valid_loss / total_graphs\n",
    "    predictions = torch.cat(predictions, dim = 0).detach().cpu().numpy()\n",
    "    ys = torch.cat(ys, dim = 0).cpu().numpy()\n",
    "    r2_valid = r2_score(predictions.squeeze(), ys)\n",
    "    wandb.log({'valid_loss':valid_avg_loss, \n",
    "              'valid_rmse':np.sqrt(valid_avg_loss), \n",
    "               'valid_r2':r2_valid})\n",
    "    if n%2 ==0:\n",
    "        print(\"train loss in epoch {} is {}, valid_loss is {}, r2_valid is {} \".format(n, train_avg_loss, valid_avg_loss, r2_valid))"
   ]
  },
  {
   "cell_type": "code",
   "execution_count": 56,
   "id": "58277ecc-7c4e-4308-8836-25b31c8c1370",
   "metadata": {},
   "outputs": [
    {
     "name": "stderr",
     "output_type": "stream",
     "text": [
      "C:\\Users\\Timur\\anaconda3\\envs\\ChemInfo-Pytorch\\Lib\\site-packages\\torch_geometric\\warnings.py:11: UserWarning: The usage of `scatter(reduce='max')` can be accelerated via the 'torch-scatter' package, but it was not found\n",
      "  warnings.warn(message)\n"
     ]
    }
   ],
   "source": [
    "model.eval()\n",
    "predictions = []\n",
    "ys = []\n",
    "\n",
    "for batch in DL_test:\n",
    "    batch.to(device)\n",
    "    output = model(batch)\n",
    "    predictions.append(output)\n",
    "    ys.append(batch.y)\n",
    "predictions = torch.cat(predictions, dim = 0).detach().cpu().numpy()\n",
    "ys = torch.cat(ys, dim = 0).cpu().numpy()"
   ]
  },
  {
   "cell_type": "code",
   "execution_count": 57,
   "id": "8abed2f6-c860-4b3b-bdc8-aae77847e3a0",
   "metadata": {},
   "outputs": [
    {
     "data": {
      "text/plain": [
       "<Axes: >"
      ]
     },
     "execution_count": 57,
     "metadata": {},
     "output_type": "execute_result"
    },
    {
     "data": {
      "image/png": "[encoded data removed]",
      "text/plain": [
       "<Figure size 640x480 with 1 Axes>"
      ]
     },
     "metadata": {},
     "output_type": "display_data"
    }
   ],
   "source": [
    "sns.scatterplot(x = predictions.squeeze(), y = ys)"
   ]
  },
  {
   "cell_type": "code",
   "execution_count": 58,
   "id": "abf75c36-ffa4-404d-9c5d-b64bc9bafd46",
   "metadata": {},
   "outputs": [
    {
     "data": {
      "text/plain": [
       "39.86632"
      ]
     },
     "execution_count": 58,
     "metadata": {},
     "output_type": "execute_result"
    }
   ],
   "source": [
    "root_mean_squared_error(predictions.squeeze(), ys)"
   ]
  }
 ],
 "metadata": {
  "kernelspec": {
   "display_name": "Python 3 (ipykernel)",
   "language": "python",
   "name": "python3"
  },
  "language_info": {
   "codemirror_mode": {
    "name": "ipython",
    "version": 3
   },
   "file_extension": ".py",
   "mimetype": "text/x-python",
   "name": "python",
   "nbconvert_exporter": "python",
   "pygments_lexer": "ipython3",
   "version": "3.11.9"
  }
 },
 "nbformat": 4,
 "nbformat_minor": 5
}
