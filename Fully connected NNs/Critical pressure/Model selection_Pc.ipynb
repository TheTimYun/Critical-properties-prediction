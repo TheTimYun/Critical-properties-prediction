{
 "cells": [
  {
   "cell_type": "code",
   "execution_count": 1,
   "id": "afa5289a-3bba-4ce5-ba4a-fc7c5aa0b8ae",
   "metadata": {},
   "outputs": [],
   "source": [
    "from sklearn.compose import ColumnTransformer\n",
    "from sklearn.preprocessing import MinMaxScaler\n",
    "from sklearn.model_selection import train_test_split\n",
    "import pandas as pd\n",
    "import numpy as np\n",
    "import torch.nn as nn\n",
    "import torch\n",
    "from torch.nn import MSELoss\n",
    "from torch.utils.data import TensorDataset, DataLoader\n",
    "from tqdm import tqdm\n",
    "from sklearn.metrics import r2_score, root_mean_squared_error\n",
    "import wandb\n",
    "import seaborn as sns\n",
    "import matplotlib.pyplot as plt"
   ]
  },
  {
   "cell_type": "markdown",
   "id": "a3ce85e5-db44-4ce9-addb-622af2d3039b",
   "metadata": {},
   "source": [
    "Let's login into wandb"
   ]
  },
  {
   "cell_type": "code",
   "execution_count": 2,
   "id": "04d0782e-fa67-4d2e-982f-5d2e256600b5",
   "metadata": {},
   "outputs": [
    {
     "name": "stderr",
     "output_type": "stream",
     "text": [
      "wandb: Using wandb-core as the SDK backend.  Please refer to https://wandb.me/wandb-core for more information.\n",
      "wandb: Currently logged in as: timyun. Use `wandb login --relogin` to force relogin\n",
      "wandb: WARNING If you're specifying your api key in code, ensure this code is not shared publicly.\n",
      "wandb: WARNING Consider setting the WANDB_API_KEY environment variable, or running `wandb login` from the command line.\n",
      "wandb: Appending key for api.wandb.ai to your netrc file: C:\\Users\\Timur\\.netrc\n"
     ]
    },
    {
     "data": {
      "text/plain": [
       "True"
      ]
     },
     "execution_count": 2,
     "metadata": {},
     "output_type": "execute_result"
    }
   ],
   "source": [
    "wandb.login(key = '')"
   ]
  },
  {
   "cell_type": "markdown",
   "id": "d922b973-3e21-49da-bc84-fa1915bfceec",
   "metadata": {},
   "source": [
    "Loading descriptors"
   ]
  },
  {
   "cell_type": "code",
   "execution_count": 3,
   "id": "44f7d76f-d6c9-434d-9c3d-9ad9ba082dc3",
   "metadata": {},
   "outputs": [],
   "source": [
    "descriptors = pd.read_csv('table_with_desriptors.csv', index_col = 0)"
   ]
  },
  {
   "cell_type": "markdown",
   "id": "86962059-0405-4c09-8f46-4758c7085fce",
   "metadata": {},
   "source": [
    "Fltering only non-NaNs values of **Pc**, creating *X* and *Y* dataframes and dropping unnecessary columns"
   ]
  },
  {
   "cell_type": "code",
   "execution_count": 4,
   "id": "e93955fa-fe83-41b8-ae5d-87609b8a6086",
   "metadata": {},
   "outputs": [],
   "source": [
    "descriptors = descriptors[~descriptors['Pc'].isnull()]\n",
    "y = descriptors['Pc']\n",
    "descriptors = descriptors.drop(columns = ['SMILES', 'Tc', 'Pc', 'omega', 'mol'])"
   ]
  },
  {
   "cell_type": "markdown",
   "id": "9b559e75-d486-4528-82ed-a512e11b97d0",
   "metadata": {},
   "source": [
    "Let's plot the distribution of **Pc** with violinplot. "
   ]
  },
  {
   "cell_type": "code",
   "execution_count": 5,
   "id": "061a11d0-e593-4c9b-9a99-42de3f403102",
   "metadata": {},
   "outputs": [
    {
     "data": {
      "text/plain": [
       "(0.0, 100.0)"
      ]
     },
     "execution_count": 5,
     "metadata": {},
     "output_type": "execute_result"
    },
    {
     "data": {
      "image/png": "[encoded data removed]",
      "text/plain": [
       "<Figure size 640x480 with 2 Axes>"
      ]
     },
     "metadata": {},
     "output_type": "display_data"
    }
   ],
   "source": [
    "fog, axes = plt.subplots(1,2)\n",
    "sns.violinplot(data = y, ax = axes[0])\n",
    "sns.violinplot(data = y, ax = axes[1])\n",
    "axes[1].set_ylim(0,100)"
   ]
  },
  {
   "cell_type": "markdown",
   "id": "916f3da5-0481-4bc4-959d-591e3a31febb",
   "metadata": {},
   "source": [
    "Let's get the info. We can see, that most of values are in the range of 0 - 60 bar, 75% percentile is 35 bar. However, there is a huge outlier of 2230 bar, that can distort calculations. Therefore, let's filter all values and limit out prediction at 95% percentile, which is **48.7 bar**"
   ]
  },
  {
   "cell_type": "code",
   "execution_count": 6,
   "id": "8185fcd6-7fc6-40f9-a05f-d6ea186e1410",
   "metadata": {},
   "outputs": [
    {
     "name": "stdout",
     "output_type": "stream",
     "text": [
      "count    6470.000000\n",
      "mean       28.901843\n",
      "std        30.441236\n",
      "min         1.510000\n",
      "25%        19.810000\n",
      "50%        28.100000\n",
      "75%        35.200000\n",
      "max      2230.000000\n",
      "Name: Pc, dtype: float64\n",
      "95% quantile is 48.7\n"
     ]
    }
   ],
   "source": [
    "print(y.describe())\n",
    "quant_95 = y.quantile(q = 0.95)\n",
    "print('95% quantile is {}'.format(quant_95))"
   ]
  },
  {
   "cell_type": "markdown",
   "id": "2d7810e9-2320-4a4f-ad75-d8dd04158ac6",
   "metadata": {},
   "source": [
    "Filtering datasets according to our limitation and creating train, test and valid subsets"
   ]
  },
  {
   "cell_type": "code",
   "execution_count": 8,
   "id": "51ff48bd-7dfa-4f9a-95b8-a86c53db177c",
   "metadata": {},
   "outputs": [],
   "source": [
    "mask = y < quant_95\n",
    "y = y[mask]\n",
    "descriptors = descriptors[mask]\n",
    "X_train, X_test, y_train, y_test = train_test_split(descriptors, y, test_size = 0.15, random_state=0)\n",
    "X_train, X_valid, y_train, y_valid = train_test_split(X_train, y_train, test_size = 0.15, random_state = 0)\n"
   ]
  },
  {
   "cell_type": "markdown",
   "id": "870a2752-9fd1-4013-8914-e244f3a6deb8",
   "metadata": {},
   "source": [
    "Let's select columns to scale (only numeric descriptors values, not fingerprints), create the instance of Scikit learn column transformer and fit and transform all subsets"
   ]
  },
  {
   "cell_type": "code",
   "execution_count": 9,
   "id": "07eb966e-e320-4943-8468-35a88f7ca829",
   "metadata": {},
   "outputs": [],
   "source": [
    "columns_to_scale = list(X_train.columns[:156])"
   ]
  },
  {
   "cell_type": "code",
   "execution_count": 10,
   "id": "fd63d6f2-d707-4f16-bc6a-648fc1bcaf8b",
   "metadata": {},
   "outputs": [],
   "source": [
    "ct = ColumnTransformer([('Scaler', MinMaxScaler(),columns_to_scale)], remainder= 'passthrough')"
   ]
  },
  {
   "cell_type": "code",
   "execution_count": 11,
   "id": "7cea3c57-b7a9-435b-9061-e275563bdcc0",
   "metadata": {},
   "outputs": [],
   "source": [
    "X_train = ct.fit_transform(X_train)\n",
    "#ct is fiited only on X_train!\n",
    "X_test = ct.transform(X_test)\n",
    "X_valid = ct.transform(X_valid)"
   ]
  },
  {
   "cell_type": "markdown",
   "id": "8189cae1-0b7c-409d-9072-4fb6c0928fe2",
   "metadata": {},
   "source": [
    "Let's create Pytorch datasets"
   ]
  },
  {
   "cell_type": "code",
   "execution_count": 12,
   "id": "e05b15f2-7ce4-42a0-b000-c1049e363625",
   "metadata": {},
   "outputs": [],
   "source": [
    "X_train_ds = TensorDataset(torch.tensor(X_train, dtype = torch.float32), torch.tensor(y_train.values, dtype = torch.float32))\n",
    "X_test_ds = TensorDataset(torch.tensor(X_test, dtype = torch.float32), torch.tensor(y_test.values, dtype = torch.float32))\n",
    "X_valid_ds = TensorDataset(torch.tensor(X_valid, dtype = torch.float32), torch.tensor(y_valid.values, dtype = torch.float32))\n"
   ]
  },
  {
   "cell_type": "markdown",
   "id": "a916fc89-c888-4ec6-b226-abf6609dbf64",
   "metadata": {},
   "source": [
    "And Pytorch DataLoaders with batch size of 24"
   ]
  },
  {
   "cell_type": "code",
   "execution_count": 13,
   "id": "98930995-eaee-48f4-bdb5-bc95e2e5acf6",
   "metadata": {},
   "outputs": [],
   "source": [
    "torch.manual_seed(1)\n",
    "batch_size = 24\n",
    "X_train_dl = DataLoader(X_train_ds, shuffle = True, batch_size = batch_size)\n",
    "X_valid_dl = DataLoader(X_valid_ds, shuffle = True, batch_size = batch_size)"
   ]
  },
  {
   "cell_type": "markdown",
   "id": "354c7fd1-cc62-4c36-ad69-e470f7cfaf7a",
   "metadata": {},
   "source": [
    "Then we just create Model class with fully connected Neural Network, that receive Descriptors, goes through it. The final result of \n",
    "```\n",
    "nn.Linear(round(self.input_size),1)\n",
    "```\n",
    "\n",
    "Is the value of **Pc**  \n",
    "Is should be noted, that this class is modified during model selection and all runs are monitored at wandb website"
   ]
  },
  {
   "cell_type": "code",
   "execution_count": 24,
   "id": "58e0fa64-0bde-43e6-9fbb-c5e2c6e0e819",
   "metadata": {},
   "outputs": [],
   "source": [
    "class MyModel(nn.Module):\n",
    "    def __init__(self, input_size):\n",
    "        super().__init__()\n",
    "        self.input_size = input_size\n",
    "        self.linear_1 = nn.Linear(self.input_size, round(self.input_size))\n",
    "        self.a1 = nn.GELU(approximate = 'none')\n",
    "        self.dropout_1 = nn.Dropout(p = 0.3)\n",
    "        self.linear_2 = nn.Linear(round(self.input_size), round(self.input_size))\n",
    "        self.a2 = nn.GELU(approximate = 'none')\n",
    "        self.dropout_2 = nn.Dropout(p = 0.3)\n",
    "        self.linear_3 = nn.Linear(round(self.input_size),1)\n",
    "        \n",
    "    \n",
    "    def forward(self, x):\n",
    "        x = self.linear_1(x)\n",
    "        x = self.a1(x)\n",
    "        x = self.dropout_1(x)\n",
    "        x = self.linear_2(x)\n",
    "        x = self.a2(x)\n",
    "        x = self.dropout_2(x)\n",
    "        x = self.linear_3(x)\n",
    "        return x\n",
    "model = MyModel(X_train.shape[1])"
   ]
  },
  {
   "cell_type": "markdown",
   "id": "c6ab0e0d-d4f9-49a5-ab08-0a492d209700",
   "metadata": {},
   "source": [
    "Here we change learning rate, n_epochs, optimizer parameters, select loss function and initialize wandb ran, which describes model parameters and architecture"
   ]
  },
  {
   "cell_type": "code",
   "execution_count": 25,
   "id": "e1a9c913-a3b3-4ea5-899d-a6e8791c39cc",
   "metadata": {},
   "outputs": [
    {
     "data": {
      "text/html": [
       "Finishing last run (ID:fj3xcgv6) before initializing another..."
      ],
      "text/plain": [
       "<IPython.core.display.HTML object>"
      ]
     },
     "metadata": {},
     "output_type": "display_data"
    },
    {
     "data": {
      "text/html": [
       " View run <strong style=\"color:#cdcd00\">logical-plant-73</strong> at: <a href='https://wandb.ai/timyun/critical_pressure_prediction/runs/fj3xcgv6' target=\"_blank\">https://wandb.ai/timyun/critical_pressure_prediction/runs/fj3xcgv6</a><br/> View project at: <a href='https://wandb.ai/timyun/critical_pressure_prediction' target=\"_blank\">https://wandb.ai/timyun/critical_pressure_prediction</a><br/>Synced 5 W&B file(s), 0 media file(s), 0 artifact file(s) and 0 other file(s)"
      ],
      "text/plain": [
       "<IPython.core.display.HTML object>"
      ]
     },
     "metadata": {},
     "output_type": "display_data"
    },
    {
     "data": {
      "text/html": [
       "Find logs at: <code>.\\wandb\\run-20250116_212301-fj3xcgv6\\logs</code>"
      ],
      "text/plain": [
       "<IPython.core.display.HTML object>"
      ]
     },
     "metadata": {},
     "output_type": "display_data"
    },
    {
     "data": {
      "text/html": [
       "Successfully finished last run (ID:fj3xcgv6). Initializing new run:<br/>"
      ],
      "text/plain": [
       "<IPython.core.display.HTML object>"
      ]
     },
     "metadata": {},
     "output_type": "display_data"
    },
    {
     "data": {
      "text/html": [
       "Tracking run with wandb version 0.18.7"
      ],
      "text/plain": [
       "<IPython.core.display.HTML object>"
      ]
     },
     "metadata": {},
     "output_type": "display_data"
    },
    {
     "data": {
      "text/html": [
       "Run data is saved locally in <code>C:\\Users\\Timur\\Cheminformatics\\Practice\\Critical properties prediction\\Critical pressure\\wandb\\run-20250116_212414-bnuci13p</code>"
      ],
      "text/plain": [
       "<IPython.core.display.HTML object>"
      ]
     },
     "metadata": {},
     "output_type": "display_data"
    },
    {
     "data": {
      "text/html": [
       "Syncing run <strong><a href='https://wandb.ai/timyun/critical_pressure_prediction/runs/bnuci13p' target=\"_blank\">giddy-deluge-74</a></strong> to <a href='https://wandb.ai/timyun/critical_pressure_prediction' target=\"_blank\">Weights & Biases</a> (<a href='https://wandb.me/developer-guide' target=\"_blank\">docs</a>)<br/>"
      ],
      "text/plain": [
       "<IPython.core.display.HTML object>"
      ]
     },
     "metadata": {},
     "output_type": "display_data"
    },
    {
     "data": {
      "text/html": [
       " View project at <a href='https://wandb.ai/timyun/critical_pressure_prediction' target=\"_blank\">https://wandb.ai/timyun/critical_pressure_prediction</a>"
      ],
      "text/plain": [
       "<IPython.core.display.HTML object>"
      ]
     },
     "metadata": {},
     "output_type": "display_data"
    },
    {
     "data": {
      "text/html": [
       " View run at <a href='https://wandb.ai/timyun/critical_pressure_prediction/runs/bnuci13p' target=\"_blank\">https://wandb.ai/timyun/critical_pressure_prediction/runs/bnuci13p</a>"
      ],
      "text/plain": [
       "<IPython.core.display.HTML object>"
      ]
     },
     "metadata": {},
     "output_type": "display_data"
    },
    {
     "data": {
      "text/html": [
       "<button onClick=\"this.nextSibling.style.display='block';this.style.display='none';\">Display W&B run</button><iframe src='https://wandb.ai/timyun/critical_pressure_prediction/runs/bnuci13p?jupyter=true' style='border:none;width:100%;height:420px;display:none;'></iframe>"
      ],
      "text/plain": [
       "<wandb.sdk.wandb_run.Run at 0x2751de3ded0>"
      ]
     },
     "execution_count": 25,
     "metadata": {},
     "output_type": "execute_result"
    }
   ],
   "source": [
    "lr = 0.0005\n",
    "model = MyModel(X_train.shape[1])\n",
    "model = model.to('cuda:0')\n",
    "loss_fn = MSELoss()\n",
    "optimizer = torch.optim.Adam(model.parameters(), lr = lr, weight_decay = 1e-4)\n",
    "n_epochs = 200\n",
    "\n",
    "wandb.init(project = 'critical_pressure_prediction', \n",
    "           config = {'learning_rate':lr,\n",
    "                     'acrhitecture':'2204 -> 2204  -> GLU -> dropout - 2204 -> GLU  -> dropout -> 1',\n",
    "                     'dataset':'custom_dataset',\n",
    "                     'epochs':n_epochs})"
   ]
  },
  {
   "cell_type": "markdown",
   "id": "4fcb4565-8745-4a40-97c6-1a355a0cc074",
   "metadata": {},
   "source": [
    "And run training and validation"
   ]
  },
  {
   "cell_type": "code",
   "execution_count": 26,
   "id": "6890f89a-ca0d-4e50-9f08-d6fc7d4e68e6",
   "metadata": {},
   "outputs": [
    {
     "name": "stdout",
     "output_type": "stream",
     "text": [
      "Эпоха 0, ошибка тестирования - 86.25066829114347, ошибка валидации - 2.7472088736456794\n",
      "Эпоха 10, ошибка тестирования - 3.4144970623222557, ошибка валидации - 1.246024990081787\n",
      "Эпоха 20, ошибка тестирования - 2.36250281849423, ошибка валидации - 1.1839040266500938\n",
      "Эпоха 30, ошибка тестирования - 1.7478976813522544, ошибка валидации - 1.1094997857068036\n",
      "Эпоха 40, ошибка тестирования - 1.2499373809711354, ошибка валидации - 1.0653437466234774\n",
      "Эпоха 50, ошибка тестирования - 1.1417627746994432, ошибка валидации - 0.9576317561639321\n",
      "Эпоха 60, ошибка тестирования - 1.0733253018276112, ошибка валидации - 0.9872273921966552\n",
      "Эпоха 70, ошибка тестирования - 1.2298347804997418, ошибка валидации - 0.9355247510446084\n",
      "Эпоха 80, ошибка тестирования - 1.1708230306973328, ошибка валидации - 0.9480010760797036\n",
      "Эпоха 90, ошибка тестирования - 1.021008861870379, ошибка валидации - 0.9477893391171017\n",
      "Эпоха 100, ошибка тестирования - 1.116007206891034, ошибка валидации - 0.9039665557242729\n",
      "Эпоха 110, ошибка тестирования - 2.196819754548975, ошибка валидации - 0.982527046590238\n",
      "Эпоха 120, ошибка тестирования - 3.6165312496391504, ошибка валидации - 0.921309426668528\n",
      "Эпоха 130, ошибка тестирования - 1.0552851596394102, ошибка валидации - 0.8982844404272131\n",
      "Эпоха 140, ошибка тестирования - 0.9724403072047878, ошибка валидации - 0.9021893050219562\n",
      "Эпоха 150, ошибка тестирования - 1.3446324573980795, ошибка валидации - 0.91069072259439\n",
      "Эпоха 160, ошибка тестирования - 1.459055854500951, ошибка валидации - 0.9688783207455197\n",
      "Эпоха 170, ошибка тестирования - 1.146420929238603, ошибка валидации - 0.8934711778486097\n",
      "Эпоха 180, ошибка тестирования - 1.149182042076781, ошибка валидации - 0.7955275136071283\n",
      "Эпоха 190, ошибка тестирования - 3.4367335520886084, ошибка валидации - 0.8940498004088531\n"
     ]
    },
    {
     "data": {
      "text/html": [
       "\n",
       "    <style>\n",
       "        .wandb-row {\n",
       "            display: flex;\n",
       "            flex-direction: row;\n",
       "            flex-wrap: wrap;\n",
       "            justify-content: flex-start;\n",
       "            width: 100%;\n",
       "        }\n",
       "        .wandb-col {\n",
       "            display: flex;\n",
       "            flex-direction: column;\n",
       "            flex-basis: 100%;\n",
       "            flex: 1;\n",
       "            padding: 10px;\n",
       "        }\n",
       "    </style>\n",
       "<div class=\"wandb-row\"><div class=\"wandb-col\"><h3>Run history:</h3><br/><table class=\"wandb\"><tr><td>train_loss</td><td>█▂▂▁▁▁▁▁▁▁▁▁▁▁▁▁▁▁▁▁▁▁▁▁▁▁▁▁▁▁▁▁▁▁▁▁▁▁▁▁</td></tr><tr><td>train_rmse</td><td>█▃▂▂▂▁▁▁▁▁▁▁▁▁▁▁▁▁▁▁▁▃▁▂▁▁▁▁▁▁▁▁▁▁▁▁▂▁▁▁</td></tr><tr><td>valid_loss</td><td>█▅▄▄▃▃▄▂▂▂▂▂▂▂▂▂▂▂▂▁▁▂▁▁▂▁▁▁▂▁▁▂▂▁▂▁▂▁▂▁</td></tr><tr><td>valid_r2</td><td>▁▃▁▅▅▆▇▆▇▇▇▇▇▇▇█▇▇▇▇█▇▇█▇▇▇▇█▇▇█▇███▇▇▇▇</td></tr><tr><td>valid_rmse</td><td>█▆▇▅▅▅▄▅▃▃▃▂▂▃▃▃▂▂▃▂▂▂▃▂▂▂▂▁▂▂▂▂▁▃▂▂▁▁▂▂</td></tr></table><br/></div><div class=\"wandb-col\"><h3>Run summary:</h3><br/><table class=\"wandb\"><tr><td>train_loss</td><td>1.18169</td></tr><tr><td>train_rmse</td><td>1.08706</td></tr><tr><td>valid_loss</td><td>0.86167</td></tr><tr><td>valid_r2</td><td>0.95276</td></tr><tr><td>valid_rmse</td><td>0.92826</td></tr></table><br/></div></div>"
      ],
      "text/plain": [
       "<IPython.core.display.HTML object>"
      ]
     },
     "metadata": {},
     "output_type": "display_data"
    },
    {
     "data": {
      "text/html": [
       " View run <strong style=\"color:#cdcd00\">giddy-deluge-74</strong> at: <a href='https://wandb.ai/timyun/critical_pressure_prediction/runs/bnuci13p' target=\"_blank\">https://wandb.ai/timyun/critical_pressure_prediction/runs/bnuci13p</a><br/> View project at: <a href='https://wandb.ai/timyun/critical_pressure_prediction' target=\"_blank\">https://wandb.ai/timyun/critical_pressure_prediction</a><br/>Synced 5 W&B file(s), 0 media file(s), 0 artifact file(s) and 0 other file(s)"
      ],
      "text/plain": [
       "<IPython.core.display.HTML object>"
      ]
     },
     "metadata": {},
     "output_type": "display_data"
    },
    {
     "data": {
      "text/html": [
       "Find logs at: <code>.\\wandb\\run-20250116_212414-bnuci13p\\logs</code>"
      ],
      "text/plain": [
       "<IPython.core.display.HTML object>"
      ]
     },
     "metadata": {},
     "output_type": "display_data"
    }
   ],
   "source": [
    "                   \n",
    "train_hist_loss = []\n",
    "valid_hist_loss = []\n",
    "#two list instances store loss values on training and validation\n",
    "for i in range(n_epochs):\n",
    "    model.train()\n",
    "    train_loss = 0\n",
    "    for X_b, y_b in X_train_dl:\n",
    "        X_b = X_b.to('cuda:0')\n",
    "        y_b = y_b.to('cuda:0')\n",
    "        pred = model(X_b)\n",
    "        loss = loss_fn(pred.squeeze(), y_b)\n",
    "        loss.backward()\n",
    "        optimizer.step()\n",
    "        optimizer.zero_grad()\n",
    "        train_loss += loss.item()\n",
    "        #increasing overall train_loss at every step\n",
    "    #and adding the average valie of train loss for the epoch into history\n",
    "    train_hist_loss.append(train_loss/len(X_train_dl))\n",
    "    #this step logs train_loss for wandb\n",
    "    wandb.log({'train_loss':train_hist_loss[-1], 'train_rmse':np.sqrt(train_hist_loss[-1])})\n",
    "    model.eval()\n",
    "    valid_loss = 0\n",
    "    for X_b, y_b in X_valid_dl:\n",
    "        X_b = X_b.to('cuda:0')\n",
    "        y_b = y_b.to('cuda:0')\n",
    "        pred = model(X_b)\n",
    "        loss = loss_fn(pred.squeeze(), y_b)\n",
    "        valid_loss += loss.item()\n",
    "    valid_hist_loss.append(valid_loss/len(X_train_dl))\n",
    "    #res_valid is used to calculate R2, which is logged by wandb\n",
    "    res_valid = model(torch.tensor(X_valid, dtype = torch.float32).to('cuda:0'))\n",
    "    #For validation steps, wandb logs not only pure loss, but also RMSE and R2\n",
    "    wandb.log({'valid_loss':valid_hist_loss[-1], \n",
    "              'valid_rmse':np.sqrt(valid_hist_loss[-1]), \n",
    "               'valid_r2':(r2_score(res_valid.cpu().detach().numpy().squeeze(), y_valid))})\n",
    "    if (i%10 ==0):\n",
    "        print('Эпоха {}, ошибка тестирования - {}, ошибка валидации - {}'.format(i, train_hist_loss[-1], valid_hist_loss[-1]))           \n",
    "wandb.finish()"
   ]
  },
  {
   "cell_type": "code",
   "execution_count": 16,
   "id": "65b82225-6c9a-4abc-839b-d75987fdeb15",
   "metadata": {},
   "outputs": [],
   "source": [
    "import matplotlib.pyplot as plt"
   ]
  },
  {
   "cell_type": "markdown",
   "id": "d13fb8c9-ccc3-4478-816e-ed80169251f9",
   "metadata": {},
   "source": [
    "Sometimes is is useful just to draw predicted values vs real values"
   ]
  },
  {
   "cell_type": "code",
   "execution_count": 17,
   "id": "9af28803-fb8e-48c2-93b7-590020a6b6ff",
   "metadata": {},
   "outputs": [
    {
     "data": {
      "text/plain": [
       "(0.0, 100.0)"
      ]
     },
     "execution_count": 17,
     "metadata": {},
     "output_type": "execute_result"
    },
    {
     "data": {
      "image/png": "[encoded data removed]",
      "text/plain": [
       "<Figure size 640x480 with 1 Axes>"
      ]
     },
     "metadata": {},
     "output_type": "display_data"
    }
   ],
   "source": [
    "plt.scatter(model(X_test_ds.tensors[0].to('cuda:0')).detach().cpu().numpy(), y_test)\n",
    "plt.ylim(0,100)"
   ]
  }
 ],
 "metadata": {
  "kernelspec": {
   "display_name": "Python 3 (ipykernel)",
   "language": "python",
   "name": "python3"
  },
  "language_info": {
   "codemirror_mode": {
    "name": "ipython",
    "version": 3
   },
   "file_extension": ".py",
   "mimetype": "text/x-python",
   "name": "python",
   "nbconvert_exporter": "python",
   "pygments_lexer": "ipython3",
   "version": "3.11.9"
  }
 },
 "nbformat": 4,
 "nbformat_minor": 5
}
