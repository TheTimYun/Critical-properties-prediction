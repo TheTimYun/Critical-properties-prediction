{
 "cells": [
  {
   "cell_type": "code",
   "execution_count": 1,
   "id": "afa5289a-3bba-4ce5-ba4a-fc7c5aa0b8ae",
   "metadata": {},
   "outputs": [
    {
     "name": "stderr",
     "output_type": "stream",
     "text": [
      "2025-01-10 22:30:35,308\tINFO util.py:154 -- Outdated packages:\n",
      "  ipywidgets==7.8.1 found, needs ipywidgets>=8\n",
      "Run `pip install -U ipywidgets`, then restart the notebook server for rich notebook output.\n",
      "2025-01-10 22:30:35,440\tINFO util.py:154 -- Outdated packages:\n",
      "  ipywidgets==7.8.1 found, needs ipywidgets>=8\n",
      "Run `pip install -U ipywidgets`, then restart the notebook server for rich notebook output.\n"
     ]
    }
   ],
   "source": [
    "from sklearn.compose import ColumnTransformer\n",
    "from sklearn.preprocessing import MinMaxScaler\n",
    "from sklearn.model_selection import train_test_split\n",
    "import pandas as pd\n",
    "import numpy as np\n",
    "import torch.nn as nn\n",
    "import torch\n",
    "from torch.nn import MSELoss\n",
    "from torch.utils.data import TensorDataset, DataLoader\n",
    "from tqdm import tqdm\n",
    "from sklearn.metrics import r2_score, root_mean_squared_error\n",
    "import pickle\n",
    "from ray import train\n",
    "from ray import tune\n",
    "from ray.tune.schedulers import ASHAScheduler\n",
    "import os\n",
    "from functools import partial\n",
    "from ray.tune.search.hyperopt import HyperOptSearch"
   ]
  },
  {
   "cell_type": "code",
   "execution_count": 2,
   "id": "02068672-5ba2-46b7-9e3e-2518d80af039",
   "metadata": {},
   "outputs": [],
   "source": [
    "abs_path = os.path.abspath('.')+'\\\\table_with_desriptors.csv'"
   ]
  },
  {
   "cell_type": "code",
   "execution_count": 3,
   "id": "80d488d9-ee5f-46f6-a27d-436b57da05c2",
   "metadata": {},
   "outputs": [],
   "source": [
    "def load_data(abs_path = abs_path):\n",
    "    descriptors = pd.read_csv(abs_path, index_col = 0)\n",
    "    descriptors = descriptors[~descriptors['omega'].isnull()]\n",
    "    y = descriptors['omega']\n",
    "    descriptors = descriptors.drop(columns = ['SMILES', 'Tc', 'Pc', 'omega', 'mol'])\n",
    "    quant = y.quantile(q = 0.95)\n",
    "    mask = y < quant\n",
    "    y = y[mask]\n",
    "    descriptors = descriptors[mask]\n",
    "   \n",
    "    X_train, X_test, y_train, y_test = train_test_split(descriptors, y, test_size = 0.15, random_state=0)\n",
    "    X_train, X_valid, y_train, y_valid = train_test_split(X_train, y_train, test_size = 0.15, random_state = 0)\n",
    "    columns_to_scale = list(X_train.columns[:156])\n",
    "    ct = ColumnTransformer([('Scaler', MinMaxScaler(),columns_to_scale)], remainder= 'passthrough')\n",
    "    X_train = ct.fit_transform(X_train)\n",
    "    X_test = ct.transform(X_test)\n",
    "    X_valid = ct.transform(X_valid)\n",
    "    X_train_ds = TensorDataset(torch.tensor(X_train, dtype = torch.float32), torch.tensor(y_train.values, dtype = torch.float32))\n",
    "    X_test_ds = TensorDataset(torch.tensor(X_test, dtype = torch.float32), torch.tensor(y_test.values, dtype = torch.float32))\n",
    "    X_valid_ds = TensorDataset(torch.tensor(X_valid, dtype = torch.float32), torch.tensor(y_valid.values, dtype = torch.float32))\n",
    "    return X_train_ds, X_valid_ds, X_test_ds, ct"
   ]
  },
  {
   "cell_type": "code",
   "execution_count": 4,
   "id": "5081a23f-39f9-44d1-9d58-6cc5a5191e20",
   "metadata": {},
   "outputs": [],
   "source": [
    "res = load_data()\n",
    "X_train, X_valid, X_test = res[0], res[1], res[2]"
   ]
  },
  {
   "cell_type": "code",
   "execution_count": 5,
   "id": "58e0fa64-0bde-43e6-9fbb-c5e2c6e0e819",
   "metadata": {},
   "outputs": [],
   "source": [
    "class MyModel(nn.Module):\n",
    "    def __init__(self, l1 = 2204, l2 = 2204):\n",
    "        super().__init__()\n",
    "        self.linear_1 = nn.Linear(2204, l1)\n",
    "        self.a1 = nn.CELU(alpha = 0.01)\n",
    "        self.dropout_1 = nn.Dropout(p = 0.3)\n",
    "        self.linear_2 = nn.Linear(l1, l2)\n",
    "        self.a2 = nn.CELU(alpha = 0.01)\n",
    "        self.dropout_2 = nn.Dropout(p = 0.3)\n",
    "        self.linear_3 = nn.Linear(l2, 1)\n",
    "\n",
    "    def forward(self, x):\n",
    "        x = self.linear_1(x)\n",
    "        x = self.a1(x)\n",
    "        x = self.dropout_1(x)\n",
    "        x = self.linear_2(x)\n",
    "        x = self.a2(x)\n",
    "        x = self.dropout_2(x)\n",
    "        x = self.linear_3(x)\n",
    "        return x\n"
   ]
  },
  {
   "cell_type": "code",
   "execution_count": 6,
   "id": "64209db5-8a73-4776-82ee-620c438a1b22",
   "metadata": {},
   "outputs": [],
   "source": [
    "def train_model(config, abs_path = abs_path, is_tune = True):\n",
    "    torch.manual_seed(1)\n",
    "    model = MyModel(config['l1'], config['l2'])\n",
    "    model.to('cuda:0')\n",
    "    loss_fn = MSELoss()\n",
    "    optimizer = torch.optim.Adam(model.parameters(), config['lr'], weight_decay = 1e-4)\n",
    "    data = load_data()\n",
    "    trainset, validset, testset = data[0], data[1], data[2]\n",
    "    column_transformer = data[3]\n",
    "    if is_tune:\n",
    "        X_train_dl = DataLoader(trainset, shuffle = True, batch_size = 24)\n",
    "        X_valid_dl = DataLoader(validset, shuffle = True, batch_size = 24)\n",
    "    else:\n",
    "        X_train_dl = DataLoader(torch.utils.data.ConcatDataset([trainset, validset]), shuffle = True, batch_size = 24)\n",
    "    for epoch in range(200):\n",
    "        model.train()\n",
    "        train_loss = 0\n",
    "        for X_b, y_b in X_train_dl:\n",
    "            X_b = X_b.to('cuda:0')\n",
    "            y_b = y_b.to('cuda:0')\n",
    "            optimizer.zero_grad()\n",
    "            pred = model(X_b)\n",
    "            loss = loss_fn(pred.squeeze(), y_b)\n",
    "            loss.backward()\n",
    "            optimizer.step()\n",
    "            train_loss += loss.item()\n",
    "        model.eval()\n",
    "        valid_loss = 0\n",
    "        r2_valid = 0\n",
    "        rmse_valid = 0\n",
    "        valid_steps = 0\n",
    "        if is_tune:\n",
    "            for X_b, y_b in X_valid_dl:\n",
    "                X_b = X_b.to('cuda:0')\n",
    "                y_b = y_b.to('cuda:0')\n",
    "                pred = model(X_b)\n",
    "                loss = loss_fn(pred.squeeze(), y_b)\n",
    "                valid_loss += loss.detach().cpu().numpy()\n",
    "                r2_valid += r2_score(pred.squeeze().detach().cpu().numpy(), y_b.cpu().numpy())\n",
    "                rmse_valid += root_mean_squared_error(pred.squeeze().detach().cpu().numpy(), y_b.cpu().numpy())\n",
    "                valid_steps += 1\n",
    "            \n",
    "        if is_tune:\n",
    "            train.report(\n",
    "                {\"loss\": valid_loss / valid_steps, \"r2\":r2_valid / valid_steps, \"rmse\":rmse_valid / valid_steps})\n",
    "    print('Finished training')\n",
    "    if not is_tune:\n",
    "        return model, column_transformer"
   ]
  },
  {
   "cell_type": "code",
   "execution_count": 7,
   "id": "a515406f-56ee-4048-8da0-c1d412ef5e15",
   "metadata": {},
   "outputs": [],
   "source": [
    "max_num_epochs = 200\n",
    "scheduler = ASHAScheduler(\n",
    "        metric=\"loss\",\n",
    "        mode=\"min\",\n",
    "        max_t=max_num_epochs,\n",
    "        grace_period=5,\n",
    "        reduction_factor=2,\n",
    ")"
   ]
  },
  {
   "cell_type": "code",
   "execution_count": 8,
   "id": "6c5df571-d34c-4a70-95da-2f30b81b4629",
   "metadata": {},
   "outputs": [],
   "source": [
    "config = {\n",
    "    \"l1\": tune.qrandint(100, 3000, 100),\n",
    "    \"l2\": tune.qrandint(100, 3000, 100),\n",
    "    \"lr\": tune.loguniform(1e-4, 1e-2)}"
   ]
  },
  {
   "cell_type": "code",
   "execution_count": 9,
   "id": "596c6a39-b3a1-467d-ae2c-a31ecac822d0",
   "metadata": {},
   "outputs": [],
   "source": [
    "hyperopt = HyperOptSearch(metric = 'loss', mode = 'min')"
   ]
  },
  {
   "cell_type": "code",
   "execution_count": 10,
   "id": "27931757-298a-4986-99a5-56e90886da8e",
   "metadata": {
    "scrolled": true
   },
   "outputs": [
    {
     "name": "stderr",
     "output_type": "stream",
     "text": [
      "2025-01-10 22:30:59,191\tINFO worker.py:1810 -- Started a local Ray instance. View the dashboard at \u001b[1m\u001b[32mhttp://127.0.0.1:8265 \u001b[39m\u001b[22m\n",
      "2025-01-10 22:31:02,827\tINFO tune.py:253 -- Initializing Ray automatically. For cluster usage or custom Ray initialization, call `ray.init(...)` before `tune.run(...)`.\n",
      "2025-01-10 22:31:02,829\tINFO tune.py:616 -- [output] This uses the legacy output and progress reporter, as Jupyter notebooks are not supported by the new engine, yet. For more information, please see https://github.com/ray-project/ray/issues/36949\n"
     ]
    },
    {
     "data": {
      "text/html": [
       "<div class=\"tuneStatus\">\n",
       "  <div style=\"display: flex;flex-direction: row\">\n",
       "    <div style=\"display: flex;flex-direction: column;\">\n",
       "      <h3>Tune Status</h3>\n",
       "      <table>\n",
       "<tbody>\n",
       "<tr><td>Current time:</td><td>2025-01-10 22:51:08</td></tr>\n",
       "<tr><td>Running for: </td><td>00:20:05.36        </td></tr>\n",
       "<tr><td>Memory:      </td><td>13.6/31.9 GiB      </td></tr>\n",
       "</tbody>\n",
       "</table>\n",
       "    </div>\n",
       "    <div class=\"vDivider\"></div>\n",
       "    <div class=\"systemInfo\">\n",
       "      <h3>System Info</h3>\n",
       "      Using AsyncHyperBand: num_stopped=50<br>Bracket: Iter 160.000: -0.0036253309506853976 | Iter 80.000: -0.004023395472257916 | Iter 40.000: -0.004286966372833208 | Iter 20.000: -0.004807929900750794 | Iter 10.000: -0.005166372922421606 | Iter 5.000: -0.006044143627621923<br>Logical resource usage: 0/16 CPUs, 1.0/1 GPUs (0.0/1.0 accelerator_type:G)\n",
       "    </div>\n",
       "    \n",
       "  </div>\n",
       "  <div class=\"hDivider\"></div>\n",
       "  <div class=\"trialStatus\">\n",
       "    <h3>Trial Status</h3>\n",
       "    <table>\n",
       "<thead>\n",
       "<tr><th>Trial name          </th><th>status    </th><th>loc            </th><th style=\"text-align: right;\">  l1</th><th style=\"text-align: right;\">  l2</th><th style=\"text-align: right;\">         lr</th><th style=\"text-align: right;\">  iter</th><th style=\"text-align: right;\">  total time (s)</th><th style=\"text-align: right;\">      loss</th><th style=\"text-align: right;\">      r2</th><th style=\"text-align: right;\">     rmse</th></tr>\n",
       "</thead>\n",
       "<tbody>\n",
       "<tr><td>train_model_4979ee72</td><td>TERMINATED</td><td>127.0.0.1:9996 </td><td style=\"text-align: right;\">1500</td><td style=\"text-align: right;\"> 500</td><td style=\"text-align: right;\">0.00189489 </td><td style=\"text-align: right;\">   200</td><td style=\"text-align: right;\">       118.399  </td><td style=\"text-align: right;\">0.0064176 </td><td style=\"text-align: right;\">0.703312</td><td style=\"text-align: right;\">0.0795358</td></tr>\n",
       "<tr><td>train_model_9b59712b</td><td>TERMINATED</td><td>127.0.0.1:19704</td><td style=\"text-align: right;\"> 700</td><td style=\"text-align: right;\">1000</td><td style=\"text-align: right;\">0.000164888</td><td style=\"text-align: right;\">   200</td><td style=\"text-align: right;\">       113.792  </td><td style=\"text-align: right;\">0.00349067</td><td style=\"text-align: right;\">0.864177</td><td style=\"text-align: right;\">0.0570092</td></tr>\n",
       "<tr><td>train_model_55701991</td><td>TERMINATED</td><td>127.0.0.1:18348</td><td style=\"text-align: right;\"> 200</td><td style=\"text-align: right;\">1900</td><td style=\"text-align: right;\">0.00209532 </td><td style=\"text-align: right;\">     5</td><td style=\"text-align: right;\">         3.26982</td><td style=\"text-align: right;\">0.00575784</td><td style=\"text-align: right;\">0.775925</td><td style=\"text-align: right;\">0.0739432</td></tr>\n",
       "<tr><td>train_model_9a447c21</td><td>TERMINATED</td><td>127.0.0.1:3644 </td><td style=\"text-align: right;\">2100</td><td style=\"text-align: right;\">1300</td><td style=\"text-align: right;\">0.00112651 </td><td style=\"text-align: right;\">    10</td><td style=\"text-align: right;\">         7.79467</td><td style=\"text-align: right;\">0.00568612</td><td style=\"text-align: right;\">0.804213</td><td style=\"text-align: right;\">0.0740547</td></tr>\n",
       "<tr><td>train_model_173c807c</td><td>TERMINATED</td><td>127.0.0.1:12520</td><td style=\"text-align: right;\">1600</td><td style=\"text-align: right;\">1200</td><td style=\"text-align: right;\">0.00320251 </td><td style=\"text-align: right;\">     5</td><td style=\"text-align: right;\">         4.1351 </td><td style=\"text-align: right;\">0.00968606</td><td style=\"text-align: right;\">0.784124</td><td style=\"text-align: right;\">0.096908 </td></tr>\n",
       "<tr><td>train_model_f24e80cb</td><td>TERMINATED</td><td>127.0.0.1:19204</td><td style=\"text-align: right;\">1500</td><td style=\"text-align: right;\"> 300</td><td style=\"text-align: right;\">0.000443712</td><td style=\"text-align: right;\">     5</td><td style=\"text-align: right;\">         3.89522</td><td style=\"text-align: right;\">0.00588142</td><td style=\"text-align: right;\">0.766374</td><td style=\"text-align: right;\">0.0751456</td></tr>\n",
       "<tr><td>train_model_a4b93e66</td><td>TERMINATED</td><td>127.0.0.1:19584</td><td style=\"text-align: right;\">2700</td><td style=\"text-align: right;\"> 900</td><td style=\"text-align: right;\">0.000105252</td><td style=\"text-align: right;\">   200</td><td style=\"text-align: right;\">       145.528  </td><td style=\"text-align: right;\">0.00347051</td><td style=\"text-align: right;\">0.875234</td><td style=\"text-align: right;\">0.0568117</td></tr>\n",
       "<tr><td>train_model_814c5e07</td><td>TERMINATED</td><td>127.0.0.1:6924 </td><td style=\"text-align: right;\">2000</td><td style=\"text-align: right;\"> 900</td><td style=\"text-align: right;\">0.00445917 </td><td style=\"text-align: right;\">     5</td><td style=\"text-align: right;\">         4.27834</td><td style=\"text-align: right;\">0.00783922</td><td style=\"text-align: right;\">0.648862</td><td style=\"text-align: right;\">0.0876426</td></tr>\n",
       "<tr><td>train_model_bd91a5c5</td><td>TERMINATED</td><td>127.0.0.1:632  </td><td style=\"text-align: right;\">1000</td><td style=\"text-align: right;\">1700</td><td style=\"text-align: right;\">0.00803663 </td><td style=\"text-align: right;\">     5</td><td style=\"text-align: right;\">         3.80478</td><td style=\"text-align: right;\">0.00702321</td><td style=\"text-align: right;\">0.611356</td><td style=\"text-align: right;\">0.0817575</td></tr>\n",
       "<tr><td>train_model_605ad371</td><td>TERMINATED</td><td>127.0.0.1:17148</td><td style=\"text-align: right;\"> 500</td><td style=\"text-align: right;\"> 500</td><td style=\"text-align: right;\">0.00477107 </td><td style=\"text-align: right;\">     5</td><td style=\"text-align: right;\">         3.41635</td><td style=\"text-align: right;\">0.0111817 </td><td style=\"text-align: right;\">0.341739</td><td style=\"text-align: right;\">0.104694 </td></tr>\n",
       "<tr><td>train_model_dca26731</td><td>TERMINATED</td><td>127.0.0.1:20248</td><td style=\"text-align: right;\">1300</td><td style=\"text-align: right;\">2100</td><td style=\"text-align: right;\">0.00634666 </td><td style=\"text-align: right;\">     5</td><td style=\"text-align: right;\">         4.18632</td><td style=\"text-align: right;\">0.00862488</td><td style=\"text-align: right;\">0.549275</td><td style=\"text-align: right;\">0.0907063</td></tr>\n",
       "<tr><td>train_model_830822d3</td><td>TERMINATED</td><td>127.0.0.1:8940 </td><td style=\"text-align: right;\">1700</td><td style=\"text-align: right;\">2500</td><td style=\"text-align: right;\">0.00225131 </td><td style=\"text-align: right;\">     5</td><td style=\"text-align: right;\">         4.70232</td><td style=\"text-align: right;\">0.00669572</td><td style=\"text-align: right;\">0.742154</td><td style=\"text-align: right;\">0.0803597</td></tr>\n",
       "<tr><td>train_model_44678687</td><td>TERMINATED</td><td>127.0.0.1:10032</td><td style=\"text-align: right;\">1900</td><td style=\"text-align: right;\"> 700</td><td style=\"text-align: right;\">0.000378467</td><td style=\"text-align: right;\">    20</td><td style=\"text-align: right;\">        13.1351 </td><td style=\"text-align: right;\">0.00548432</td><td style=\"text-align: right;\">0.792225</td><td style=\"text-align: right;\">0.0718124</td></tr>\n",
       "<tr><td>train_model_03eb9393</td><td>TERMINATED</td><td>127.0.0.1:12908</td><td style=\"text-align: right;\">2500</td><td style=\"text-align: right;\">1200</td><td style=\"text-align: right;\">0.000490457</td><td style=\"text-align: right;\">     5</td><td style=\"text-align: right;\">         4.68739</td><td style=\"text-align: right;\">0.0061874 </td><td style=\"text-align: right;\">0.751546</td><td style=\"text-align: right;\">0.0768095</td></tr>\n",
       "<tr><td>train_model_057d2cf9</td><td>TERMINATED</td><td>127.0.0.1:14952</td><td style=\"text-align: right;\">1000</td><td style=\"text-align: right;\">2700</td><td style=\"text-align: right;\">0.0002645  </td><td style=\"text-align: right;\">    40</td><td style=\"text-align: right;\">        25.2136 </td><td style=\"text-align: right;\">0.00495173</td><td style=\"text-align: right;\">0.818462</td><td style=\"text-align: right;\">0.0677481</td></tr>\n",
       "<tr><td>train_model_ec239cf7</td><td>TERMINATED</td><td>127.0.0.1:13032</td><td style=\"text-align: right;\"> 200</td><td style=\"text-align: right;\">2800</td><td style=\"text-align: right;\">0.00124123 </td><td style=\"text-align: right;\">     5</td><td style=\"text-align: right;\">         3.42627</td><td style=\"text-align: right;\">0.00640902</td><td style=\"text-align: right;\">0.681653</td><td style=\"text-align: right;\">0.0787469</td></tr>\n",
       "<tr><td>train_model_cf259846</td><td>TERMINATED</td><td>127.0.0.1:12564</td><td style=\"text-align: right;\">1000</td><td style=\"text-align: right;\">2400</td><td style=\"text-align: right;\">0.00256113 </td><td style=\"text-align: right;\">    10</td><td style=\"text-align: right;\">         6.47523</td><td style=\"text-align: right;\">0.00727383</td><td style=\"text-align: right;\">0.787815</td><td style=\"text-align: right;\">0.0832691</td></tr>\n",
       "<tr><td>train_model_fb558ff6</td><td>TERMINATED</td><td>127.0.0.1:18168</td><td style=\"text-align: right;\">1900</td><td style=\"text-align: right;\">1200</td><td style=\"text-align: right;\">0.000588771</td><td style=\"text-align: right;\">    10</td><td style=\"text-align: right;\">         7.22279</td><td style=\"text-align: right;\">0.00605454</td><td style=\"text-align: right;\">0.683963</td><td style=\"text-align: right;\">0.0740266</td></tr>\n",
       "<tr><td>train_model_beb68486</td><td>TERMINATED</td><td>127.0.0.1:16212</td><td style=\"text-align: right;\">1300</td><td style=\"text-align: right;\">1800</td><td style=\"text-align: right;\">0.000513472</td><td style=\"text-align: right;\">    20</td><td style=\"text-align: right;\">        13.0539 </td><td style=\"text-align: right;\">0.00559428</td><td style=\"text-align: right;\">0.798425</td><td style=\"text-align: right;\">0.0730904</td></tr>\n",
       "<tr><td>train_model_f3e0dd9d</td><td>TERMINATED</td><td>127.0.0.1:20028</td><td style=\"text-align: right;\">1600</td><td style=\"text-align: right;\">2800</td><td style=\"text-align: right;\">0.00115533 </td><td style=\"text-align: right;\">     5</td><td style=\"text-align: right;\">         4.76103</td><td style=\"text-align: right;\">0.00610941</td><td style=\"text-align: right;\">0.770471</td><td style=\"text-align: right;\">0.0767506</td></tr>\n",
       "<tr><td>train_model_1d88d041</td><td>TERMINATED</td><td>127.0.0.1:14104</td><td style=\"text-align: right;\">2800</td><td style=\"text-align: right;\"> 100</td><td style=\"text-align: right;\">0.000106162</td><td style=\"text-align: right;\">    10</td><td style=\"text-align: right;\">         7.23116</td><td style=\"text-align: right;\">0.00613697</td><td style=\"text-align: right;\">0.774627</td><td style=\"text-align: right;\">0.0772013</td></tr>\n",
       "<tr><td>train_model_da32382d</td><td>TERMINATED</td><td>127.0.0.1:2452 </td><td style=\"text-align: right;\"> 600</td><td style=\"text-align: right;\"> 900</td><td style=\"text-align: right;\">0.000102049</td><td style=\"text-align: right;\">    10</td><td style=\"text-align: right;\">         4.99739</td><td style=\"text-align: right;\">0.00545515</td><td style=\"text-align: right;\">0.644413</td><td style=\"text-align: right;\">0.0714564</td></tr>\n",
       "<tr><td>train_model_9230b3f2</td><td>TERMINATED</td><td>127.0.0.1:13752</td><td style=\"text-align: right;\">2400</td><td style=\"text-align: right;\">1500</td><td style=\"text-align: right;\">0.000170008</td><td style=\"text-align: right;\">     5</td><td style=\"text-align: right;\">         4.66418</td><td style=\"text-align: right;\">0.00615233</td><td style=\"text-align: right;\">0.775615</td><td style=\"text-align: right;\">0.0769123</td></tr>\n",
       "<tr><td>train_model_e66233e9</td><td>TERMINATED</td><td>127.0.0.1:18948</td><td style=\"text-align: right;\"> 600</td><td style=\"text-align: right;\"> 900</td><td style=\"text-align: right;\">0.000222431</td><td style=\"text-align: right;\">    10</td><td style=\"text-align: right;\">         4.91387</td><td style=\"text-align: right;\">0.00549606</td><td style=\"text-align: right;\">0.658371</td><td style=\"text-align: right;\">0.0715167</td></tr>\n",
       "<tr><td>train_model_8a090931</td><td>TERMINATED</td><td>127.0.0.1:17080</td><td style=\"text-align: right;\">2800</td><td style=\"text-align: right;\"> 600</td><td style=\"text-align: right;\">0.000137403</td><td style=\"text-align: right;\">   200</td><td style=\"text-align: right;\">       144.041  </td><td style=\"text-align: right;\">0.0037941 </td><td style=\"text-align: right;\">0.86673 </td><td style=\"text-align: right;\">0.0589503</td></tr>\n",
       "<tr><td>train_model_a89ae11e</td><td>TERMINATED</td><td>127.0.0.1:5652 </td><td style=\"text-align: right;\">3000</td><td style=\"text-align: right;\"> 200</td><td style=\"text-align: right;\">0.000284548</td><td style=\"text-align: right;\">     5</td><td style=\"text-align: right;\">         4.57426</td><td style=\"text-align: right;\">0.00644403</td><td style=\"text-align: right;\">0.753919</td><td style=\"text-align: right;\">0.078055 </td></tr>\n",
       "<tr><td>train_model_95f6d884</td><td>TERMINATED</td><td>127.0.0.1:14916</td><td style=\"text-align: right;\">2300</td><td style=\"text-align: right;\">1500</td><td style=\"text-align: right;\">0.00075911 </td><td style=\"text-align: right;\">     5</td><td style=\"text-align: right;\">         4.77338</td><td style=\"text-align: right;\">0.00754823</td><td style=\"text-align: right;\">0.710287</td><td style=\"text-align: right;\">0.0846859</td></tr>\n",
       "<tr><td>train_model_1b12721f</td><td>TERMINATED</td><td>127.0.0.1:3600 </td><td style=\"text-align: right;\"> 800</td><td style=\"text-align: right;\">1000</td><td style=\"text-align: right;\">0.00015348 </td><td style=\"text-align: right;\">    20</td><td style=\"text-align: right;\">        11.455  </td><td style=\"text-align: right;\">0.00473166</td><td style=\"text-align: right;\">0.816345</td><td style=\"text-align: right;\">0.0667979</td></tr>\n",
       "<tr><td>train_model_709b5d09</td><td>TERMINATED</td><td>127.0.0.1:4316 </td><td style=\"text-align: right;\"> 400</td><td style=\"text-align: right;\">2100</td><td style=\"text-align: right;\">0.000102278</td><td style=\"text-align: right;\">    10</td><td style=\"text-align: right;\">         5.68678</td><td style=\"text-align: right;\">0.00525685</td><td style=\"text-align: right;\">0.803947</td><td style=\"text-align: right;\">0.0705002</td></tr>\n",
       "<tr><td>train_model_f9dca9bb</td><td>TERMINATED</td><td>127.0.0.1:19640</td><td style=\"text-align: right;\">1300</td><td style=\"text-align: right;\"> 400</td><td style=\"text-align: right;\">0.000328945</td><td style=\"text-align: right;\">     5</td><td style=\"text-align: right;\">         4.02224</td><td style=\"text-align: right;\">0.00682853</td><td style=\"text-align: right;\">0.678829</td><td style=\"text-align: right;\">0.0809014</td></tr>\n",
       "<tr><td>train_model_c9a8417c</td><td>TERMINATED</td><td>127.0.0.1:8988 </td><td style=\"text-align: right;\">2600</td><td style=\"text-align: right;\"> 700</td><td style=\"text-align: right;\">0.000191066</td><td style=\"text-align: right;\">    20</td><td style=\"text-align: right;\">        15.772  </td><td style=\"text-align: right;\">0.00480793</td><td style=\"text-align: right;\">0.789529</td><td style=\"text-align: right;\">0.0671617</td></tr>\n",
       "<tr><td>train_model_bc3c6d64</td><td>TERMINATED</td><td>127.0.0.1:20088</td><td style=\"text-align: right;\"> 200</td><td style=\"text-align: right;\">1400</td><td style=\"text-align: right;\">0.000812379</td><td style=\"text-align: right;\">    20</td><td style=\"text-align: right;\">        10.2471 </td><td style=\"text-align: right;\">0.00530867</td><td style=\"text-align: right;\">0.793077</td><td style=\"text-align: right;\">0.0693079</td></tr>\n",
       "<tr><td>train_model_f9ccd490</td><td>TERMINATED</td><td>127.0.0.1:12076</td><td style=\"text-align: right;\">1200</td><td style=\"text-align: right;\">1000</td><td style=\"text-align: right;\">0.000130183</td><td style=\"text-align: right;\">    80</td><td style=\"text-align: right;\">        52.97   </td><td style=\"text-align: right;\">0.00409881</td><td style=\"text-align: right;\">0.85999 </td><td style=\"text-align: right;\">0.0620904</td></tr>\n",
       "<tr><td>train_model_784cc58a</td><td>TERMINATED</td><td>127.0.0.1:19840</td><td style=\"text-align: right;\">2200</td><td style=\"text-align: right;\">1700</td><td style=\"text-align: right;\">0.00142512 </td><td style=\"text-align: right;\">     5</td><td style=\"text-align: right;\">         4.69892</td><td style=\"text-align: right;\">0.00808542</td><td style=\"text-align: right;\">0.639174</td><td style=\"text-align: right;\">0.0869745</td></tr>\n",
       "<tr><td>train_model_800aed9f</td><td>TERMINATED</td><td>127.0.0.1:19920</td><td style=\"text-align: right;\"> 800</td><td style=\"text-align: right;\">2000</td><td style=\"text-align: right;\">0.000202304</td><td style=\"text-align: right;\">   200</td><td style=\"text-align: right;\">       126.716  </td><td style=\"text-align: right;\">0.00375683</td><td style=\"text-align: right;\">0.850142</td><td style=\"text-align: right;\">0.0581698</td></tr>\n",
       "<tr><td>train_model_b5b3a55e</td><td>TERMINATED</td><td>127.0.0.1:13080</td><td style=\"text-align: right;\">3000</td><td style=\"text-align: right;\"> 700</td><td style=\"text-align: right;\">0.000123759</td><td style=\"text-align: right;\">    20</td><td style=\"text-align: right;\">        16.087  </td><td style=\"text-align: right;\">0.00480864</td><td style=\"text-align: right;\">0.832023</td><td style=\"text-align: right;\">0.0673381</td></tr>\n",
       "<tr><td>train_model_1c58c16c</td><td>TERMINATED</td><td>127.0.0.1:12396</td><td style=\"text-align: right;\">1800</td><td style=\"text-align: right;\">1100</td><td style=\"text-align: right;\">0.00156859 </td><td style=\"text-align: right;\">     5</td><td style=\"text-align: right;\">         4.27422</td><td style=\"text-align: right;\">0.00675041</td><td style=\"text-align: right;\">0.810519</td><td style=\"text-align: right;\">0.080492 </td></tr>\n",
       "<tr><td>train_model_95bef999</td><td>TERMINATED</td><td>127.0.0.1:15244</td><td style=\"text-align: right;\">1500</td><td style=\"text-align: right;\"> 300</td><td style=\"text-align: right;\">0.000784945</td><td style=\"text-align: right;\">     5</td><td style=\"text-align: right;\">         3.78968</td><td style=\"text-align: right;\">0.00622403</td><td style=\"text-align: right;\">0.742732</td><td style=\"text-align: right;\">0.077367 </td></tr>\n",
       "<tr><td>train_model_93235ebe</td><td>TERMINATED</td><td>127.0.0.1:2100 </td><td style=\"text-align: right;\"> 400</td><td style=\"text-align: right;\">1300</td><td style=\"text-align: right;\">0.000247639</td><td style=\"text-align: right;\">    20</td><td style=\"text-align: right;\">         9.93982</td><td style=\"text-align: right;\">0.00582888</td><td style=\"text-align: right;\">0.758688</td><td style=\"text-align: right;\">0.0738886</td></tr>\n",
       "<tr><td>train_model_4af76339</td><td>TERMINATED</td><td>127.0.0.1:920  </td><td style=\"text-align: right;\"> 100</td><td style=\"text-align: right;\"> 500</td><td style=\"text-align: right;\">0.00970713 </td><td style=\"text-align: right;\">     5</td><td style=\"text-align: right;\">         3.34506</td><td style=\"text-align: right;\">0.0088906 </td><td style=\"text-align: right;\">0.449816</td><td style=\"text-align: right;\">0.0934966</td></tr>\n",
       "<tr><td>train_model_c8426022</td><td>TERMINATED</td><td>127.0.0.1:12908</td><td style=\"text-align: right;\">2100</td><td style=\"text-align: right;\"> 800</td><td style=\"text-align: right;\">0.000324691</td><td style=\"text-align: right;\">     5</td><td style=\"text-align: right;\">         4.18724</td><td style=\"text-align: right;\">0.00609691</td><td style=\"text-align: right;\">0.785787</td><td style=\"text-align: right;\">0.0763616</td></tr>\n",
       "<tr><td>train_model_e4dd76f0</td><td>TERMINATED</td><td>127.0.0.1:7900 </td><td style=\"text-align: right;\"> 800</td><td style=\"text-align: right;\">1600</td><td style=\"text-align: right;\">0.0034081  </td><td style=\"text-align: right;\">     5</td><td style=\"text-align: right;\">         3.67762</td><td style=\"text-align: right;\">0.0066548 </td><td style=\"text-align: right;\">0.326545</td><td style=\"text-align: right;\">0.0802986</td></tr>\n",
       "<tr><td>train_model_6904ff16</td><td>TERMINATED</td><td>127.0.0.1:16188</td><td style=\"text-align: right;\">1100</td><td style=\"text-align: right;\">1100</td><td style=\"text-align: right;\">0.000373702</td><td style=\"text-align: right;\">     5</td><td style=\"text-align: right;\">         3.7626 </td><td style=\"text-align: right;\">0.006724  </td><td style=\"text-align: right;\">0.729376</td><td style=\"text-align: right;\">0.0802837</td></tr>\n",
       "<tr><td>train_model_c05989c1</td><td>TERMINATED</td><td>127.0.0.1:12424</td><td style=\"text-align: right;\">1400</td><td style=\"text-align: right;\"> 100</td><td style=\"text-align: right;\">0.000616816</td><td style=\"text-align: right;\">    10</td><td style=\"text-align: right;\">         5.71391</td><td style=\"text-align: right;\">0.00695467</td><td style=\"text-align: right;\">0.703877</td><td style=\"text-align: right;\">0.0805856</td></tr>\n",
       "<tr><td>train_model_b56064f3</td><td>TERMINATED</td><td>127.0.0.1:16104</td><td style=\"text-align: right;\">2800</td><td style=\"text-align: right;\">1300</td><td style=\"text-align: right;\">0.000162055</td><td style=\"text-align: right;\">    20</td><td style=\"text-align: right;\">        16.6147 </td><td style=\"text-align: right;\">0.00527006</td><td style=\"text-align: right;\">0.805186</td><td style=\"text-align: right;\">0.0709527</td></tr>\n",
       "<tr><td>train_model_74a9fc92</td><td>TERMINATED</td><td>127.0.0.1:10204</td><td style=\"text-align: right;\">1700</td><td style=\"text-align: right;\"> 600</td><td style=\"text-align: right;\">0.000450324</td><td style=\"text-align: right;\">     5</td><td style=\"text-align: right;\">         4.00362</td><td style=\"text-align: right;\">0.00609726</td><td style=\"text-align: right;\">0.757398</td><td style=\"text-align: right;\">0.0767924</td></tr>\n",
       "<tr><td>train_model_e8035128</td><td>TERMINATED</td><td>127.0.0.1:3128 </td><td style=\"text-align: right;\">2600</td><td style=\"text-align: right;\">2300</td><td style=\"text-align: right;\">0.00597218 </td><td style=\"text-align: right;\">     5</td><td style=\"text-align: right;\">         5.42014</td><td style=\"text-align: right;\">0.00871613</td><td style=\"text-align: right;\">0.687804</td><td style=\"text-align: right;\">0.089163 </td></tr>\n",
       "<tr><td>train_model_bb0849f0</td><td>TERMINATED</td><td>127.0.0.1:15456</td><td style=\"text-align: right;\">2000</td><td style=\"text-align: right;\">1900</td><td style=\"text-align: right;\">0.000245664</td><td style=\"text-align: right;\">     5</td><td style=\"text-align: right;\">         4.71343</td><td style=\"text-align: right;\">0.00605616</td><td style=\"text-align: right;\">0.797539</td><td style=\"text-align: right;\">0.0762937</td></tr>\n",
       "<tr><td>train_model_0298399d</td><td>TERMINATED</td><td>127.0.0.1:19840</td><td style=\"text-align: right;\"> 900</td><td style=\"text-align: right;\"> 400</td><td style=\"text-align: right;\">0.000960118</td><td style=\"text-align: right;\">     5</td><td style=\"text-align: right;\">         3.62595</td><td style=\"text-align: right;\">0.0064393 </td><td style=\"text-align: right;\">0.720147</td><td style=\"text-align: right;\">0.0783241</td></tr>\n",
       "<tr><td>train_model_ed1712c8</td><td>TERMINATED</td><td>127.0.0.1:19560</td><td style=\"text-align: right;\"> 600</td><td style=\"text-align: right;\">1400</td><td style=\"text-align: right;\">0.00187748 </td><td style=\"text-align: right;\">     5</td><td style=\"text-align: right;\">         3.50594</td><td style=\"text-align: right;\">0.00629712</td><td style=\"text-align: right;\">0.803013</td><td style=\"text-align: right;\">0.0775305</td></tr>\n",
       "</tbody>\n",
       "</table>\n",
       "  </div>\n",
       "</div>\n",
       "<style>\n",
       ".tuneStatus {\n",
       "  color: var(--jp-ui-font-color1);\n",
       "}\n",
       ".tuneStatus .systemInfo {\n",
       "  display: flex;\n",
       "  flex-direction: column;\n",
       "}\n",
       ".tuneStatus td {\n",
       "  white-space: nowrap;\n",
       "}\n",
       ".tuneStatus .trialStatus {\n",
       "  display: flex;\n",
       "  flex-direction: column;\n",
       "}\n",
       ".tuneStatus h3 {\n",
       "  font-weight: bold;\n",
       "}\n",
       ".tuneStatus .hDivider {\n",
       "  border-bottom-width: var(--jp-border-width);\n",
       "  border-bottom-color: var(--jp-border-color0);\n",
       "  border-bottom-style: solid;\n",
       "}\n",
       ".tuneStatus .vDivider {\n",
       "  border-left-width: var(--jp-border-width);\n",
       "  border-left-color: var(--jp-border-color0);\n",
       "  border-left-style: solid;\n",
       "  margin: 0.5em 1em 0.5em 1em;\n",
       "}\n",
       "</style>\n"
      ],
      "text/plain": [
       "<IPython.core.display.HTML object>"
      ]
     },
     "metadata": {},
     "output_type": "display_data"
    },
    {
     "data": {
      "text/html": [
       "<div class=\"trialProgress\">\n",
       "  <h3>Trial Progress</h3>\n",
       "  <table>\n",
       "<thead>\n",
       "<tr><th>Trial name          </th><th style=\"text-align: right;\">      loss</th><th style=\"text-align: right;\">      r2</th><th style=\"text-align: right;\">     rmse</th></tr>\n",
       "</thead>\n",
       "<tbody>\n",
       "<tr><td>train_model_0298399d</td><td style=\"text-align: right;\">0.0064393 </td><td style=\"text-align: right;\">0.720147</td><td style=\"text-align: right;\">0.0783241</td></tr>\n",
       "<tr><td>train_model_03eb9393</td><td style=\"text-align: right;\">0.0061874 </td><td style=\"text-align: right;\">0.751546</td><td style=\"text-align: right;\">0.0768095</td></tr>\n",
       "<tr><td>train_model_057d2cf9</td><td style=\"text-align: right;\">0.00495173</td><td style=\"text-align: right;\">0.818462</td><td style=\"text-align: right;\">0.0677481</td></tr>\n",
       "<tr><td>train_model_173c807c</td><td style=\"text-align: right;\">0.00968606</td><td style=\"text-align: right;\">0.784124</td><td style=\"text-align: right;\">0.096908 </td></tr>\n",
       "<tr><td>train_model_1b12721f</td><td style=\"text-align: right;\">0.00473166</td><td style=\"text-align: right;\">0.816345</td><td style=\"text-align: right;\">0.0667979</td></tr>\n",
       "<tr><td>train_model_1c58c16c</td><td style=\"text-align: right;\">0.00675041</td><td style=\"text-align: right;\">0.810519</td><td style=\"text-align: right;\">0.080492 </td></tr>\n",
       "<tr><td>train_model_1d88d041</td><td style=\"text-align: right;\">0.00613697</td><td style=\"text-align: right;\">0.774627</td><td style=\"text-align: right;\">0.0772013</td></tr>\n",
       "<tr><td>train_model_44678687</td><td style=\"text-align: right;\">0.00548432</td><td style=\"text-align: right;\">0.792225</td><td style=\"text-align: right;\">0.0718124</td></tr>\n",
       "<tr><td>train_model_4979ee72</td><td style=\"text-align: right;\">0.0064176 </td><td style=\"text-align: right;\">0.703312</td><td style=\"text-align: right;\">0.0795358</td></tr>\n",
       "<tr><td>train_model_4af76339</td><td style=\"text-align: right;\">0.0088906 </td><td style=\"text-align: right;\">0.449816</td><td style=\"text-align: right;\">0.0934966</td></tr>\n",
       "<tr><td>train_model_55701991</td><td style=\"text-align: right;\">0.00575784</td><td style=\"text-align: right;\">0.775925</td><td style=\"text-align: right;\">0.0739432</td></tr>\n",
       "<tr><td>train_model_605ad371</td><td style=\"text-align: right;\">0.0111817 </td><td style=\"text-align: right;\">0.341739</td><td style=\"text-align: right;\">0.104694 </td></tr>\n",
       "<tr><td>train_model_6904ff16</td><td style=\"text-align: right;\">0.006724  </td><td style=\"text-align: right;\">0.729376</td><td style=\"text-align: right;\">0.0802837</td></tr>\n",
       "<tr><td>train_model_709b5d09</td><td style=\"text-align: right;\">0.00525685</td><td style=\"text-align: right;\">0.803947</td><td style=\"text-align: right;\">0.0705002</td></tr>\n",
       "<tr><td>train_model_74a9fc92</td><td style=\"text-align: right;\">0.00609726</td><td style=\"text-align: right;\">0.757398</td><td style=\"text-align: right;\">0.0767924</td></tr>\n",
       "<tr><td>train_model_784cc58a</td><td style=\"text-align: right;\">0.00808542</td><td style=\"text-align: right;\">0.639174</td><td style=\"text-align: right;\">0.0869745</td></tr>\n",
       "<tr><td>train_model_800aed9f</td><td style=\"text-align: right;\">0.00375683</td><td style=\"text-align: right;\">0.850142</td><td style=\"text-align: right;\">0.0581698</td></tr>\n",
       "<tr><td>train_model_814c5e07</td><td style=\"text-align: right;\">0.00783922</td><td style=\"text-align: right;\">0.648862</td><td style=\"text-align: right;\">0.0876426</td></tr>\n",
       "<tr><td>train_model_830822d3</td><td style=\"text-align: right;\">0.00669572</td><td style=\"text-align: right;\">0.742154</td><td style=\"text-align: right;\">0.0803597</td></tr>\n",
       "<tr><td>train_model_8a090931</td><td style=\"text-align: right;\">0.0037941 </td><td style=\"text-align: right;\">0.86673 </td><td style=\"text-align: right;\">0.0589503</td></tr>\n",
       "<tr><td>train_model_9230b3f2</td><td style=\"text-align: right;\">0.00615233</td><td style=\"text-align: right;\">0.775615</td><td style=\"text-align: right;\">0.0769123</td></tr>\n",
       "<tr><td>train_model_93235ebe</td><td style=\"text-align: right;\">0.00582888</td><td style=\"text-align: right;\">0.758688</td><td style=\"text-align: right;\">0.0738886</td></tr>\n",
       "<tr><td>train_model_95bef999</td><td style=\"text-align: right;\">0.00622403</td><td style=\"text-align: right;\">0.742732</td><td style=\"text-align: right;\">0.077367 </td></tr>\n",
       "<tr><td>train_model_95f6d884</td><td style=\"text-align: right;\">0.00754823</td><td style=\"text-align: right;\">0.710287</td><td style=\"text-align: right;\">0.0846859</td></tr>\n",
       "<tr><td>train_model_9a447c21</td><td style=\"text-align: right;\">0.00568612</td><td style=\"text-align: right;\">0.804213</td><td style=\"text-align: right;\">0.0740547</td></tr>\n",
       "<tr><td>train_model_9b59712b</td><td style=\"text-align: right;\">0.00349067</td><td style=\"text-align: right;\">0.864177</td><td style=\"text-align: right;\">0.0570092</td></tr>\n",
       "<tr><td>train_model_a4b93e66</td><td style=\"text-align: right;\">0.00347051</td><td style=\"text-align: right;\">0.875234</td><td style=\"text-align: right;\">0.0568117</td></tr>\n",
       "<tr><td>train_model_a89ae11e</td><td style=\"text-align: right;\">0.00644403</td><td style=\"text-align: right;\">0.753919</td><td style=\"text-align: right;\">0.078055 </td></tr>\n",
       "<tr><td>train_model_b56064f3</td><td style=\"text-align: right;\">0.00527006</td><td style=\"text-align: right;\">0.805186</td><td style=\"text-align: right;\">0.0709527</td></tr>\n",
       "<tr><td>train_model_b5b3a55e</td><td style=\"text-align: right;\">0.00480864</td><td style=\"text-align: right;\">0.832023</td><td style=\"text-align: right;\">0.0673381</td></tr>\n",
       "<tr><td>train_model_bb0849f0</td><td style=\"text-align: right;\">0.00605616</td><td style=\"text-align: right;\">0.797539</td><td style=\"text-align: right;\">0.0762937</td></tr>\n",
       "<tr><td>train_model_bc3c6d64</td><td style=\"text-align: right;\">0.00530867</td><td style=\"text-align: right;\">0.793077</td><td style=\"text-align: right;\">0.0693079</td></tr>\n",
       "<tr><td>train_model_bd91a5c5</td><td style=\"text-align: right;\">0.00702321</td><td style=\"text-align: right;\">0.611356</td><td style=\"text-align: right;\">0.0817575</td></tr>\n",
       "<tr><td>train_model_beb68486</td><td style=\"text-align: right;\">0.00559428</td><td style=\"text-align: right;\">0.798425</td><td style=\"text-align: right;\">0.0730904</td></tr>\n",
       "<tr><td>train_model_c05989c1</td><td style=\"text-align: right;\">0.00695467</td><td style=\"text-align: right;\">0.703877</td><td style=\"text-align: right;\">0.0805856</td></tr>\n",
       "<tr><td>train_model_c8426022</td><td style=\"text-align: right;\">0.00609691</td><td style=\"text-align: right;\">0.785787</td><td style=\"text-align: right;\">0.0763616</td></tr>\n",
       "<tr><td>train_model_c9a8417c</td><td style=\"text-align: right;\">0.00480793</td><td style=\"text-align: right;\">0.789529</td><td style=\"text-align: right;\">0.0671617</td></tr>\n",
       "<tr><td>train_model_cf259846</td><td style=\"text-align: right;\">0.00727383</td><td style=\"text-align: right;\">0.787815</td><td style=\"text-align: right;\">0.0832691</td></tr>\n",
       "<tr><td>train_model_da32382d</td><td style=\"text-align: right;\">0.00545515</td><td style=\"text-align: right;\">0.644413</td><td style=\"text-align: right;\">0.0714564</td></tr>\n",
       "<tr><td>train_model_dca26731</td><td style=\"text-align: right;\">0.00862488</td><td style=\"text-align: right;\">0.549275</td><td style=\"text-align: right;\">0.0907063</td></tr>\n",
       "<tr><td>train_model_e4dd76f0</td><td style=\"text-align: right;\">0.0066548 </td><td style=\"text-align: right;\">0.326545</td><td style=\"text-align: right;\">0.0802986</td></tr>\n",
       "<tr><td>train_model_e66233e9</td><td style=\"text-align: right;\">0.00549606</td><td style=\"text-align: right;\">0.658371</td><td style=\"text-align: right;\">0.0715167</td></tr>\n",
       "<tr><td>train_model_e8035128</td><td style=\"text-align: right;\">0.00871613</td><td style=\"text-align: right;\">0.687804</td><td style=\"text-align: right;\">0.089163 </td></tr>\n",
       "<tr><td>train_model_ec239cf7</td><td style=\"text-align: right;\">0.00640902</td><td style=\"text-align: right;\">0.681653</td><td style=\"text-align: right;\">0.0787469</td></tr>\n",
       "<tr><td>train_model_ed1712c8</td><td style=\"text-align: right;\">0.00629712</td><td style=\"text-align: right;\">0.803013</td><td style=\"text-align: right;\">0.0775305</td></tr>\n",
       "<tr><td>train_model_f24e80cb</td><td style=\"text-align: right;\">0.00588142</td><td style=\"text-align: right;\">0.766374</td><td style=\"text-align: right;\">0.0751456</td></tr>\n",
       "<tr><td>train_model_f3e0dd9d</td><td style=\"text-align: right;\">0.00610941</td><td style=\"text-align: right;\">0.770471</td><td style=\"text-align: right;\">0.0767506</td></tr>\n",
       "<tr><td>train_model_f9ccd490</td><td style=\"text-align: right;\">0.00409881</td><td style=\"text-align: right;\">0.85999 </td><td style=\"text-align: right;\">0.0620904</td></tr>\n",
       "<tr><td>train_model_f9dca9bb</td><td style=\"text-align: right;\">0.00682853</td><td style=\"text-align: right;\">0.678829</td><td style=\"text-align: right;\">0.0809014</td></tr>\n",
       "<tr><td>train_model_fb558ff6</td><td style=\"text-align: right;\">0.00605454</td><td style=\"text-align: right;\">0.683963</td><td style=\"text-align: right;\">0.0740266</td></tr>\n",
       "</tbody>\n",
       "</table>\n",
       "</div>\n",
       "<style>\n",
       ".trialProgress {\n",
       "  display: flex;\n",
       "  flex-direction: column;\n",
       "  color: var(--jp-ui-font-color1);\n",
       "}\n",
       ".trialProgress h3 {\n",
       "  font-weight: bold;\n",
       "}\n",
       ".trialProgress td {\n",
       "  white-space: nowrap;\n",
       "}\n",
       "</style>\n"
      ],
      "text/plain": [
       "<IPython.core.display.HTML object>"
      ]
     },
     "metadata": {},
     "output_type": "display_data"
    },
    {
     "name": "stderr",
     "output_type": "stream",
     "text": [
      "\u001b[36m(func pid=9996)\u001b[0m D:\\bld\\apache-arrow_1692865689659\\work\\cpp\\src\\arrow\\filesystem\\s3fs.cc:2829:  arrow::fs::FinalizeS3 was not called even though S3 was initialized.  This could lead to a segmentation fault at exit\n",
      "\u001b[36m(func pid=19704)\u001b[0m D:\\bld\\apache-arrow_1692865689659\\work\\cpp\\src\\arrow\\filesystem\\s3fs.cc:2829:  arrow::fs::FinalizeS3 was not called even though S3 was initialized.  This could lead to a segmentation fault at exit\n",
      "\u001b[36m(func pid=18348)\u001b[0m D:\\bld\\apache-arrow_1692865689659\\work\\cpp\\src\\arrow\\filesystem\\s3fs.cc:2829:  arrow::fs::FinalizeS3 was not called even though S3 was initialized.  This could lead to a segmentation fault at exit\n",
      "\u001b[36m(func pid=3644)\u001b[0m D:\\bld\\apache-arrow_1692865689659\\work\\cpp\\src\\arrow\\filesystem\\s3fs.cc:2829:  arrow::fs::FinalizeS3 was not called even though S3 was initialized.  This could lead to a segmentation fault at exit\n",
      "\u001b[36m(func pid=12520)\u001b[0m D:\\bld\\apache-arrow_1692865689659\\work\\cpp\\src\\arrow\\filesystem\\s3fs.cc:2829:  arrow::fs::FinalizeS3 was not called even though S3 was initialized.  This could lead to a segmentation fault at exit\n",
      "\u001b[36m(func pid=19204)\u001b[0m D:\\bld\\apache-arrow_1692865689659\\work\\cpp\\src\\arrow\\filesystem\\s3fs.cc:2829:  arrow::fs::FinalizeS3 was not called even though S3 was initialized.  This could lead to a segmentation fault at exit\n",
      "\u001b[36m(func pid=19584)\u001b[0m D:\\bld\\apache-arrow_1692865689659\\work\\cpp\\src\\arrow\\filesystem\\s3fs.cc:2829:  arrow::fs::FinalizeS3 was not called even though S3 was initialized.  This could lead to a segmentation fault at exit\n",
      "\u001b[36m(func pid=6924)\u001b[0m D:\\bld\\apache-arrow_1692865689659\\work\\cpp\\src\\arrow\\filesystem\\s3fs.cc:2829:  arrow::fs::FinalizeS3 was not called even though S3 was initialized.  This could lead to a segmentation fault at exit\n",
      "\u001b[36m(func pid=632)\u001b[0m D:\\bld\\apache-arrow_1692865689659\\work\\cpp\\src\\arrow\\filesystem\\s3fs.cc:2829:  arrow::fs::FinalizeS3 was not called even though S3 was initialized.  This could lead to a segmentation fault at exit\n",
      "\u001b[36m(func pid=17148)\u001b[0m D:\\bld\\apache-arrow_1692865689659\\work\\cpp\\src\\arrow\\filesystem\\s3fs.cc:2829:  arrow::fs::FinalizeS3 was not called even though S3 was initialized.  This could lead to a segmentation fault at exit\n",
      "\u001b[36m(func pid=20248)\u001b[0m D:\\bld\\apache-arrow_1692865689659\\work\\cpp\\src\\arrow\\filesystem\\s3fs.cc:2829:  arrow::fs::FinalizeS3 was not called even though S3 was initialized.  This could lead to a segmentation fault at exit\n",
      "\u001b[36m(func pid=8940)\u001b[0m D:\\bld\\apache-arrow_1692865689659\\work\\cpp\\src\\arrow\\filesystem\\s3fs.cc:2829:  arrow::fs::FinalizeS3 was not called even though S3 was initialized.  This could lead to a segmentation fault at exit\n",
      "\u001b[36m(func pid=10032)\u001b[0m D:\\bld\\apache-arrow_1692865689659\\work\\cpp\\src\\arrow\\filesystem\\s3fs.cc:2829:  arrow::fs::FinalizeS3 was not called even though S3 was initialized.  This could lead to a segmentation fault at exit\n",
      "\u001b[36m(func pid=12908)\u001b[0m D:\\bld\\apache-arrow_1692865689659\\work\\cpp\\src\\arrow\\filesystem\\s3fs.cc:2829:  arrow::fs::FinalizeS3 was not called even though S3 was initialized.  This could lead to a segmentation fault at exit\n",
      "\u001b[36m(func pid=14952)\u001b[0m D:\\bld\\apache-arrow_1692865689659\\work\\cpp\\src\\arrow\\filesystem\\s3fs.cc:2829:  arrow::fs::FinalizeS3 was not called even though S3 was initialized.  This could lead to a segmentation fault at exit\n",
      "\u001b[36m(func pid=13032)\u001b[0m D:\\bld\\apache-arrow_1692865689659\\work\\cpp\\src\\arrow\\filesystem\\s3fs.cc:2829:  arrow::fs::FinalizeS3 was not called even though S3 was initialized.  This could lead to a segmentation fault at exit\n",
      "\u001b[36m(func pid=12564)\u001b[0m D:\\bld\\apache-arrow_1692865689659\\work\\cpp\\src\\arrow\\filesystem\\s3fs.cc:2829:  arrow::fs::FinalizeS3 was not called even though S3 was initialized.  This could lead to a segmentation fault at exit\n",
      "\u001b[36m(func pid=18168)\u001b[0m D:\\bld\\apache-arrow_1692865689659\\work\\cpp\\src\\arrow\\filesystem\\s3fs.cc:2829:  arrow::fs::FinalizeS3 was not called even though S3 was initialized.  This could lead to a segmentation fault at exit\n",
      "\u001b[36m(func pid=16212)\u001b[0m D:\\bld\\apache-arrow_1692865689659\\work\\cpp\\src\\arrow\\filesystem\\s3fs.cc:2829:  arrow::fs::FinalizeS3 was not called even though S3 was initialized.  This could lead to a segmentation fault at exit\n",
      "\u001b[36m(func pid=20028)\u001b[0m D:\\bld\\apache-arrow_1692865689659\\work\\cpp\\src\\arrow\\filesystem\\s3fs.cc:2829:  arrow::fs::FinalizeS3 was not called even though S3 was initialized.  This could lead to a segmentation fault at exit\n",
      "\u001b[36m(func pid=14104)\u001b[0m D:\\bld\\apache-arrow_1692865689659\\work\\cpp\\src\\arrow\\filesystem\\s3fs.cc:2829:  arrow::fs::FinalizeS3 was not called even though S3 was initialized.  This could lead to a segmentation fault at exit\n",
      "\u001b[36m(func pid=2452)\u001b[0m D:\\bld\\apache-arrow_1692865689659\\work\\cpp\\src\\arrow\\filesystem\\s3fs.cc:2829:  arrow::fs::FinalizeS3 was not called even though S3 was initialized.  This could lead to a segmentation fault at exit\n",
      "\u001b[36m(func pid=13752)\u001b[0m D:\\bld\\apache-arrow_1692865689659\\work\\cpp\\src\\arrow\\filesystem\\s3fs.cc:2829:  arrow::fs::FinalizeS3 was not called even though S3 was initialized.  This could lead to a segmentation fault at exit\n",
      "\u001b[36m(func pid=18948)\u001b[0m D:\\bld\\apache-arrow_1692865689659\\work\\cpp\\src\\arrow\\filesystem\\s3fs.cc:2829:  arrow::fs::FinalizeS3 was not called even though S3 was initialized.  This could lead to a segmentation fault at exit\n",
      "\u001b[36m(func pid=17080)\u001b[0m D:\\bld\\apache-arrow_1692865689659\\work\\cpp\\src\\arrow\\filesystem\\s3fs.cc:2829:  arrow::fs::FinalizeS3 was not called even though S3 was initialized.  This could lead to a segmentation fault at exit\n",
      "\u001b[36m(func pid=5652)\u001b[0m D:\\bld\\apache-arrow_1692865689659\\work\\cpp\\src\\arrow\\filesystem\\s3fs.cc:2829:  arrow::fs::FinalizeS3 was not called even though S3 was initialized.  This could lead to a segmentation fault at exit\n",
      "\u001b[36m(func pid=14916)\u001b[0m D:\\bld\\apache-arrow_1692865689659\\work\\cpp\\src\\arrow\\filesystem\\s3fs.cc:2829:  arrow::fs::FinalizeS3 was not called even though S3 was initialized.  This could lead to a segmentation fault at exit\n",
      "\u001b[36m(func pid=3600)\u001b[0m D:\\bld\\apache-arrow_1692865689659\\work\\cpp\\src\\arrow\\filesystem\\s3fs.cc:2829:  arrow::fs::FinalizeS3 was not called even though S3 was initialized.  This could lead to a segmentation fault at exit\n",
      "\u001b[36m(func pid=4316)\u001b[0m D:\\bld\\apache-arrow_1692865689659\\work\\cpp\\src\\arrow\\filesystem\\s3fs.cc:2829:  arrow::fs::FinalizeS3 was not called even though S3 was initialized.  This could lead to a segmentation fault at exit\n",
      "\u001b[36m(func pid=19640)\u001b[0m D:\\bld\\apache-arrow_1692865689659\\work\\cpp\\src\\arrow\\filesystem\\s3fs.cc:2829:  arrow::fs::FinalizeS3 was not called even though S3 was initialized.  This could lead to a segmentation fault at exit\n",
      "\u001b[36m(func pid=12076)\u001b[0m D:\\bld\\apache-arrow_1692865689659\\work\\cpp\\src\\arrow\\filesystem\\s3fs.cc:2829:  arrow::fs::FinalizeS3 was not called even though S3 was initialized.  This could lead to a segmentation fault at exit\n",
      "\u001b[36m(func pid=19840)\u001b[0m D:\\bld\\apache-arrow_1692865689659\\work\\cpp\\src\\arrow\\filesystem\\s3fs.cc:2829:  arrow::fs::FinalizeS3 was not called even though S3 was initialized.  This could lead to a segmentation fault at exit\n",
      "\u001b[36m(func pid=19920)\u001b[0m D:\\bld\\apache-arrow_1692865689659\\work\\cpp\\src\\arrow\\filesystem\\s3fs.cc:2829:  arrow::fs::FinalizeS3 was not called even though S3 was initialized.  This could lead to a segmentation fault at exit\n",
      "\u001b[36m(func pid=12396)\u001b[0m D:\\bld\\apache-arrow_1692865689659\\work\\cpp\\src\\arrow\\filesystem\\s3fs.cc:2829:  arrow::fs::FinalizeS3 was not called even though S3 was initialized.  This could lead to a segmentation fault at exit\n",
      "\u001b[36m(func pid=15244)\u001b[0m D:\\bld\\apache-arrow_1692865689659\\work\\cpp\\src\\arrow\\filesystem\\s3fs.cc:2829:  arrow::fs::FinalizeS3 was not called even though S3 was initialized.  This could lead to a segmentation fault at exit\n",
      "\u001b[36m(func pid=2100)\u001b[0m D:\\bld\\apache-arrow_1692865689659\\work\\cpp\\src\\arrow\\filesystem\\s3fs.cc:2829:  arrow::fs::FinalizeS3 was not called even though S3 was initialized.  This could lead to a segmentation fault at exit\n",
      "\u001b[36m(func pid=920)\u001b[0m D:\\bld\\apache-arrow_1692865689659\\work\\cpp\\src\\arrow\\filesystem\\s3fs.cc:2829:  arrow::fs::FinalizeS3 was not called even though S3 was initialized.  This could lead to a segmentation fault at exit\n",
      "\u001b[36m(func pid=12908)\u001b[0m D:\\bld\\apache-arrow_1692865689659\\work\\cpp\\src\\arrow\\filesystem\\s3fs.cc:2829:  arrow::fs::FinalizeS3 was not called even though S3 was initialized.  This could lead to a segmentation fault at exit\n",
      "\u001b[36m(func pid=7900)\u001b[0m D:\\bld\\apache-arrow_1692865689659\\work\\cpp\\src\\arrow\\filesystem\\s3fs.cc:2829:  arrow::fs::FinalizeS3 was not called even though S3 was initialized.  This could lead to a segmentation fault at exit\n",
      "\u001b[36m(func pid=16188)\u001b[0m D:\\bld\\apache-arrow_1692865689659\\work\\cpp\\src\\arrow\\filesystem\\s3fs.cc:2829:  arrow::fs::FinalizeS3 was not called even though S3 was initialized.  This could lead to a segmentation fault at exit\n",
      "\u001b[36m(func pid=12424)\u001b[0m D:\\bld\\apache-arrow_1692865689659\\work\\cpp\\src\\arrow\\filesystem\\s3fs.cc:2829:  arrow::fs::FinalizeS3 was not called even though S3 was initialized.  This could lead to a segmentation fault at exit\n",
      "\u001b[36m(func pid=16104)\u001b[0m D:\\bld\\apache-arrow_1692865689659\\work\\cpp\\src\\arrow\\filesystem\\s3fs.cc:2829:  arrow::fs::FinalizeS3 was not called even though S3 was initialized.  This could lead to a segmentation fault at exit\n",
      "\u001b[36m(func pid=10204)\u001b[0m D:\\bld\\apache-arrow_1692865689659\\work\\cpp\\src\\arrow\\filesystem\\s3fs.cc:2829:  arrow::fs::FinalizeS3 was not called even though S3 was initialized.  This could lead to a segmentation fault at exit\n",
      "\u001b[36m(func pid=3128)\u001b[0m D:\\bld\\apache-arrow_1692865689659\\work\\cpp\\src\\arrow\\filesystem\\s3fs.cc:2829:  arrow::fs::FinalizeS3 was not called even though S3 was initialized.  This could lead to a segmentation fault at exit\n",
      "\u001b[36m(func pid=15456)\u001b[0m D:\\bld\\apache-arrow_1692865689659\\work\\cpp\\src\\arrow\\filesystem\\s3fs.cc:2829:  arrow::fs::FinalizeS3 was not called even though S3 was initialized.  This could lead to a segmentation fault at exit\n",
      "\u001b[36m(func pid=19840)\u001b[0m D:\\bld\\apache-arrow_1692865689659\\work\\cpp\\src\\arrow\\filesystem\\s3fs.cc:2829:  arrow::fs::FinalizeS3 was not called even though S3 was initialized.  This could lead to a segmentation fault at exit\n",
      "2025-01-10 22:51:08,369\tINFO tune.py:1009 -- Wrote the latest version of all result files and experiment state to 'C:/Users/Timur/ray_results/train_model_2025-01-10_22-31-02' in 0.0735s.\n",
      "2025-01-10 22:51:08,387\tINFO tune.py:1041 -- Total run time: 1205.56 seconds (1205.28 seconds for the tuning loop).\n"
     ]
    }
   ],
   "source": [
    "result = tune.run(partial(train_model), search_alg= hyperopt, config = config, num_samples = 50, scheduler = scheduler, resources_per_trial={\"gpu\": 1})"
   ]
  },
  {
   "cell_type": "code",
   "execution_count": 11,
   "id": "9f2e8946-9076-4737-ab83-ed68d8ed78a7",
   "metadata": {},
   "outputs": [],
   "source": [
    "with open('run_result.pickle', 'wb') as output:\n",
    "    pickle.dump(result, output)"
   ]
  },
  {
   "cell_type": "code",
   "execution_count": 18,
   "id": "475c3382-82c2-4f66-8d02-ee70e2bda667",
   "metadata": {},
   "outputs": [],
   "source": [
    "with open('run_result.pickle', 'rb') as inp:\n",
    "    result = pickle.load(inp)"
   ]
  },
  {
   "cell_type": "code",
   "execution_count": 12,
   "id": "454586ad-327b-42c1-b6dd-cf9423c624b1",
   "metadata": {},
   "outputs": [],
   "source": [
    "best_config = result.get_best_config(metric = 'rmse', mode = 'min')"
   ]
  },
  {
   "cell_type": "code",
   "execution_count": 14,
   "id": "bd74470b-d11a-405e-bf31-b595fe2db557",
   "metadata": {},
   "outputs": [
    {
     "name": "stdout",
     "output_type": "stream",
     "text": [
      "Finished training\n"
     ]
    }
   ],
   "source": [
    "model_omega, column_transformer = train_model(config = best_config, is_tune = False)"
   ]
  },
  {
   "cell_type": "code",
   "execution_count": 23,
   "id": "1c0d4f09-3310-4250-862c-29a78c1197e6",
   "metadata": {},
   "outputs": [
    {
     "name": "stdout",
     "output_type": "stream",
     "text": [
      "R2 score is 0.7974129915237427.\n",
      "RMSE score is 0.07805970311164856.\n"
     ]
    }
   ],
   "source": [
    "model_omega.eval()\n",
    "pred = model_omega(X_test.tensors[0].to('cuda:0')).squeeze().detach().cpu().numpy()\n",
    "print('R2 score is {}.'.format(r2_score(pred, X_test.tensors[1].cpu().numpy())))\n",
    "print('RMSE score is {}.'.format(root_mean_squared_error(pred, X_test.tensors[1].cpu().numpy())))"
   ]
  },
  {
   "cell_type": "code",
   "execution_count": 16,
   "id": "28ef52b9-1bc5-427a-83f4-3682bbbdbd9c",
   "metadata": {},
   "outputs": [],
   "source": [
    "torch.save(model_omega, 'omega_model.pth')"
   ]
  },
  {
   "cell_type": "code",
   "execution_count": 17,
   "id": "67a1f6cc-d0a3-43ec-a159-72605e608745",
   "metadata": {},
   "outputs": [],
   "source": [
    "with open('column_transformer_omega.pickle', 'wb') as output:\n",
    "    pickle.dump(column_transformer, output)"
   ]
  }
 ],
 "metadata": {
  "kernelspec": {
   "display_name": "Python 3 (ipykernel)",
   "language": "python",
   "name": "python3"
  },
  "language_info": {
   "codemirror_mode": {
    "name": "ipython",
    "version": 3
   },
   "file_extension": ".py",
   "mimetype": "text/x-python",
   "name": "python",
   "nbconvert_exporter": "python",
   "pygments_lexer": "ipython3",
   "version": "3.11.9"
  }
 },
 "nbformat": 4,
 "nbformat_minor": 5
}
