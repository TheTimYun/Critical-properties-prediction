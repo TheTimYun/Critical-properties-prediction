{
 "cells": [
  {
   "cell_type": "code",
   "execution_count": 1,
   "id": "afa5289a-3bba-4ce5-ba4a-fc7c5aa0b8ae",
   "metadata": {},
   "outputs": [],
   "source": [
    "from sklearn.compose import ColumnTransformer\n",
    "from sklearn.preprocessing import MinMaxScaler\n",
    "from sklearn.model_selection import train_test_split\n",
    "import pandas as pd\n",
    "import numpy as np\n",
    "import torch.nn as nn\n",
    "import torch\n",
    "from torch.nn import MSELoss\n",
    "from torch.utils.data import TensorDataset, DataLoader\n",
    "from tqdm import tqdm\n",
    "from sklearn.metrics import r2_score, root_mean_squared_error\n",
    "import wandb\n",
    "import seaborn as sns"
   ]
  },
  {
   "cell_type": "code",
   "execution_count": 2,
   "id": "04d0782e-fa67-4d2e-982f-5d2e256600b5",
   "metadata": {},
   "outputs": [
    {
     "name": "stderr",
     "output_type": "stream",
     "text": [
      "Failed to detect the name of this notebook, you can set it manually with the WANDB_NOTEBOOK_NAME environment variable to enable code saving.\n",
      "wandb: Using wandb-core as the SDK backend.  Please refer to https://wandb.me/wandb-core for more information.\n",
      "wandb: Currently logged in as: timyun. Use `wandb login --relogin` to force relogin\n",
      "wandb: WARNING If you're specifying your api key in code, ensure this code is not shared publicly.\n",
      "wandb: WARNING Consider setting the WANDB_API_KEY environment variable, or running `wandb login` from the command line.\n",
      "wandb: Appending key for api.wandb.ai to your netrc file: C:\\Users\\Timur\\.netrc\n"
     ]
    },
    {
     "data": {
      "text/plain": [
       "True"
      ]
     },
     "execution_count": 2,
     "metadata": {},
     "output_type": "execute_result"
    }
   ],
   "source": [
    "wandb.login(key = '32fdd85d94d1d691086ba1adae4171709b3cdc5d')"
   ]
  },
  {
   "cell_type": "code",
   "execution_count": 3,
   "id": "44f7d76f-d6c9-434d-9c3d-9ad9ba082dc3",
   "metadata": {},
   "outputs": [],
   "source": [
    "descriptors = pd.read_csv('table_with_desriptors.csv', index_col = 0)"
   ]
  },
  {
   "cell_type": "code",
   "execution_count": 4,
   "id": "e93955fa-fe83-41b8-ae5d-87609b8a6086",
   "metadata": {},
   "outputs": [],
   "source": [
    "descriptors = descriptors[~descriptors['omega'].isnull()]\n",
    "y = descriptors['omega']\n",
    "descriptors = descriptors.drop(columns = ['SMILES', 'Tc', 'Pc', 'omega', 'mol'])"
   ]
  },
  {
   "cell_type": "code",
   "execution_count": 5,
   "id": "2abc3409-4968-4a5f-84eb-f90aa7ff162a",
   "metadata": {},
   "outputs": [
    {
     "data": {
      "text/plain": [
       "<Axes: ylabel='omega'>"
      ]
     },
     "execution_count": 5,
     "metadata": {},
     "output_type": "execute_result"
    },
    {
     "data": {
      "image/png": "[encoded data removed]",
      "text/plain": [
       "<Figure size 640x480 with 1 Axes>"
      ]
     },
     "metadata": {},
     "output_type": "display_data"
    }
   ],
   "source": [
    "sns.violinplot(data = y)"
   ]
  },
  {
   "cell_type": "code",
   "execution_count": 6,
   "id": "c84f32c9-1762-4d23-8bd8-c33292de851a",
   "metadata": {},
   "outputs": [
    {
     "name": "stdout",
     "output_type": "stream",
     "text": [
      "count    5180.000000\n",
      "mean        0.523591\n",
      "std         0.243331\n",
      "min         0.009550\n",
      "25%         0.352000\n",
      "50%         0.461000\n",
      "75%         0.670225\n",
      "max         2.389000\n",
      "Name: omega, dtype: float64\n",
      "95% quantile is 0.9690500000000002\n"
     ]
    }
   ],
   "source": [
    "print(y.describe())\n",
    "quant_95 = y.quantile(q = 0.95)\n",
    "print('95% quantile is {}'.format(quant_95))"
   ]
  },
  {
   "cell_type": "code",
   "execution_count": 7,
   "id": "d9bc4e76-3e18-4630-be3b-8a9a6d7d62f5",
   "metadata": {},
   "outputs": [],
   "source": [
    "mask = y < quant_95\n",
    "descriptors = descriptors[mask]\n",
    "y = y[mask]\n",
    "X_train, X_test, y_train, y_test = train_test_split(descriptors, y, test_size = 0.15, random_state=0)\n",
    "X_train, X_valid, y_train, y_valid = train_test_split(X_train, y_train, test_size = 0.15, random_state = 0)"
   ]
  },
  {
   "cell_type": "code",
   "execution_count": 8,
   "id": "7cea3c57-b7a9-435b-9061-e275563bdcc0",
   "metadata": {},
   "outputs": [],
   "source": [
    "columns_to_scale = list(X_train.columns[:156])\n",
    "ct = ColumnTransformer([('Scaler', MinMaxScaler(),columns_to_scale)], remainder= 'passthrough')\n",
    "X_train = ct.fit_transform(X_train)\n",
    "X_test = ct.transform(X_test)\n",
    "X_valid = ct.transform(X_valid)"
   ]
  },
  {
   "cell_type": "code",
   "execution_count": 9,
   "id": "e05b15f2-7ce4-42a0-b000-c1049e363625",
   "metadata": {},
   "outputs": [],
   "source": [
    "X_train_ds = TensorDataset(torch.tensor(X_train, dtype = torch.float32), torch.tensor(y_train.values, dtype = torch.float32))\n",
    "X_test_ds = TensorDataset(torch.tensor(X_test, dtype = torch.float32), torch.tensor(y_test.values, dtype = torch.float32))\n",
    "X_valid_ds = TensorDataset(torch.tensor(X_valid, dtype = torch.float32), torch.tensor(y_valid.values, dtype = torch.float32))\n"
   ]
  },
  {
   "cell_type": "code",
   "execution_count": 10,
   "id": "98930995-eaee-48f4-bdb5-bc95e2e5acf6",
   "metadata": {},
   "outputs": [],
   "source": [
    "torch.manual_seed(1)\n",
    "batch_size = 24\n",
    "X_train_dl = DataLoader(X_train_ds, shuffle = True, batch_size = batch_size)\n",
    "X_valid_dl = DataLoader(X_valid_ds, shuffle = True, batch_size = batch_size)"
   ]
  },
  {
   "cell_type": "code",
   "execution_count": 64,
   "id": "58e0fa64-0bde-43e6-9fbb-c5e2c6e0e819",
   "metadata": {},
   "outputs": [],
   "source": [
    "class MyModel(nn.Module):\n",
    "    def __init__(self, input_size):\n",
    "        super().__init__()\n",
    "        self.input_size = input_size\n",
    "        self.linear_1 = nn.Linear(self.input_size, round(self.input_size))\n",
    "        self.a1 = nn.GELU(approximate='tanh')\n",
    "        self.dropout_1 = nn.Dropout(p = 0.3)\n",
    "        self.linear_2 = nn.Linear(round(self.input_size), 1)\n",
    "        #self.a2 = nn.LeakyReLU(negative_slope = 0.01)\n",
    "        #self.dropout_2 = nn.Dropout(p = 0.3)\n",
    "        #self.linear_3 = nn.Linear(round(self.input_size), 1)\n",
    "        #self.a3 = nn.LeakyReLU(negative_slope = 0.01)\n",
    "        #self.dropout_3 = nn.Dropout(p = 0.3)\n",
    "        #self.linear_4 = nn.Linear(round(self.input_size), 1)\n",
    "        \n",
    "    \n",
    "    def forward(self, x):\n",
    "        x = self.linear_1(x)\n",
    "        x = self.a1(x)\n",
    "        x = self.dropout_1(x)\n",
    "        x = self.linear_2(x)\n",
    "       # x = self.a2(x)\n",
    "       # x = self.dropout_2(x)\n",
    "       # x = self.linear_3(x)\n",
    "       # x = self.a3(x)\n",
    "       # x = self.dropout_3(x)\n",
    "       # x = self.linear_4(x)\n",
    "        return x\n",
    "model = MyModel(X_train.shape[1])"
   ]
  },
  {
   "cell_type": "code",
   "execution_count": 65,
   "id": "e1a9c913-a3b3-4ea5-899d-a6e8791c39cc",
   "metadata": {},
   "outputs": [
    {
     "data": {
      "text/html": [
       "Tracking run with wandb version 0.18.7"
      ],
      "text/plain": [
       "<IPython.core.display.HTML object>"
      ]
     },
     "metadata": {},
     "output_type": "display_data"
    },
    {
     "data": {
      "text/html": [
       "Run data is saved locally in <code>C:\\Users\\Timur\\Cheminformatics\\Practice\\Critical properties prediction\\wandb\\run-20250109_212952-ol2mz3lm</code>"
      ],
      "text/plain": [
       "<IPython.core.display.HTML object>"
      ]
     },
     "metadata": {},
     "output_type": "display_data"
    },
    {
     "data": {
      "text/html": [
       "Syncing run <strong><a href='https://wandb.ai/timyun/omega_prediction/runs/ol2mz3lm' target=\"_blank\">crimson-cherry-29</a></strong> to <a href='https://wandb.ai/timyun/omega_prediction' target=\"_blank\">Weights & Biases</a> (<a href='https://wandb.me/developer-guide' target=\"_blank\">docs</a>)<br/>"
      ],
      "text/plain": [
       "<IPython.core.display.HTML object>"
      ]
     },
     "metadata": {},
     "output_type": "display_data"
    },
    {
     "data": {
      "text/html": [
       " View project at <a href='https://wandb.ai/timyun/omega_prediction' target=\"_blank\">https://wandb.ai/timyun/omega_prediction</a>"
      ],
      "text/plain": [
       "<IPython.core.display.HTML object>"
      ]
     },
     "metadata": {},
     "output_type": "display_data"
    },
    {
     "data": {
      "text/html": [
       " View run at <a href='https://wandb.ai/timyun/omega_prediction/runs/ol2mz3lm' target=\"_blank\">https://wandb.ai/timyun/omega_prediction/runs/ol2mz3lm</a>"
      ],
      "text/plain": [
       "<IPython.core.display.HTML object>"
      ]
     },
     "metadata": {},
     "output_type": "display_data"
    },
    {
     "data": {
      "text/html": [
       "<button onClick=\"this.nextSibling.style.display='block';this.style.display='none';\">Display W&B run</button><iframe src='https://wandb.ai/timyun/omega_prediction/runs/ol2mz3lm?jupyter=true' style='border:none;width:100%;height:420px;display:none;'></iframe>"
      ],
      "text/plain": [
       "<wandb.sdk.wandb_run.Run at 0x1431d032c10>"
      ]
     },
     "execution_count": 65,
     "metadata": {},
     "output_type": "execute_result"
    }
   ],
   "source": [
    "lr = 0.0005\n",
    "model = MyModel(X_train.shape[1])\n",
    "model = model.to('cuda:0')\n",
    "loss_fn = MSELoss()\n",
    "optimizer = torch.optim.Adam(model.parameters(), lr = lr, weight_decay = 1e-4)\n",
    "n_epochs = 200\n",
    "\n",
    "wandb.init(project = 'omega_prediction', \n",
    "           config = {'learning_rate':lr,\n",
    "                     'acrhitecture':'2204 -> 2204  -> GELU (approximate - tanh)  -> dropout -> 1',\n",
    "                     'dataset':'custom_dataset',\n",
    "                     'epochs':n_epochs})"
   ]
  },
  {
   "cell_type": "code",
   "execution_count": 66,
   "id": "6890f89a-ca0d-4e50-9f08-d6fc7d4e68e6",
   "metadata": {},
   "outputs": [
    {
     "name": "stdout",
     "output_type": "stream",
     "text": [
      "Эпоха 0, ошибка тестирования - 0.016785008964072538, ошибка валидации - 0.0017087342820736586\n",
      "Эпоха 10, ошибка тестирования - 0.005063929111421758, ошибка валидации - 0.0010812729393950844\n",
      "Эпоха 20, ошибка тестирования - 0.0046637794768575255, ошибка валидации - 0.0011106467049493886\n",
      "Эпоха 30, ошибка тестирования - 0.004277835311774389, ошибка валидации - 0.0010212756847281434\n",
      "Эпоха 40, ошибка тестирования - 0.004161576608402167, ошибка валидации - 0.001437168313665378\n",
      "Эпоха 50, ошибка тестирования - 0.003956974066025108, ошибка валидации - 0.0010666516062572298\n",
      "Эпоха 60, ошибка тестирования - 0.0038200845721571538, ошибка валидации - 0.0010657383007116165\n",
      "Эпоха 70, ошибка тестирования - 0.0040249829211791086, ошибка валидации - 0.0010146445449404169\n",
      "Эпоха 80, ошибка тестирования - 0.003643404109553503, ошибка валидации - 0.0010444671493773693\n",
      "Эпоха 90, ошибка тестирования - 0.003598467359356832, ошибка валидации - 0.0014194099032538848\n",
      "Эпоха 100, ошибка тестирования - 0.003479169333203627, ошибка валидации - 0.0009938120809164924\n",
      "Эпоха 110, ошибка тестирования - 0.003506891884147221, ошибка валидации - 0.0010617078381946823\n",
      "Эпоха 120, ошибка тестирования - 0.003387788975542574, ошибка валидации - 0.0013240980368807611\n",
      "Эпоха 130, ошибка тестирования - 0.003261222740035229, ошибка валидации - 0.0010164979464005704\n",
      "Эпоха 140, ошибка тестирования - 0.0032457241619743356, ошибка валидации - 0.0010975829744398994\n",
      "Эпоха 150, ошибка тестирования - 0.003549148113741821, ошибка валидации - 0.0009780526098688977\n",
      "Эпоха 160, ошибка тестирования - 0.0036417232043478615, ошибка валидации - 0.0010198466589161814\n",
      "Эпоха 170, ошибка тестирования - 0.0030986313924842653, ошибка валидации - 0.001011415432369799\n",
      "Эпоха 180, ошибка тестирования - 0.0032110337196105477, ошибка валидации - 0.0009840521336401868\n",
      "Эпоха 190, ошибка тестирования - 0.003201523500095409, ошибка валидации - 0.0012055675111611018\n"
     ]
    },
    {
     "data": {
      "text/html": [
       "\n",
       "    <style>\n",
       "        .wandb-row {\n",
       "            display: flex;\n",
       "            flex-direction: row;\n",
       "            flex-wrap: wrap;\n",
       "            justify-content: flex-start;\n",
       "            width: 100%;\n",
       "        }\n",
       "        .wandb-col {\n",
       "            display: flex;\n",
       "            flex-direction: column;\n",
       "            flex-basis: 100%;\n",
       "            flex: 1;\n",
       "            padding: 10px;\n",
       "        }\n",
       "    </style>\n",
       "<div class=\"wandb-row\"><div class=\"wandb-col\"><h3>Run history:</h3><br/><table class=\"wandb\"><tr><td>train_loss</td><td>█▂▂▂▂▂▂▂▂▁▂▁▁▁▁▁▁▁▁▁▁▁▁▁▁▁▁▁▁▁▁▁▁▁▁▁▁▁▁▁</td></tr><tr><td>train_rmse</td><td>█▇▇▆▅▄▄▄▄▃▃▄▃▂▃▂▃▂▂▂▂▁▁▁▁▂▂▂▁▂▁▁▁▁▁▁▁▁▂▁</td></tr><tr><td>valid_loss</td><td>█▂▆▃▃▃▃▂▂▄▃▂▁▁▂▂▁▃▂▁▃▂▂▄▁▆▅▁▂▂▃▂▂▁▃▁▂▁▁▁</td></tr><tr><td>valid_r2</td><td>▂▃▆▆▇▇▆▁▇▇▆▆▇▇▅▇█▇▆█▇▇▆▆█▆▆█▆▇▇▇██▇▆▆▇▇▇</td></tr><tr><td>valid_rmse</td><td>█▃▂▅▃▂▂▂▁▃▃▂▂▆▂▄▁▂▂▁▁▁▂▂▁▂▁▁▂▁▁▂▂▁▁▁▃▁▂▁</td></tr></table><br/></div><div class=\"wandb-col\"><h3>Run summary:</h3><br/><table class=\"wandb\"><tr><td>train_loss</td><td>0.00322</td></tr><tr><td>train_rmse</td><td>0.05672</td></tr><tr><td>valid_loss</td><td>0.00098</td></tr><tr><td>valid_r2</td><td>0.81114</td></tr><tr><td>valid_rmse</td><td>0.03136</td></tr></table><br/></div></div>"
      ],
      "text/plain": [
       "<IPython.core.display.HTML object>"
      ]
     },
     "metadata": {},
     "output_type": "display_data"
    },
    {
     "data": {
      "text/html": [
       " View run <strong style=\"color:#cdcd00\">crimson-cherry-29</strong> at: <a href='https://wandb.ai/timyun/omega_prediction/runs/ol2mz3lm' target=\"_blank\">https://wandb.ai/timyun/omega_prediction/runs/ol2mz3lm</a><br/> View project at: <a href='https://wandb.ai/timyun/omega_prediction' target=\"_blank\">https://wandb.ai/timyun/omega_prediction</a><br/>Synced 5 W&B file(s), 0 media file(s), 0 artifact file(s) and 0 other file(s)"
      ],
      "text/plain": [
       "<IPython.core.display.HTML object>"
      ]
     },
     "metadata": {},
     "output_type": "display_data"
    },
    {
     "data": {
      "text/html": [
       "Find logs at: <code>.\\wandb\\run-20250109_212952-ol2mz3lm\\logs</code>"
      ],
      "text/plain": [
       "<IPython.core.display.HTML object>"
      ]
     },
     "metadata": {},
     "output_type": "display_data"
    }
   ],
   "source": [
    "                   \n",
    "train_hist_loss = []\n",
    "valid_hist_loss = []\n",
    "for i in range(n_epochs):\n",
    "    model.train()\n",
    "    train_loss = 0\n",
    "    for X_b, y_b in X_train_dl:\n",
    "        X_b = X_b.to('cuda:0')\n",
    "        y_b = y_b.to('cuda:0')\n",
    "        pred = model(X_b)\n",
    "        loss = loss_fn(pred.squeeze(), y_b)\n",
    "        loss.backward()\n",
    "        optimizer.step()\n",
    "        optimizer.zero_grad()\n",
    "        train_loss += loss.item()\n",
    "    train_hist_loss.append(train_loss/len(X_train_dl))\n",
    "    wandb.log({'train_loss':train_hist_loss[-1], 'train_rmse':np.sqrt(train_hist_loss[-1])})\n",
    "    model.eval()\n",
    "    valid_loss = 0\n",
    "    for X_b, y_b in X_valid_dl:\n",
    "        X_b = X_b.to('cuda:0')\n",
    "        y_b = y_b.to('cuda:0')\n",
    "        pred = model(X_b)\n",
    "        loss = loss_fn(pred.squeeze(), y_b)\n",
    "        valid_loss += loss.item()\n",
    "    valid_hist_loss.append(valid_loss/len(X_train_dl))\n",
    "    res_valid = model(torch.tensor(X_valid, dtype = torch.float32).to('cuda:0'))\n",
    "    \n",
    "    wandb.log({'valid_loss':valid_hist_loss[-1], \n",
    "              'valid_rmse':np.sqrt(valid_hist_loss[-1]), \n",
    "               'valid_r2':(r2_score(res_valid.cpu().detach().numpy().squeeze(), y_valid))})\n",
    "    if (i%10 ==0):\n",
    "        print('Эпоха {}, ошибка тестирования - {}, ошибка валидации - {}'.format(i, train_hist_loss[-1], valid_hist_loss[-1]))           \n",
    "wandb.finish()"
   ]
  },
  {
   "cell_type": "code",
   "execution_count": 61,
   "id": "65b82225-6c9a-4abc-839b-d75987fdeb15",
   "metadata": {},
   "outputs": [],
   "source": [
    "import matplotlib.pyplot as plt"
   ]
  },
  {
   "cell_type": "code",
   "execution_count": 63,
   "id": "9af28803-fb8e-48c2-93b7-590020a6b6ff",
   "metadata": {},
   "outputs": [
    {
     "data": {
      "text/plain": [
       "(0.0, 1.0)"
      ]
     },
     "execution_count": 63,
     "metadata": {},
     "output_type": "execute_result"
    },
    {
     "data": {
      "image/png": "[encoded data removed]",
      "text/plain": [
       "<Figure size 640x480 with 1 Axes>"
      ]
     },
     "metadata": {},
     "output_type": "display_data"
    }
   ],
   "source": [
    "plt.scatter(model(X_test_ds.tensors[0].to('cuda:0')).detach().cpu().numpy(), y_test)\n",
    "plt.ylim(0,1)"
   ]
  }
 ],
 "metadata": {
  "kernelspec": {
   "display_name": "Python 3 (ipykernel)",
   "language": "python",
   "name": "python3"
  },
  "language_info": {
   "codemirror_mode": {
    "name": "ipython",
    "version": 3
   },
   "file_extension": ".py",
   "mimetype": "text/x-python",
   "name": "python",
   "nbconvert_exporter": "python",
   "pygments_lexer": "ipython3",
   "version": "3.11.9"
  }
 },
 "nbformat": 4,
 "nbformat_minor": 5
}
