{
 "cells": [
  {
   "cell_type": "code",
   "execution_count": 2,
   "id": "a025f317-642c-41d5-9d4d-3a27055ed548",
   "metadata": {},
   "outputs": [],
   "source": [
    "import pickle\n",
    "from rdkit import Chem\n",
    "from rdkit.Chem import Descriptors, AllChem\n",
    "import pandas as pd\n",
    "import numpy as np\n",
    "from rdkit.Chem import DataStructs\n",
    "from sklearn.impute import KNNImputer\n",
    "from sklearn.compose import ColumnTransformer\n",
    "import torch\n",
    "import torch.nn as nn\n"
   ]
  },
  {
   "cell_type": "code",
   "execution_count": 16,
   "id": "03ae5082-9454-4fe4-b9c7-1320d98c0541",
   "metadata": {},
   "outputs": [
    {
     "name": "stderr",
     "output_type": "stream",
     "text": [
      "C:\\Users\\Timur\\AppData\\Local\\Temp\\ipykernel_4216\\846250632.py:64: FutureWarning: You are using `torch.load` with `weights_only=False` (the current default value), which uses the default pickle module implicitly. It is possible to construct malicious pickle data which will execute arbitrary code during unpickling (See https://github.com/pytorch/pytorch/blob/main/SECURITY.md#untrusted-models for more details). In a future release, the default value for `weights_only` will be flipped to `True`. This limits the functions that could be executed during unpickling. Arbitrary objects will no longer be allowed to be loaded via this mode unless they are explicitly allowlisted by the user via `torch.serialization.add_safe_globals`. We recommend you start setting `weights_only=True` for any use case where you don't have full control of the loaded file. Please open an issue on GitHub for any issues related to this experimental feature.\n",
      "  omega_model = torch.load(inp)\n"
     ]
    }
   ],
   "source": [
    "with open('features_to_drop.pickle', 'rb') as inp:\n",
    "    features_to_drop = pickle.load(inp)\n",
    "\n",
    "\n",
    "with open('imputer.pickle', 'rb') as inp:\n",
    "    imputer = pickle.load(inp)\n",
    "    \n",
    "def mols_to_descriptors(list_of_mols):\n",
    "    descriptor_dict = {desc[0]:[] for desc in Descriptors.descList }\n",
    "    for mol in list_of_mols:\n",
    "        for descriptor, func in Descriptors.descList:\n",
    "            try:\n",
    "                descriptor_dict[descriptor].append(func(mol))\n",
    "            except:\n",
    "                descriptor_dict[descriptor].append(np.nan)\n",
    "    return pd.DataFrame(descriptor_dict)\n",
    "\n",
    "\n",
    "def mols_to_fingerprints(list_of_mols):\n",
    "    fp_list = []\n",
    "    for mol in list_of_mols:\n",
    "        fp = AllChem.GetMorganFingerprintAsBitVect(mol, radius = 3)\n",
    "        dest_array = np.zeros(2048)\n",
    "        DataStructs.ConvertToNumpyArray(fp, dest_array)\n",
    "        fp_list.append(dest_array)\n",
    "    return pd.DataFrame(np.stack(fp_list), columns = ['fp{}'.format(i) for i in range(2048)])\n",
    "    \n",
    "    \n",
    "def mol_to_final_descriptors(smi):\n",
    "    mol = Chem.MolFromSmiles(smi)\n",
    "    desc_df = mols_to_descriptors([mol])\n",
    "    desc_df = desc_df.drop(columns = features_to_drop)\n",
    "    desc_df_columns = desc_df.columns\n",
    "    desc_df = pd.DataFrame(imputer.transform(desc_df), columns = desc_df_columns)\n",
    "    fp_df = mols_to_fingerprints([mol])\n",
    "    concatenated_table = pd.concat([desc_df, fp_df], axis = 1)\n",
    "    return concatenated_table\n",
    "\n",
    "class MyModel(nn.Module):\n",
    "    def __init__(self, l1 = 2700, l2 = 900):\n",
    "        super().__init__()\n",
    "        self.linear_1 = nn.Linear(2204, l1)\n",
    "        self.a1 = nn.CELU(alpha = 0.01)\n",
    "        self.dropout_1 = nn.Dropout(p = 0.3)\n",
    "        self.linear_2 = nn.Linear(l1, l2)\n",
    "        self.a2 = nn.CELU(alpha = 0.01)\n",
    "        self.dropout_2 = nn.Dropout(p = 0.3)\n",
    "        self.linear_3 = nn.Linear(l2, 1)\n",
    "\n",
    "    def forward(self, x):\n",
    "        x = self.linear_1(x)\n",
    "        x = self.a1(x)\n",
    "        x = self.dropout_1(x)\n",
    "        x = self.linear_2(x)\n",
    "        x = self.a2(x)\n",
    "        x = self.dropout_2(x)\n",
    "        x = self.linear_3(x)\n",
    "        return x\n",
    "\n",
    "with open('./Omega predictions/column_transformer_omega.pickle', 'rb') as inp:    \n",
    "    ct_omega = pickle.load(inp)\n",
    "\n",
    "with open('./Omega predictions/omega_model.pth', 'rb') as inp:\n",
    "    omega_model = torch.load(inp)\n",
    "    omega_model.to('cpu')\n",
    "\n",
    "with open('./Critical pressure/column_transformer_Pc.pickle', 'rb') as inp:    \n",
    "    ct_Pc = pickle.load(inp)\n",
    "\n",
    "with open('./Critical pressure/model_1_dict_state.pth', 'rb') as inp:\n",
    "    pressure_model = MyModel()\n",
    "    pressure_model.load_state_dict(torch.load(inp, weights_only = True))\n",
    "\n",
    "with open('./Critical temperature/column_transformer_Tc.pickle', 'rb') as inp:    \n",
    "    ct_Tc = pickle.load(inp)\n",
    "\n",
    "with open('./Critical temperature/model_1_dict_state.pth', 'rb') as inp:\n",
    "    temperature_model = MyModel()\n",
    "    temperature_model.load_state_dict(torch.load(inp, weights_only = True))\n",
    "    "
   ]
  },
  {
   "cell_type": "code",
   "execution_count": 12,
   "id": "7e4fc073-a972-46b4-9787-7c4d8c43f902",
   "metadata": {},
   "outputs": [],
   "source": [
    "mol_to_final_descriptors('CCO')"
   ]
  },
  {
   "cell_type": "code",
   "execution_count": 19,
   "id": "508214a5-433b-455e-881b-20a98cfd38d9",
   "metadata": {},
   "outputs": [
    {
     "name": "stdin",
     "output_type": "stream",
     "text": [
      "Please, enter the SMILES of your molecule CC\n"
     ]
    },
    {
     "name": "stdout",
     "output_type": "stream",
     "text": [
      "Omega is equal to  0.1259722113609314\n",
      "Pc is equal to  45.95392990112305\n",
      "Tc is equal to  336.4429626464844\n"
     ]
    }
   ],
   "source": [
    "smiles = input('Please, enter the SMILES of your molecule')\n",
    "\n",
    "desc_df = mol_to_final_descriptors(smiles)\n",
    "omega_dataset = torch.Tensor(ct_omega.transform(desc_df))\n",
    "omega = omega_model(omega_dataset)\n",
    "print('Omega is equal to ', omega.item())\n",
    "pressure_dataset = torch.Tensor(ct_Pc.transform(desc_df))\n",
    "pressure = pressure_model(pressure_dataset)\n",
    "print('Pc is equal to ', pressure.item())\n",
    "temperature_dataset = torch.Tensor(ct_Tc.transform(desc_df))\n",
    "temperature = temperature_model(temperature_dataset)\n",
    "print('Tc is equal to ', temperature.item())\n"
   ]
  }
 ],
 "metadata": {
  "kernelspec": {
   "display_name": "Python 3 (ipykernel)",
   "language": "python",
   "name": "python3"
  },
  "language_info": {
   "codemirror_mode": {
    "name": "ipython",
    "version": 3
   },
   "file_extension": ".py",
   "mimetype": "text/x-python",
   "name": "python",
   "nbconvert_exporter": "python",
   "pygments_lexer": "ipython3",
   "version": "3.11.9"
  }
 },
 "nbformat": 4,
 "nbformat_minor": 5
}
